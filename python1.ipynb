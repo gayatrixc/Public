{
  "nbformat": 4,
  "nbformat_minor": 0,
  "metadata": {
    "colab": {
      "provenance": [],
      "authorship_tag": "ABX9TyNLqFHw9ASkXwqO2ZV17IcZ",
      "include_colab_link": true
    },
    "kernelspec": {
      "name": "python3",
      "display_name": "Python 3"
    },
    "language_info": {
      "name": "python"
    }
  },
  "cells": [
    {
      "cell_type": "markdown",
      "metadata": {
        "id": "view-in-github",
        "colab_type": "text"
      },
      "source": [
        "<a href=\"https://colab.research.google.com/github/gayatrixc/Public/blob/main/python1.ipynb\" target=\"_parent\"><img src=\"https://colab.research.google.com/assets/colab-badge.svg\" alt=\"Open In Colab\"/></a>"
      ]
    },
    {
      "cell_type": "code",
      "execution_count": null,
      "metadata": {
        "colab": {
          "base_uri": "https://localhost:8080/"
        },
        "id": "facajmHgUFo2",
        "outputId": "97ccfccb-8bbc-460c-9ddc-53581f379912"
      },
      "outputs": [
        {
          "output_type": "execute_result",
          "data": {
            "text/plain": [
              "5"
            ]
          },
          "metadata": {},
          "execution_count": 1
        }
      ],
      "source": [
        "2+3"
      ]
    },
    {
      "cell_type": "code",
      "source": [
        "9-3"
      ],
      "metadata": {
        "colab": {
          "base_uri": "https://localhost:8080/"
        },
        "id": "WO2dfZx6Ue2H",
        "outputId": "098f1b5e-b26a-48ab-b2c1-4bd4820d2453"
      },
      "execution_count": null,
      "outputs": [
        {
          "output_type": "execute_result",
          "data": {
            "text/plain": [
              "6"
            ]
          },
          "metadata": {},
          "execution_count": 2
        }
      ]
    },
    {
      "cell_type": "code",
      "source": [
        "8/4"
      ],
      "metadata": {
        "colab": {
          "base_uri": "https://localhost:8080/"
        },
        "id": "QrETyiRYUh2I",
        "outputId": "d975693c-2c25-4f58-ae31-ff5ba2cc5bd2"
      },
      "execution_count": null,
      "outputs": [
        {
          "output_type": "execute_result",
          "data": {
            "text/plain": [
              "2.0"
            ]
          },
          "metadata": {},
          "execution_count": 3
        }
      ]
    },
    {
      "cell_type": "code",
      "source": [
        "5/2"
      ],
      "metadata": {
        "colab": {
          "base_uri": "https://localhost:8080/"
        },
        "id": "djUaZnp4Uj0V",
        "outputId": "e43ffaa9-5209-41b4-ddf0-605813c23977"
      },
      "execution_count": null,
      "outputs": [
        {
          "output_type": "execute_result",
          "data": {
            "text/plain": [
              "2.5"
            ]
          },
          "metadata": {},
          "execution_count": 4
        }
      ]
    },
    {
      "cell_type": "code",
      "source": [
        "8+9-10\n"
      ],
      "metadata": {
        "colab": {
          "base_uri": "https://localhost:8080/"
        },
        "id": "8eiA5VOIUnWX",
        "outputId": "04ca65d5-8921-40de-9526-c51edc5f1ea8"
      },
      "execution_count": null,
      "outputs": [
        {
          "output_type": "execute_result",
          "data": {
            "text/plain": [
              "7"
            ]
          },
          "metadata": {},
          "execution_count": 6
        }
      ]
    },
    {
      "cell_type": "code",
      "source": [
        "(8+2)*3"
      ],
      "metadata": {
        "colab": {
          "base_uri": "https://localhost:8080/"
        },
        "id": "OpUBpRr5UtRR",
        "outputId": "c36ec310-ef2e-4182-8ede-183024f43ef4"
      },
      "execution_count": null,
      "outputs": [
        {
          "output_type": "execute_result",
          "data": {
            "text/plain": [
              "30"
            ]
          },
          "metadata": {},
          "execution_count": 7
        }
      ]
    },
    {
      "cell_type": "code",
      "source": [
        "2*2*2"
      ],
      "metadata": {
        "colab": {
          "base_uri": "https://localhost:8080/"
        },
        "id": "42dOdweLU7A8",
        "outputId": "fb378c3e-4829-4872-b421-d7683571d3ca"
      },
      "execution_count": null,
      "outputs": [
        {
          "output_type": "execute_result",
          "data": {
            "text/plain": [
              "8"
            ]
          },
          "metadata": {},
          "execution_count": 8
        }
      ]
    },
    {
      "cell_type": "code",
      "source": [
        "2**3"
      ],
      "metadata": {
        "colab": {
          "base_uri": "https://localhost:8080/"
        },
        "id": "hJUCoYztU_aV",
        "outputId": "fff5ec13-193d-462a-9f99-7da4548a5e5f"
      },
      "execution_count": null,
      "outputs": [
        {
          "output_type": "execute_result",
          "data": {
            "text/plain": [
              "8"
            ]
          },
          "metadata": {},
          "execution_count": 10
        }
      ]
    },
    {
      "cell_type": "code",
      "source": [
        "10//3"
      ],
      "metadata": {
        "colab": {
          "base_uri": "https://localhost:8080/"
        },
        "id": "nTxLJLD6VH2j",
        "outputId": "1bc6ea0f-7897-45f6-a246-51bf4a4c0a4d"
      },
      "execution_count": null,
      "outputs": [
        {
          "output_type": "execute_result",
          "data": {
            "text/plain": [
              "3"
            ]
          },
          "metadata": {},
          "execution_count": 14
        }
      ]
    },
    {
      "cell_type": "code",
      "source": [
        "10%3"
      ],
      "metadata": {
        "colab": {
          "base_uri": "https://localhost:8080/"
        },
        "id": "udpUH6ChVhZv",
        "outputId": "ce080ddf-3f43-4abe-e845-92861eb9c080"
      },
      "execution_count": null,
      "outputs": [
        {
          "output_type": "execute_result",
          "data": {
            "text/plain": [
              "1"
            ]
          },
          "metadata": {},
          "execution_count": 15
        }
      ]
    },
    {
      "cell_type": "code",
      "source": [
        "print(\"jaya 'system'\")"
      ],
      "metadata": {
        "colab": {
          "base_uri": "https://localhost:8080/"
        },
        "id": "4Ro0mcovWOXz",
        "outputId": "078599d1-7bd4-4db3-84dc-d9dc0096c8ba"
      },
      "execution_count": null,
      "outputs": [
        {
          "output_type": "stream",
          "name": "stdout",
          "text": [
            "jaya 'system'\n"
          ]
        }
      ]
    },
    {
      "cell_type": "code",
      "source": [
        "'jaya'+'jaya'\n"
      ],
      "metadata": {
        "colab": {
          "base_uri": "https://localhost:8080/",
          "height": 35
        },
        "id": "yMjJoBYLWaDd",
        "outputId": "08bb681b-18b5-4e41-bee5-f426cc44c0c8"
      },
      "execution_count": null,
      "outputs": [
        {
          "output_type": "execute_result",
          "data": {
            "text/plain": [
              "'jayajaya'"
            ],
            "application/vnd.google.colaboratory.intrinsic+json": {
              "type": "string"
            }
          },
          "metadata": {},
          "execution_count": 19
        }
      ]
    },
    {
      "cell_type": "code",
      "source": [
        "'jaya'"
      ],
      "metadata": {
        "colab": {
          "base_uri": "https://localhost:8080/",
          "height": 35
        },
        "id": "Jgbqg94NWlCG",
        "outputId": "a9c68dd3-6c51-4b11-f77a-988108fc0ab5"
      },
      "execution_count": null,
      "outputs": [
        {
          "output_type": "execute_result",
          "data": {
            "text/plain": [
              "'jaya'"
            ],
            "application/vnd.google.colaboratory.intrinsic+json": {
              "type": "string"
            }
          },
          "metadata": {},
          "execution_count": 20
        }
      ]
    },
    {
      "cell_type": "code",
      "source": [
        "6*'jaya'"
      ],
      "metadata": {
        "colab": {
          "base_uri": "https://localhost:8080/",
          "height": 35
        },
        "id": "OHkVSDORWnzJ",
        "outputId": "7d9cf28c-0006-4a03-a4f5-759d0696e919"
      },
      "execution_count": null,
      "outputs": [
        {
          "output_type": "execute_result",
          "data": {
            "text/plain": [
              "'jayajayajayajayajayajaya'"
            ],
            "application/vnd.google.colaboratory.intrinsic+json": {
              "type": "string"
            }
          },
          "metadata": {},
          "execution_count": 21
        }
      ]
    },
    {
      "cell_type": "code",
      "source": [
        "print('jaya')"
      ],
      "metadata": {
        "colab": {
          "base_uri": "https://localhost:8080/"
        },
        "id": "Bq4WqvryWrMu",
        "outputId": "8aa5593e-550e-4973-dabd-d67692335faa"
      },
      "execution_count": null,
      "outputs": [
        {
          "output_type": "stream",
          "name": "stdout",
          "text": [
            "jaya\n"
          ]
        }
      ]
    },
    {
      "cell_type": "code",
      "source": [
        "print(\"jaya's system\")"
      ],
      "metadata": {
        "colab": {
          "base_uri": "https://localhost:8080/"
        },
        "id": "ZoQbFgOeW_d_",
        "outputId": "ef1dc54b-7793-4b79-d097-58f7360a6ba9"
      },
      "execution_count": null,
      "outputs": [
        {
          "output_type": "stream",
          "name": "stdout",
          "text": [
            "jaya's system\n"
          ]
        }
      ]
    },
    {
      "cell_type": "code",
      "source": [
        "print('jaya\\nsystem')"
      ],
      "metadata": {
        "colab": {
          "base_uri": "https://localhost:8080/"
        },
        "id": "uN6wCsMnXGW4",
        "outputId": "f3b2e577-d65d-442c-e206-a85f2a37a085"
      },
      "execution_count": null,
      "outputs": [
        {
          "output_type": "stream",
          "name": "stdout",
          "text": [
            "jaya\n",
            "system\n"
          ]
        }
      ]
    },
    {
      "cell_type": "code",
      "source": [
        "a=10\n",
        "b=5\n",
        "result =a+b\n",
        "print(\"addition:\",result)"
      ],
      "metadata": {
        "colab": {
          "base_uri": "https://localhost:8080/"
        },
        "id": "CK1nDcPfXLxk",
        "outputId": "c04a2194-d245-4bda-8aea-6f572d9166c4"
      },
      "execution_count": null,
      "outputs": [
        {
          "output_type": "stream",
          "name": "stdout",
          "text": [
            "addition: 15\n"
          ]
        }
      ]
    },
    {
      "cell_type": "code",
      "source": [
        "a=10\n",
        "b=5\n",
        "result =a-b\n",
        "print(\"subtraction:\",result)"
      ],
      "metadata": {
        "colab": {
          "base_uri": "https://localhost:8080/"
        },
        "id": "Me6ebW2TXa6g",
        "outputId": "aa513a5e-c166-48d5-c30f-a3766c8fa607"
      },
      "execution_count": null,
      "outputs": [
        {
          "output_type": "stream",
          "name": "stdout",
          "text": [
            "subtraction: 5\n"
          ]
        }
      ]
    },
    {
      "cell_type": "code",
      "source": [
        "a=10\n",
        "b=5\n",
        "result =a*b\n",
        "print(\"multiplication:\",result)"
      ],
      "metadata": {
        "colab": {
          "base_uri": "https://localhost:8080/"
        },
        "id": "9BT6EV_3XmLG",
        "outputId": "04012ede-8671-4a0a-93d9-45d33688fed7"
      },
      "execution_count": null,
      "outputs": [
        {
          "output_type": "stream",
          "name": "stdout",
          "text": [
            "multiplication: 50\n"
          ]
        }
      ]
    },
    {
      "cell_type": "code",
      "source": [
        "a=10\n",
        "b=5\n",
        "result =a/b\n",
        "print(\"division:\",result)"
      ],
      "metadata": {
        "colab": {
          "base_uri": "https://localhost:8080/"
        },
        "id": "9VnVgLNdXpix",
        "outputId": "b8d23def-a752-474b-866c-feab9132e235"
      },
      "execution_count": null,
      "outputs": [
        {
          "output_type": "stream",
          "name": "stdout",
          "text": [
            "division: 2.0\n"
          ]
        }
      ]
    },
    {
      "cell_type": "code",
      "source": [
        "a=10\n",
        "b=5\n",
        "result =a//b\n",
        "print(\"integer devision:\",result)"
      ],
      "metadata": {
        "colab": {
          "base_uri": "https://localhost:8080/"
        },
        "id": "escYb2prXuBG",
        "outputId": "d6c38c93-404b-405a-a3da-2a6afdb588f1"
      },
      "execution_count": null,
      "outputs": [
        {
          "output_type": "stream",
          "name": "stdout",
          "text": [
            "integer devision: 2\n"
          ]
        }
      ]
    },
    {
      "cell_type": "code",
      "source": [
        "a=10\n",
        "b=5\n",
        "result =a%b\n",
        "print(\"remainder:\",result)"
      ],
      "metadata": {
        "colab": {
          "base_uri": "https://localhost:8080/"
        },
        "id": "EI2AE964XzGG",
        "outputId": "3df7fcc2-92af-42cf-f322-ebf18e1f1fb5"
      },
      "execution_count": null,
      "outputs": [
        {
          "output_type": "stream",
          "name": "stdout",
          "text": [
            "remainder: 0\n"
          ]
        }
      ]
    },
    {
      "cell_type": "code",
      "source": [
        "a=10\n",
        "b=5\n",
        "result =a**b\n",
        "print(\"power:\",result)"
      ],
      "metadata": {
        "colab": {
          "base_uri": "https://localhost:8080/"
        },
        "id": "YUz7ymyRX4Ds",
        "outputId": "cf08c37f-1cea-4376-a69b-efee974dc164"
      },
      "execution_count": null,
      "outputs": [
        {
          "output_type": "stream",
          "name": "stdout",
          "text": [
            "power: 100000\n"
          ]
        }
      ]
    },
    {
      "cell_type": "code",
      "source": [
        "name=\"jay\"\n",
        "age=10\n",
        "print(\"my name is\",name,\"and i am\",age,\"years old.\")"
      ],
      "metadata": {
        "colab": {
          "base_uri": "https://localhost:8080/"
        },
        "id": "ITmctPGvYkxp",
        "outputId": "70a52b34-7969-47f7-97c6-6d58ebb926ed"
      },
      "execution_count": null,
      "outputs": [
        {
          "output_type": "stream",
          "name": "stdout",
          "text": [
            "my name is jay and i am 10 years old.\n"
          ]
        }
      ]
    },
    {
      "cell_type": "code",
      "source": [
        "name = \"alice\"\n",
        "#accessing individual characters using indexing\n",
        "print(name[0]) #first character\n",
        "print(name[1]) #second character\n",
        "print(name[-3]) #last character"
      ],
      "metadata": {
        "colab": {
          "base_uri": "https://localhost:8080/"
        },
        "id": "uSQMlLQOcv4L",
        "outputId": "f08e3b23-d29f-4ace-c190-bf11ed76e49a"
      },
      "execution_count": null,
      "outputs": [
        {
          "output_type": "stream",
          "name": "stdout",
          "text": [
            "a\n",
            "l\n",
            "i\n"
          ]
        }
      ]
    },
    {
      "cell_type": "code",
      "source": [
        "name = \"alice\"\n",
        "#slicing means cutting a part of string\n",
        "print(name[0:3])#from index 0 to 2 (not including 3)\n",
        "print(name[:4])#from start to index 3\n",
        "print(name[2:])#from index 2 to end"
      ],
      "metadata": {
        "colab": {
          "base_uri": "https://localhost:8080/"
        },
        "id": "511EqUs6ZYO2",
        "outputId": "d49dc652-f94d-4d64-dddc-a853429f4c35"
      },
      "execution_count": null,
      "outputs": [
        {
          "output_type": "stream",
          "name": "stdout",
          "text": [
            "ali\n",
            "alic\n",
            "ice\n"
          ]
        }
      ]
    },
    {
      "cell_type": "code",
      "source": [
        "first_name = \"alice\"\n",
        "last_name = \"smith\"\n",
        "#combine with +operator\n",
        "full_name = first_name + \" \" + last_name\n",
        "print(full_name)"
      ],
      "metadata": {
        "colab": {
          "base_uri": "https://localhost:8080/"
        },
        "id": "iX7_OLt5bEZg",
        "outputId": "70ab0d5d-9b46-4c15-8d04-2f3d41605bc6"
      },
      "execution_count": null,
      "outputs": [
        {
          "output_type": "stream",
          "name": "stdout",
          "text": [
            "alice smith\n"
          ]
        }
      ]
    },
    {
      "cell_type": "code",
      "source": [
        "message = \"hello, world!\"\n",
        "print(len(message))"
      ],
      "metadata": {
        "colab": {
          "base_uri": "https://localhost:8080/"
        },
        "id": "sc-7k6DObfdA",
        "outputId": "88a17ce7-e9fb-489e-e4a9-97dd17c189a8"
      },
      "execution_count": null,
      "outputs": [
        {
          "output_type": "stream",
          "name": "stdout",
          "text": [
            "13\n"
          ]
        }
      ]
    },
    {
      "cell_type": "code",
      "source": [
        "text = \"python\"\n",
        "print(text.upper())#All caps\n",
        "print(text.lower())#all lowecase"
      ],
      "metadata": {
        "colab": {
          "base_uri": "https://localhost:8080/"
        },
        "id": "42YhmqIwbrqP",
        "outputId": "89562ec5-50ea-4296-afe7-1068194519b2"
      },
      "execution_count": null,
      "outputs": [
        {
          "output_type": "stream",
          "name": "stdout",
          "text": [
            "PYTHON\n",
            "python\n"
          ]
        }
      ]
    },
    {
      "cell_type": "code",
      "source": [
        "text = \" hello world! \"\n",
        "cleaned = text.strip()\n",
        "print(\"before:\", text)\n",
        "print(\"after:\", cleaned)"
      ],
      "metadata": {
        "colab": {
          "base_uri": "https://localhost:8080/"
        },
        "id": "cxSO8ZVldNaB",
        "outputId": "e7b40fbd-f867-4947-ac3f-5bf1c6cae657"
      },
      "execution_count": null,
      "outputs": [
        {
          "output_type": "stream",
          "name": "stdout",
          "text": [
            "before:  hello world! \n",
            "after: hello world!\n"
          ]
        }
      ]
    },
    {
      "cell_type": "code",
      "source": [
        "message = \"i like apples\"\n",
        "new_message = message.replace(\"apples\",\"bananas\")\n",
        "print(new_message)\n"
      ],
      "metadata": {
        "colab": {
          "base_uri": "https://localhost:8080/"
        },
        "id": "P-dOrN5pb7-h",
        "outputId": "5b2d2d2b-080f-420b-93a4-a50a9e7c98c5"
      },
      "execution_count": null,
      "outputs": [
        {
          "output_type": "stream",
          "name": "stdout",
          "text": [
            "i like bananas\n"
          ]
        }
      ]
    },
    {
      "cell_type": "code",
      "source": [
        "name = \"alice\"\n",
        "age = 25\n",
        "#convert number to string before combining\n",
        "message = name + \" is \" + str(age) + \" years old. \"\n",
        "print(message)"
      ],
      "metadata": {
        "colab": {
          "base_uri": "https://localhost:8080/"
        },
        "id": "KkMPXbV9cQIn",
        "outputId": "1a2495f0-547e-41ed-e2da-7299901eabeb"
      },
      "execution_count": null,
      "outputs": [
        {
          "output_type": "stream",
          "name": "stdout",
          "text": [
            "alice is 25 years old. \n"
          ]
        }
      ]
    },
    {
      "cell_type": "code",
      "source": [
        "#list of numbers\n",
        "numbers = [10,20,30,40]\n",
        "#list of strings\n",
        "fruits = [\"apples\",\"banana\",\"mango\"]\n",
        "#mixed data types\n",
        "mixed = [\"alice\", 25 , True]"
      ],
      "metadata": {
        "id": "58RgQwVEcryI"
      },
      "execution_count": null,
      "outputs": []
    },
    {
      "cell_type": "code",
      "source": [
        "fruits = [\"apple\", \"banana\", \"mango\"]\n",
        "print(fruits[0]) #first item\n",
        "print(fruits[1]) #second item\n",
        "print(fruits[2]) #third item\n"
      ],
      "metadata": {
        "colab": {
          "base_uri": "https://localhost:8080/"
        },
        "id": "chHZuBrDhCla",
        "outputId": "1a5f6422-11f8-481a-dc7a-bfad36dc1b1e"
      },
      "execution_count": null,
      "outputs": [
        {
          "output_type": "stream",
          "name": "stdout",
          "text": [
            "apple\n",
            "banana\n",
            "mango\n"
          ]
        }
      ]
    },
    {
      "cell_type": "code",
      "source": [
        "fruits = [\"apple\", \"banana\", \"mango\", \"orange\", \"grape\"]\n",
        "print(fruits[1:4]) #banana to orange\n",
        "print(fruits[:3]) #apple to mango\n",
        "print(fruits[2:]) #mango to end"
      ],
      "metadata": {
        "colab": {
          "base_uri": "https://localhost:8080/"
        },
        "id": "NLUBqwd4jbUj",
        "outputId": "92bc1f15-11ea-4fb6-d33a-6d77d4b2b411"
      },
      "execution_count": null,
      "outputs": [
        {
          "output_type": "stream",
          "name": "stdout",
          "text": [
            "['banana', 'mango', 'orange']\n",
            "['apple', 'banana', 'mango']\n",
            "['mango', 'orange', 'grape']\n"
          ]
        }
      ]
    },
    {
      "cell_type": "code",
      "source": [
        "fruits = [\"apple\", \"banana\"]\n",
        "fruits.append(\"mango\")\n",
        "print(fruits)"
      ],
      "metadata": {
        "colab": {
          "base_uri": "https://localhost:8080/"
        },
        "id": "9Hs2t3OPkTgo",
        "outputId": "d8e5917d-b178-409e-8316-eb6619336b30"
      },
      "execution_count": null,
      "outputs": [
        {
          "output_type": "stream",
          "name": "stdout",
          "text": [
            "['apple', 'banana', 'mango']\n"
          ]
        }
      ]
    },
    {
      "cell_type": "code",
      "source": [
        "fruits = [\"apple\", \"banana\"]\n",
        "fruits.insert(1, \"grape\") #add at index 1\n",
        "print(fruits)"
      ],
      "metadata": {
        "colab": {
          "base_uri": "https://localhost:8080/"
        },
        "id": "MObB4BY0kvhx",
        "outputId": "fb5a4e80-4fe5-412a-e8b3-385a5b9519db"
      },
      "execution_count": null,
      "outputs": [
        {
          "output_type": "stream",
          "name": "stdout",
          "text": [
            "['apple', 'grape', 'banana']\n"
          ]
        }
      ]
    },
    {
      "cell_type": "code",
      "source": [
        "fruits = [\"apple\", \"banana\", \"apple\"]\n",
        "fruits.remove(\"apple\") #removes first 'apple'\n",
        "print(fruits)\n"
      ],
      "metadata": {
        "colab": {
          "base_uri": "https://localhost:8080/"
        },
        "id": "4-SenhXBk_pN",
        "outputId": "a226e338-47fc-47d7-e157-43e13adddc48"
      },
      "execution_count": null,
      "outputs": [
        {
          "output_type": "stream",
          "name": "stdout",
          "text": [
            "['banana', 'apple']\n"
          ]
        }
      ]
    },
    {
      "cell_type": "code",
      "source": [
        "fruits = [\"apple\", \"banana\", \"mango\"]\n",
        "fruits.pop()\n",
        "print(fruits)"
      ],
      "metadata": {
        "colab": {
          "base_uri": "https://localhost:8080/"
        },
        "id": "OEL_OR-9lWCg",
        "outputId": "67b6d3b8-0316-4917-edd6-275a34e922a0"
      },
      "execution_count": null,
      "outputs": [
        {
          "output_type": "stream",
          "name": "stdout",
          "text": [
            "['apple', 'banana']\n"
          ]
        }
      ]
    },
    {
      "cell_type": "code",
      "source": [
        "fruits = [\"apple\", \"banana\"]\n",
        "fruits.clear()\n",
        "print(fruits) #output:[]"
      ],
      "metadata": {
        "colab": {
          "base_uri": "https://localhost:8080/"
        },
        "id": "4Q11oU1Fmp4H",
        "outputId": "ebb440f9-2888-4341-fe5a-b3136465b8f0"
      },
      "execution_count": null,
      "outputs": [
        {
          "output_type": "stream",
          "name": "stdout",
          "text": [
            "[]\n"
          ]
        }
      ]
    },
    {
      "cell_type": "code",
      "source": [
        "numbers = [5,2,8,1]\n",
        "numbers.sort()\n",
        "print(numbers)"
      ],
      "metadata": {
        "colab": {
          "base_uri": "https://localhost:8080/"
        },
        "id": "uBBOG_apnB9x",
        "outputId": "54bdc1a6-600f-4b5b-82d5-c242e4b487ee"
      },
      "execution_count": null,
      "outputs": [
        {
          "output_type": "stream",
          "name": "stdout",
          "text": [
            "[1, 2, 5, 8]\n"
          ]
        }
      ]
    },
    {
      "cell_type": "code",
      "source": [
        "fruits=[\"apple\", \"banana\", \"mango\"]\n",
        "fruits.reverse()\n",
        "print(fruits)"
      ],
      "metadata": {
        "colab": {
          "base_uri": "https://localhost:8080/"
        },
        "id": "pVevcYiMnLBS",
        "outputId": "67baa738-3dce-4fac-d345-feb4901e3ac8"
      },
      "execution_count": null,
      "outputs": [
        {
          "output_type": "stream",
          "name": "stdout",
          "text": [
            "['mango', 'banana', 'apple']\n"
          ]
        }
      ]
    },
    {
      "cell_type": "code",
      "source": [
        "fruits=[\"apple\", \"banana\", \"mango\"]\n",
        "print(len(fruits))"
      ],
      "metadata": {
        "colab": {
          "base_uri": "https://localhost:8080/"
        },
        "id": "DOTdMeZanUCk",
        "outputId": "69a2f70c-47fb-43a0-f0c5-47cc92e6dbff"
      },
      "execution_count": null,
      "outputs": [
        {
          "output_type": "stream",
          "name": "stdout",
          "text": [
            "3\n"
          ]
        }
      ]
    },
    {
      "cell_type": "code",
      "source": [
        "numbers = [5,12,3,8]\n",
        "print(max(numbers)) #12\n",
        "print(min(numbers)) #3\n",
        "print(sum(numbers)) #28"
      ],
      "metadata": {
        "colab": {
          "base_uri": "https://localhost:8080/"
        },
        "id": "7Yev9rXinadh",
        "outputId": "126c7897-0ac2-48d4-843d-c86e373e1d72"
      },
      "execution_count": null,
      "outputs": [
        {
          "output_type": "stream",
          "name": "stdout",
          "text": [
            "12\n",
            "3\n",
            "28\n"
          ]
        }
      ]
    },
    {
      "cell_type": "code",
      "source": [
        "fruits = [\"apple\", \"banana\"]\n",
        "print(\"apple\" in fruits) #True\n",
        "print(\"grape\" in fruits) #False"
      ],
      "metadata": {
        "colab": {
          "base_uri": "https://localhost:8080/"
        },
        "id": "12Vrj-VYn15P",
        "outputId": "23673529-965f-4b23-c1d7-97bb5afe96b3"
      },
      "execution_count": null,
      "outputs": [
        {
          "output_type": "stream",
          "name": "stdout",
          "text": [
            "True\n",
            "False\n"
          ]
        }
      ]
    },
    {
      "cell_type": "code",
      "source": [
        "# 1. Create a list of 5 friends and print them one by one\n",
        "friends = [\"Alice\", \"Bob\", \"Charlie\", \"David\", \"Eve\"]\n",
        "for friend in friends:\n",
        "    print(friend)\n",
        "\n",
        "# 2. Add a new name to the list using .append()\n",
        "friends.append(\"Frank\")\n",
        "print(\"\\nAfter appending Frank:\", friends)\n",
        "\n",
        "# 3. Remove a name using .remove()\n",
        "friends.remove(\"Charlie\")\n",
        "print(\"\\nAfter removing Charlie:\", friends)\n",
        "\n",
        "# 4. Sort the list and print it\n",
        "friends.sort()\n",
        "print(\"\\nSorted list:\", friends)\n",
        "\n",
        "# 5. Count how many names are in the list using len()\n",
        "print(\"\\nNumber of friends in the list:\", len(friends))"
      ],
      "metadata": {
        "colab": {
          "base_uri": "https://localhost:8080/"
        },
        "id": "QENfwhhToMbD",
        "outputId": "57e51def-9e0e-467a-e490-bd8bc471d9ca"
      },
      "execution_count": null,
      "outputs": [
        {
          "output_type": "stream",
          "name": "stdout",
          "text": [
            "Alice\n",
            "Bob\n",
            "Charlie\n",
            "David\n",
            "Eve\n",
            "\n",
            "After appending Frank: ['Alice', 'Bob', 'Charlie', 'David', 'Eve', 'Frank']\n",
            "\n",
            "After removing Charlie: ['Alice', 'Bob', 'David', 'Eve', 'Frank']\n",
            "\n",
            "Sorted list: ['Alice', 'Bob', 'David', 'Eve', 'Frank']\n",
            "\n",
            "Number of friends in the list: 5\n"
          ]
        }
      ]
    }
  ]
}