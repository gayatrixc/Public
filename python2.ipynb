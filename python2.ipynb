{
  "nbformat": 4,
  "nbformat_minor": 0,
  "metadata": {
    "colab": {
      "provenance": [],
      "authorship_tag": "ABX9TyNE47iTZ8cRHRrMhDeMa29y",
      "include_colab_link": true
    },
    "kernelspec": {
      "name": "python3",
      "display_name": "Python 3"
    },
    "language_info": {
      "name": "python"
    }
  },
  "cells": [
    {
      "cell_type": "markdown",
      "metadata": {
        "id": "view-in-github",
        "colab_type": "text"
      },
      "source": [
        "<a href=\"https://colab.research.google.com/github/gayatrixc/Public/blob/main/python2.ipynb\" target=\"_parent\"><img src=\"https://colab.research.google.com/assets/colab-badge.svg\" alt=\"Open In Colab\"/></a>"
      ]
    },
    {
      "cell_type": "code",
      "execution_count": null,
      "metadata": {
        "id": "q1jNWvs_1Chy",
        "colab": {
          "base_uri": "https://localhost:8080/"
        },
        "outputId": "5d2353ea-7d3f-4045-e709-265143b45f57"
      },
      "outputs": [
        {
          "output_type": "stream",
          "name": "stdout",
          "text": [
            "('apple', 'banana', 'cherry')\n"
          ]
        }
      ],
      "source": [
        "my_tuple = (\"apple\", \"banana\", \"cherry\")\n",
        "print(my_tuple)  # Output the entire tuple"
      ]
    },
    {
      "cell_type": "code",
      "source": [
        "my_tuple = (\"apple\", \"banana\", \"cherry\")\n",
        "\n",
        "# Indexing\n",
        "print(my_tuple[0])     # Access first element: 'apple'\n",
        "print(my_tuple[-1])    # Access last element: 'cherry'\n",
        "\n",
        "# Slicing\n",
        "print(my_tuple[0:2])   # Output elements from index 0 to 1: ('apple', 'banana')\n"
      ],
      "metadata": {
        "colab": {
          "base_uri": "https://localhost:8080/"
        },
        "id": "kTQVAn95Q0GO",
        "outputId": "d0c2b496-2eee-4942-effb-6d1e9941aaea"
      },
      "execution_count": null,
      "outputs": [
        {
          "output_type": "stream",
          "name": "stdout",
          "text": [
            "apple\n",
            "cherry\n",
            "('apple', 'banana')\n"
          ]
        }
      ]
    },
    {
      "cell_type": "code",
      "source": [
        "my_tuple = (\"apple\", \"banana\", \"apple\", \"cherry\")\n",
        "\n",
        "# count() – how many times a value appears\n",
        "print(my_tuple.count(\"apple\"))   # Output: 2\n",
        "\n",
        "# index() – find the position of a value\n",
        "print(my_tuple.index(\"cherry\"))  # Output: 3\n"
      ],
      "metadata": {
        "colab": {
          "base_uri": "https://localhost:8080/"
        },
        "id": "p9jC4ZUuQ8kI",
        "outputId": "8ffe07ce-8d48-4997-f4a9-1c90af03e51e"
      },
      "execution_count": null,
      "outputs": [
        {
          "output_type": "stream",
          "name": "stdout",
          "text": [
            "2\n",
            "3\n"
          ]
        }
      ]
    },
    {
      "cell_type": "code",
      "source": [
        "my_set = {\"apple\", \"banana\", \"cherry\"}\n",
        "print(my_set)  # Output: set without order: {'cherry', 'apple', 'banana'}\n"
      ],
      "metadata": {
        "colab": {
          "base_uri": "https://localhost:8080/"
        },
        "id": "gO_tFtuPQ_zs",
        "outputId": "592810d4-13a3-4977-a657-6940bf8c1569"
      },
      "execution_count": null,
      "outputs": [
        {
          "output_type": "stream",
          "name": "stdout",
          "text": [
            "{'apple', 'banana', 'cherry'}\n"
          ]
        }
      ]
    },
    {
      "cell_type": "code",
      "source": [
        "dup_set = {\"apple\", \"banana\", \"apple\"}\n",
        "print(dup_set)  # Output: {'apple', 'banana'} – duplicates removed\n"
      ],
      "metadata": {
        "colab": {
          "base_uri": "https://localhost:8080/"
        },
        "id": "c9TQzH26RC84",
        "outputId": "62ba5c3b-4ae7-4d50-89a6-f8b358969f9c"
      },
      "execution_count": null,
      "outputs": [
        {
          "output_type": "stream",
          "name": "stdout",
          "text": [
            "{'apple', 'banana'}\n"
          ]
        }
      ]
    },
    {
      "cell_type": "code",
      "source": [
        "fruits = {\"apple\", \"banana\", \"grapes\"}\n",
        "\n",
        "fruits.clear()\n",
        "print(fruits)  # Output: set() – all elements removed\n"
      ],
      "metadata": {
        "colab": {
          "base_uri": "https://localhost:8080/"
        },
        "id": "evlGvBOcRFXD",
        "outputId": "08a14b99-9601-43c7-d3cc-93a920a3dc89"
      },
      "execution_count": null,
      "outputs": [
        {
          "output_type": "stream",
          "name": "stdout",
          "text": [
            "set()\n"
          ]
        }
      ]
    },
    {
      "cell_type": "code",
      "source": [
        "set1 = {\"apple\", \"banana\"}\n",
        "set2 = {\"mango\", \"banana\"}\n",
        "\n",
        "combined = set2.union(set1)\n",
        "print(combined)  # Output: {'apple', 'mango', 'banana'}\n"
      ],
      "metadata": {
        "colab": {
          "base_uri": "https://localhost:8080/"
        },
        "id": "WWcFVueCRHzD",
        "outputId": "0f1f09ba-fbf6-431f-a23f-0a802db1f054"
      },
      "execution_count": null,
      "outputs": [
        {
          "output_type": "stream",
          "name": "stdout",
          "text": [
            "{'mango', 'banana', 'apple'}\n"
          ]
        }
      ]
    },
    {
      "cell_type": "code",
      "source": [
        "# Create a tuple with 4 fruits and print the second fruit\n",
        "fruit_tuple = (\"apple\", \"banana\", \"mango\", \"grapes\")\n",
        "print(fruit_tuple[1])  # Output: banana\n"
      ],
      "metadata": {
        "colab": {
          "base_uri": "https://localhost:8080/"
        },
        "id": "TJlfncmwRKYq",
        "outputId": "faca1469-4d54-45d4-e32e-d5a5a672c125"
      },
      "execution_count": null,
      "outputs": [
        {
          "output_type": "stream",
          "name": "stdout",
          "text": [
            "banana\n"
          ]
        }
      ]
    },
    {
      "cell_type": "code",
      "source": [
        "# Count how many times \"apple\" appears in the tuple\n",
        "print(fruit_tuple.count(\"apple\"))  # Output: 1\n"
      ],
      "metadata": {
        "colab": {
          "base_uri": "https://localhost:8080/"
        },
        "id": "mQ1KStCZRNF1",
        "outputId": "5e5eca0d-6c72-4f79-8e31-754e150d5b69"
      },
      "execution_count": null,
      "outputs": [
        {
          "output_type": "stream",
          "name": "stdout",
          "text": [
            "1\n"
          ]
        }
      ]
    },
    {
      "cell_type": "code",
      "source": [
        "# Create a set with 5 numbers including duplicates. Observe the result.\n",
        "num_set = {1, 2, 3, 2, 4}\n",
        "print(num_set)  # Output: {1, 2, 3, 4} – duplicates removed\n"
      ],
      "metadata": {
        "colab": {
          "base_uri": "https://localhost:8080/"
        },
        "id": "PyMDivEYRPUY",
        "outputId": "0d7214bc-da87-40e6-a64a-50610233bffc"
      },
      "execution_count": null,
      "outputs": [
        {
          "output_type": "stream",
          "name": "stdout",
          "text": [
            "{1, 2, 3, 4}\n"
          ]
        }
      ]
    },
    {
      "cell_type": "code",
      "source": [
        "# Add a number to a set\n",
        "num_set.add(5)\n",
        "print(num_set)  # Output: {1, 2, 3, 4, 5}\n"
      ],
      "metadata": {
        "colab": {
          "base_uri": "https://localhost:8080/"
        },
        "id": "MsoATmLeRR90",
        "outputId": "b3bd8e68-cb2b-49cf-e5da-a61cfb7796fe"
      },
      "execution_count": null,
      "outputs": [
        {
          "output_type": "stream",
          "name": "stdout",
          "text": [
            "{1, 2, 3, 4, 5}\n"
          ]
        }
      ]
    },
    {
      "cell_type": "code",
      "source": [
        "# Find common values between two sets using intersection()\n",
        "a = {1, 2, 3, 4}\n",
        "b = {3, 4, 5, 6}\n",
        "common = a.intersection(b)\n",
        "print(common)  # Output: {3, 4}\n"
      ],
      "metadata": {
        "colab": {
          "base_uri": "https://localhost:8080/"
        },
        "id": "thS0Q3b6RVwQ",
        "outputId": "ee59a424-9989-4ca6-8e02-95741a2c578b"
      },
      "execution_count": null,
      "outputs": [
        {
          "output_type": "stream",
          "name": "stdout",
          "text": [
            "{3, 4}\n"
          ]
        }
      ]
    },
    {
      "cell_type": "code",
      "source": [
        "set1 = {\"apple\", \"banana\"} # Creates a set named 'set1' containing the strings \"apple\" and \"banana\". Sets are unordered collections of unique elements.\n",
        "set2 = {\"mango\", \"banana\"} # Creates a set named 'set2' containing the strings \"mango\" and \"banana\".\n",
        "common = set1.intersection(set2) # Finds the common elements between 'set1' and 'set2' and assigns the result (a new set) to the variable 'common'.\n",
        "print(common) # Prints the value of the 'common' set, which is {'banana'} because \"banana\" is present in both sets."
      ],
      "metadata": {
        "colab": {
          "base_uri": "https://localhost:8080/"
        },
        "id": "pku-1cYzRYDZ",
        "outputId": "6989cc79-009e-473b-b59b-cb41dd0e6a7f"
      },
      "execution_count": null,
      "outputs": [
        {
          "output_type": "stream",
          "name": "stdout",
          "text": [
            "{'banana'}\n"
          ]
        }
      ]
    },
    {
      "cell_type": "code",
      "source": [
        "student = { # Creates a dictionary named 'student'. Dictionaries store data in key-value pairs.\n",
        "    \"name\": \"Alice\", # The key \"name\" is associated with the value \"Alice\".\n",
        "    \"age\": 21,       # The key \"age\" is associated with the value 21.\n",
        "    \"grade\": \"A\"     # The key \"grade\" is associated with the value \"A\".\n",
        "}\n",
        "print(student) # Prints the entire 'student' dictionary."
      ],
      "metadata": {
        "colab": {
          "base_uri": "https://localhost:8080/"
        },
        "id": "kdvzw9WBReIj",
        "outputId": "62e77f5d-bd5e-4bfc-b36f-cbe4891ce0b6"
      },
      "execution_count": null,
      "outputs": [
        {
          "output_type": "stream",
          "name": "stdout",
          "text": [
            "{'name': 'Alice', 'age': 21, 'grade': 'A'}\n"
          ]
        }
      ]
    },
    {
      "cell_type": "code",
      "source": [
        "print(student[\"name\"]) # Accesses the value associated with the key \"name\" in the 'student' dictionary and prints it, which is \"Alice\".\n",
        "print(student[\"age\"])  # Accesses the value associated with the key \"age\" in the 'student' dictionary and prints it, which is 21."
      ],
      "metadata": {
        "colab": {
          "base_uri": "https://localhost:8080/"
        },
        "id": "XR_YyaJ_RiYs",
        "outputId": "6d0aeaa0-6db8-4cc6-d8a9-984cdedbf397"
      },
      "execution_count": null,
      "outputs": [
        {
          "output_type": "stream",
          "name": "stdout",
          "text": [
            "Alice\n",
            "21\n"
          ]
        }
      ]
    },
    {
      "cell_type": "code",
      "source": [
        "print(student.get(\"grade\")) # Uses the 'get()' method to retrieve the value associated with the key \"grade\". It returns \"A\". This is a safer way to access dictionary elements as it doesn't raise an error if the key is not found.\n",
        "print(student.get(\"marks\")) # Tries to retrieve the value for the key \"marks\", which doesn't exist in the 'student' dictionary. The 'get()' method returns 'None' in this case, without causing an error.\n",
        "print(student.get(\"marks\", 0)) # Again, tries to retrieve the value for \"marks\". Since it's not found, the 'get()' method returns the specified default value, which is 0 in this case."
      ],
      "metadata": {
        "colab": {
          "base_uri": "https://localhost:8080/"
        },
        "id": "ORc3goddRku4",
        "outputId": "2b9f6458-a0c8-45ba-e0ea-6f619870f9ad"
      },
      "execution_count": null,
      "outputs": [
        {
          "output_type": "stream",
          "name": "stdout",
          "text": [
            "A\n",
            "None\n",
            "0\n"
          ]
        }
      ]
    },
    {
      "cell_type": "code",
      "source": [
        "student[\"marks\"] = 85   # Adds a new key-value pair to the 'student' dictionary. The key is \"marks\" and the value is 85.\n",
        "student[\"grade\"] = \"A+\" # Updates the value associated with the existing key \"grade\" in the 'student' dictionary to \"A+\".\n",
        "print(student)         # Prints the updated 'student' dictionary."
      ],
      "metadata": {
        "colab": {
          "base_uri": "https://localhost:8080/"
        },
        "id": "gApbkUSfRnci",
        "outputId": "9ae029e5-0a7b-4f0f-945f-219fc693e631"
      },
      "execution_count": null,
      "outputs": [
        {
          "output_type": "stream",
          "name": "stdout",
          "text": [
            "{'name': 'Alice', 'age': 21, 'grade': 'A+', 'marks': 85}\n"
          ]
        }
      ]
    },
    {
      "cell_type": "code",
      "source": [
        "student.pop(\"age\")   # Removes the key-value pair with the key \"age\" from the 'student' dictionary. The 'pop()' method returns the value of the removed key, although it's not being used here.\n",
        "print(student)       # Prints the 'student' dictionary after the \"age\" key has been removed."
      ],
      "metadata": {
        "colab": {
          "base_uri": "https://localhost:8080/"
        },
        "id": "IsGoBWmoTvTh",
        "outputId": "d5bfa525-650b-4de9-f9d3-fe65ed14cdc0"
      },
      "execution_count": null,
      "outputs": [
        {
          "output_type": "stream",
          "name": "stdout",
          "text": [
            "{'name': 'Alice', 'grade': 'A+', 'marks': 85}\n"
          ]
        }
      ]
    },
    {
      "cell_type": "code",
      "source": [
        "for key in student:       # This loop iterates through the keys of the 'student' dictionary.\n",
        "    print(key, \":\", student[key]) # For each key, it prints the key, a colon, and then the corresponding value from the dictionary."
      ],
      "metadata": {
        "colab": {
          "base_uri": "https://localhost:8080/"
        },
        "id": "sb8uDpkeTx1m",
        "outputId": "c56354b8-52ff-4b71-b598-03283d2e64d0"
      },
      "execution_count": null,
      "outputs": [
        {
          "output_type": "stream",
          "name": "stdout",
          "text": [
            "name : Alice\n",
            "grade : A+\n",
            "marks : 85\n"
          ]
        }
      ]
    },
    {
      "cell_type": "code",
      "source": [
        "for key, value in student.items(): # This loop iterates through the key-value pairs in the 'student' dictionary using the 'items()' method, which returns a view object that displays a list of a dictionary's key-value tuple pairs.\n",
        "    print(key, \"=>\", value)       # For each key-value pair, it prints the key, \"=>\", and the value."
      ],
      "metadata": {
        "colab": {
          "base_uri": "https://localhost:8080/"
        },
        "id": "RJW55K7LT0WS",
        "outputId": "a7bc6469-8e6d-4b69-9e63-ac9e46fc0087"
      },
      "execution_count": null,
      "outputs": [
        {
          "output_type": "stream",
          "name": "stdout",
          "text": [
            "name => Alice\n",
            "grade => A+\n",
            "marks => 85\n"
          ]
        }
      ]
    },
    {
      "cell_type": "code",
      "source": [
        "keys = [\"name\", \"age\", \"grade\"]     # Creates a list named 'keys' containing strings.\n",
        "values = [\"Bob\", 22, \"B\"]           # Creates a list named 'values' containing corresponding values.\n",
        "student2 = dict(zip(keys, values)) # Uses the 'zip()' function to pair elements from 'keys' and 'values' lists, and then converts these pairs into a dictionary named 'student2'.\n",
        "print(student2)                    # Prints the newly created 'student2' dictionary."
      ],
      "metadata": {
        "colab": {
          "base_uri": "https://localhost:8080/"
        },
        "id": "Zo_Tm1X0T2bS",
        "outputId": "0609e65f-fee7-4279-f3c6-69cb521784bf"
      },
      "execution_count": null,
      "outputs": [
        {
          "output_type": "stream",
          "name": "stdout",
          "text": [
            "{'name': 'Bob', 'age': 22, 'grade': 'B'}\n"
          ]
        }
      ]
    },
    {
      "cell_type": "code",
      "source": [
        "classroom = { # Creates a nested dictionary named 'classroom'. The keys of this outer dictionary are strings (\"student1\", \"student2\"), and the values are themselves dictionaries.\n",
        "    \"student1\": {\"name\": \"Alice\", \"marks\": 90}, # The value associated with \"student1\" is a dictionary containing the name and marks of Alice.\n",
        "    \"student2\": {\"name\": \"Bob\", \"marks\": 85}   # The value associated with \"student2\" is a dictionary containing the name and marks of Bob.\n",
        "}\n",
        "print(classroom[\"student1\"])         # Accesses the dictionary associated with the key \"student1\" in the 'classroom' dictionary and prints it.\n",
        "print(classroom[\"student1\"][\"marks\"]) # Accesses the dictionary associated with \"student1\", and then accesses the value associated with the key \"marks\" within that inner dictionary, and prints it."
      ],
      "metadata": {
        "colab": {
          "base_uri": "https://localhost:8080/"
        },
        "id": "Q1YbBX0yT4ez",
        "outputId": "cc406513-cf2a-467d-9e6e-afc9dc63e24b"
      },
      "execution_count": null,
      "outputs": [
        {
          "output_type": "stream",
          "name": "stdout",
          "text": [
            "{'name': 'Alice', 'marks': 90}\n",
            "90\n"
          ]
        }
      ]
    },
    {
      "cell_type": "code",
      "source": [
        "x = 5             # Assigns the integer value 5 to the variable 'x'.\n",
        "print(type(x))    # Uses the 'type()' function to determine the data type of the variable 'x' and prints the result."
      ],
      "metadata": {
        "colab": {
          "base_uri": "https://localhost:8080/"
        },
        "id": "EIP5MEFfT8Lh",
        "outputId": "167cace6-f587-4627-f172-857515824734"
      },
      "execution_count": null,
      "outputs": [
        {
          "output_type": "stream",
          "name": "stdout",
          "text": [
            "<class 'int'>\n"
          ]
        }
      ]
    },
    {
      "cell_type": "code",
      "source": [
        "# 1. Create a dictionary of a car with brand, model, and year.\n",
        "car = {\n",
        "    \"brand\": \"Toyota\",\n",
        "    \"model\": \"Camry\",\n",
        "    \"year\": 2023\n",
        "}\n",
        "print(f\"Initial car dictionary: {car}\")\n",
        "\n",
        "# 2. Add a new key \"color\" to the dictionary.\n",
        "car[\"color\"] = \"Silver\"\n",
        "print(f\"Car dictionary with color: {car}\")\n",
        "\n",
        "# 3. Fetch the value using get() for a non-existent key with default.\n",
        "engine_type = car.get(\"engine\", \"Petrol\")\n",
        "print(f\"Engine type (using get with default): {engine_type}\")\n",
        "\n",
        "# 4. Create a nested dictionary for 2 cars.\n",
        "cars = {\n",
        "    \"car1\": {\n",
        "        \"brand\": \"Honda\",\n",
        "        \"model\": \"Civic\",\n",
        "        \"year\": 2022,\n",
        "        \"color\": \"Blue\"\n",
        "    },\n",
        "    \"car2\": {\n",
        "        \"brand\": \"Tesla\",\n",
        "        \"model\": \"Model 3\",\n",
        "        \"year\": 2024,\n",
        "        \"color\": \"Red\"\n",
        "    }\n",
        "}\n",
        "print(f\"Nested dictionary of cars: {cars}\")\n",
        "\n",
        "# 5. Convert 2 lists (names, marks) into a dictionary using zip().\n",
        "names = [\"Charlie\", \"David\", \"Eve\"]\n",
        "marks = [95, 88, 92]\n",
        "student_marks = dict(zip(names, marks))\n",
        "print(f\"Dictionary of student marks: {student_marks}\")"
      ],
      "metadata": {
        "colab": {
          "base_uri": "https://localhost:8080/"
        },
        "id": "VdlicRHQT-o6",
        "outputId": "d50c997d-26ba-4201-f64e-44be5668ed46"
      },
      "execution_count": null,
      "outputs": [
        {
          "output_type": "stream",
          "name": "stdout",
          "text": [
            "Initial car dictionary: {'brand': 'Toyota', 'model': 'Camry', 'year': 2023}\n",
            "Car dictionary with color: {'brand': 'Toyota', 'model': 'Camry', 'year': 2023, 'color': 'Silver'}\n",
            "Engine type (using get with default): Petrol\n",
            "Nested dictionary of cars: {'car1': {'brand': 'Honda', 'model': 'Civic', 'year': 2022, 'color': 'Blue'}, 'car2': {'brand': 'Tesla', 'model': 'Model 3', 'year': 2024, 'color': 'Red'}}\n",
            "Dictionary of student marks: {'Charlie': 95, 'David': 88, 'Eve': 92}\n"
          ]
        }
      ]
    },
    {
      "cell_type": "code",
      "source": [
        "b = 3.14         # Assigns the floating-point number 3.14 to the variable 'b'. Floating-point numbers have decimal points.\n",
        "print(type(b))    # Uses the 'type()' function to determine the data type of 'b' and prints the result, which is <class 'float'>."
      ],
      "metadata": {
        "colab": {
          "base_uri": "https://localhost:8080/"
        },
        "id": "6pl0UHTbUD_G",
        "outputId": "e3129a7d-8fcb-4391-f20e-76bff044517f"
      },
      "execution_count": null,
      "outputs": [
        {
          "output_type": "stream",
          "name": "stdout",
          "text": [
            "<class 'float'>\n"
          ]
        }
      ]
    },
    {
      "cell_type": "code",
      "source": [
        "c = 3 + 2j       # Assigns a complex number to the variable 'c'. Complex numbers have a real part and an imaginary part (indicated by 'j').\n",
        "print(type(c))    # Uses the 'type()' function to determine the data type of 'c' and prints the result, which is <class 'complex'>."
      ],
      "metadata": {
        "colab": {
          "base_uri": "https://localhost:8080/"
        },
        "id": "LEJu129gUGKU",
        "outputId": "38a75843-213e-4558-e294-37b2cd6be811"
      },
      "execution_count": null,
      "outputs": [
        {
          "output_type": "stream",
          "name": "stdout",
          "text": [
            "<class 'complex'>\n"
          ]
        }
      ]
    },
    {
      "cell_type": "code",
      "source": [
        "text = \"Hello World\" # Assigns a string literal \"Hello World\" to the variable 'text'. Strings are sequences of characters enclosed in quotes.\n",
        "print(type(text))    # Uses the 'type()' function to determine the data type of 'text' and prints the result, which is <class 'str'>."
      ],
      "metadata": {
        "colab": {
          "base_uri": "https://localhost:8080/"
        },
        "id": "ALPvYdUIUIM1",
        "outputId": "ff9267ea-c8b5-4826-a74e-b6a9e3ed8b6c"
      },
      "execution_count": null,
      "outputs": [
        {
          "output_type": "stream",
          "name": "stdout",
          "text": [
            "<class 'str'>\n"
          ]
        }
      ]
    },
    {
      "cell_type": "code",
      "source": [
        "is_active = True   # Assigns the boolean value 'True' to the variable 'is_active'. Boolean values can be either 'True' or 'False'.\n",
        "print(type(is_active)) # Uses the 'type()' function to determine the data type of 'is_active' and prints the result, which is <class 'bool'>."
      ],
      "metadata": {
        "colab": {
          "base_uri": "https://localhost:8080/"
        },
        "id": "fT0AHvelUKkF",
        "outputId": "dfd3e41c-7408-4e22-8028-f22d66ca5df4"
      },
      "execution_count": null,
      "outputs": [
        {
          "output_type": "stream",
          "name": "stdout",
          "text": [
            "<class 'bool'>\n"
          ]
        }
      ]
    },
    {
      "cell_type": "code",
      "source": [
        "fruits = [\"apple\", \"banana\", \"mango\"] # Creates a list named 'fruits' containing strings. Lists are ordered and mutable sequences.\n",
        "print(type(fruits))                  # Uses the 'type()' function to check the data type of 'fruits', which is <class 'list'>."
      ],
      "metadata": {
        "colab": {
          "base_uri": "https://localhost:8080/"
        },
        "id": "57AZy5mPUMhn",
        "outputId": "8fb52682-895d-4c83-b6cc-1570cfe3fab7"
      },
      "execution_count": null,
      "outputs": [
        {
          "output_type": "stream",
          "name": "stdout",
          "text": [
            "<class 'list'>\n"
          ]
        }
      ]
    },
    {
      "cell_type": "code",
      "source": [
        "coordinates = (10, 20) # Creates a tuple named 'coordinates' containing two integers. Tuples are ordered and immutable sequences.\n",
        "print(type(coordinates)) # Uses the 'type()' function to check the data type of 'coordinates', which is <class 'tuple'>."
      ],
      "metadata": {
        "colab": {
          "base_uri": "https://localhost:8080/"
        },
        "id": "wdkJ6576UOtd",
        "outputId": "841d0ff3-97e2-4df6-80e2-875124239176"
      },
      "execution_count": null,
      "outputs": [
        {
          "output_type": "stream",
          "name": "stdout",
          "text": [
            "<class 'tuple'>\n"
          ]
        }
      ]
    },
    {
      "cell_type": "code",
      "source": [
        "numbers = range(5)       # Creates a 'range' object named 'numbers'. 'range' generates a sequence of numbers (in this case, from 0 up to, but not including, 5).\n",
        "print(list(numbers))     # Converts the 'range' object 'numbers' into a list and prints it, resulting in [0, 1, 2, 3, 4]."
      ],
      "metadata": {
        "colab": {
          "base_uri": "https://localhost:8080/"
        },
        "id": "Uh8ORqvPURIZ",
        "outputId": "e6710ace-f6d0-4a87-8f95-34042f55696a"
      },
      "execution_count": null,
      "outputs": [
        {
          "output_type": "stream",
          "name": "stdout",
          "text": [
            "[0, 1, 2, 3, 4]\n"
          ]
        }
      ]
    },
    {
      "cell_type": "code",
      "source": [
        "colors = {\"red\", \"blue\", \"green\", \"red\"} # Creates a set named 'colors' containing strings. Sets are unordered collections of unique elements. Notice that the duplicate \"red\" is automatically removed.\n",
        "print(colors)                           # Prints the 'colors' set, which will contain {'red', 'blue', 'green'}. The order of elements in a set is not guaranteed."
      ],
      "metadata": {
        "colab": {
          "base_uri": "https://localhost:8080/"
        },
        "id": "0jO0pfChUTBO",
        "outputId": "a0f49759-9504-474d-e1ad-d53a530ccc67"
      },
      "execution_count": null,
      "outputs": [
        {
          "output_type": "stream",
          "name": "stdout",
          "text": [
            "{'red', 'blue', 'green'}\n"
          ]
        }
      ]
    },
    {
      "cell_type": "code",
      "source": [
        "person = {\"name\": \"Alice\", \"age\": 22} # Creates a dictionary named 'person' with two key-value pairs.\n",
        "print(person[\"name\"])                  # Accesses and prints the value associated with the key \"name\", which is \"Alice\".\n",
        "print(type(person))                    # Uses the 'type()' function to determine the data type of 'person', which is <class 'dict'>."
      ],
      "metadata": {
        "colab": {
          "base_uri": "https://localhost:8080/"
        },
        "id": "Abc6N1CRUXuB",
        "outputId": "7270a200-375a-4ee6-d763-1e22a2f98a56"
      },
      "execution_count": null,
      "outputs": [
        {
          "output_type": "stream",
          "name": "stdout",
          "text": [
            "Alice\n",
            "<class 'dict'>\n"
          ]
        }
      ]
    },
    {
      "cell_type": "code",
      "source": [
        "x = 5         # Assigns an integer value to 'x'.\n",
        "y = float(x)  # Converts the integer 'x' to a floating-point number and assigns it to 'y' (resulting in 5.0).\n",
        "z = str(x)    # Converts the integer 'x' to a string and assigns it to 'z' (resulting in \"5\").\n",
        "a = int(\"10\") # Converts the string \"10\" to an integer and assigns it to 'a' (resulting in 10).\n",
        "b = list(\"abc\")# Converts the string \"abc\" into a list of individual characters and assigns it to 'b' (resulting in ['a', 'b', 'c'])."
      ],
      "metadata": {
        "id": "fyQ4AQAiUZ19"
      },
      "execution_count": null,
      "outputs": []
    },
    {
      "cell_type": "code",
      "source": [
        "a = 10             # Assigns an integer value to 'a'.\n",
        "b = str(a)         # Converts the integer 'a' to a string and assigns it to 'b'.\n",
        "print(b, type(b))  # Prints the string 'b' and its data type, which is <class 'str'>.\n",
        "\n",
        "c = \"123\"          # Assigns a string value to 'c'.\n",
        "d = int(c)         # Converts the string 'c' to an integer and assigns it to 'd'.\n",
        "print(d, type(d))  # Prints the integer 'd' and its data type, which is <class 'int'>."
      ],
      "metadata": {
        "colab": {
          "base_uri": "https://localhost:8080/"
        },
        "id": "N3-bEn3rUcFL",
        "outputId": "2b0a1848-e9e5-4e34-d6c4-2c7b7944b2c2"
      },
      "execution_count": null,
      "outputs": [
        {
          "output_type": "stream",
          "name": "stdout",
          "text": [
            "10 <class 'str'>\n",
            "123 <class 'int'>\n"
          ]
        }
      ]
    },
    {
      "cell_type": "code",
      "source": [
        "# 1. Create variables of each data type and print type()\n",
        "integer_var = 10\n",
        "float_var = 3.14\n",
        "string_var = \"hello\"\n",
        "boolean_var = True\n",
        "list_var = [1, 2, \"three\"]\n",
        "tuple_var = (1, \"two\", 3.0)\n",
        "set_var = {4, 5, 6, 6}\n",
        "dict_var = {\"name\": \"John\", \"age\": 30}\n",
        "\n",
        "print(f\"Integer variable ({integer_var}): {type(integer_var)}\")\n",
        "print(f\"Float variable ({float_var}): {type(float_var)}\")\n",
        "print(f\"String variable ('{string_var}'): {type(string_var)}\")\n",
        "print(f\"Boolean variable ({boolean_var}): {type(boolean_var)}\")\n",
        "print(f\"List variable ({list_var}): {type(list_var)}\")\n",
        "print(f\"Tuple variable ({tuple_var}): {type(tuple_var)}\")\n",
        "print(f\"Set variable ({set_var}): {type(set_var)}\")\n",
        "print(f\"Dictionary variable ({dict_var}): {type(dict_var)}\")\n",
        "\n",
        "print(\"-\" * 30)\n",
        "\n",
        "# 2. Convert an int to float, then to str\n",
        "num_int = 7\n",
        "num_float = float(num_int)\n",
        "num_str = str(num_float)\n",
        "\n",
        "print(f\"Integer: {num_int}, type: {type(num_int)}\")\n",
        "print(f\"Float: {num_float}, type: {type(num_float)}\")\n",
        "print(f\"String: '{num_str}', type: {type(num_str)}\")\n",
        "\n",
        "print(\"-\" * 30)\n",
        "\n",
        "# 3. Create a list with mixed data types\n",
        "mixed_list = [1, \"apple\", 3.14, True]\n",
        "print(f\"Mixed list: {mixed_list}, type: {type(mixed_list)}\")\n",
        "\n",
        "print(\"-\" * 30)\n",
        "\n",
        "# 4. Create a set and observe how duplicates are removed\n",
        "duplicate_set = {1, 2, 2, 3, 3, 3}\n",
        "print(f\"Set with duplicates: {duplicate_set}, type: {type(duplicate_set)}\")\n",
        "\n",
        "print(\"-\" * 30)\n",
        "\n",
        "# 5. Create a dictionary with 3 key-value pairs\n",
        "info_dict = {\n",
        "    \"city\": \"Hyderabad\",\n",
        "    \"country\": \"India\",\n",
        "    \"language\": \"Telugu\"\n",
        "}\n",
        "print(f\"Dictionary: {info_dict}, type: {type(info_dict)}\")\n",
        "\n",
        "print(\"-\" * 30)\n",
        "\n",
        "# 6. Create a tuple and try modifying it (observe the error)\n",
        "immutable_tuple = (10, 20, 30)\n",
        "print(f\"Tuple: {immutable_tuple}, type: {type(immutable_tuple)}\")\n",
        "\n",
        "try:\n",
        "    immutable_tuple[0] = 100  # This will raise a TypeError\n",
        "except TypeError as e:\n",
        "    print(f\"Error trying to modify tuple: {e}\")"
      ],
      "metadata": {
        "colab": {
          "base_uri": "https://localhost:8080/"
        },
        "id": "3yJdrmbHUdvN",
        "outputId": "6b4413f0-707c-447f-8d8c-8b66a6a55c23"
      },
      "execution_count": null,
      "outputs": [
        {
          "output_type": "stream",
          "name": "stdout",
          "text": [
            "Integer variable (10): <class 'int'>\n",
            "Float variable (3.14): <class 'float'>\n",
            "String variable ('hello'): <class 'str'>\n",
            "Boolean variable (True): <class 'bool'>\n",
            "List variable ([1, 2, 'three']): <class 'list'>\n",
            "Tuple variable ((1, 'two', 3.0)): <class 'tuple'>\n",
            "Set variable ({4, 5, 6}): <class 'set'>\n",
            "Dictionary variable ({'name': 'John', 'age': 30}): <class 'dict'>\n",
            "------------------------------\n",
            "Integer: 7, type: <class 'int'>\n",
            "Float: 7.0, type: <class 'float'>\n",
            "String: '7.0', type: <class 'str'>\n",
            "------------------------------\n",
            "Mixed list: [1, 'apple', 3.14, True], type: <class 'list'>\n",
            "------------------------------\n",
            "Set with duplicates: {1, 2, 3}, type: <class 'set'>\n",
            "------------------------------\n",
            "Dictionary: {'city': 'Hyderabad', 'country': 'India', 'language': 'Telugu'}, type: <class 'dict'>\n",
            "------------------------------\n",
            "Tuple: (10, 20, 30), type: <class 'tuple'>\n",
            "Error trying to modify tuple: 'tuple' object does not support item assignment\n"
          ]
        }
      ]
    },
    {
      "cell_type": "code",
      "source": [
        "a = 10   # Assigns the integer 10 to the variable 'a'.\n",
        "b = 3    # Assigns the integer 3 to the variable 'b'.\n",
        "\n",
        "print(\"Addition:\", a + b)      # Performs addition of 'a' and 'b' (10 + 3) and prints the result.\n",
        "print(\"Subtraction:\", a - b)   # Performs subtraction of 'b' from 'a' (10 - 3) and prints the result.\n",
        "print(\"Multiplication:\", a * b)# Performs multiplication of 'a' and 'b' (10 * 3) and prints the result.\n",
        "print(\"Division:\", a / b)      # Performs floating-point division of 'a' by 'b' (10 / 3) and prints the result.\n",
        "print(\"Floor Division:\", a // b)# Performs floor division of 'a' by 'b' (10 // 3), which gives the integer part of the quotient.\n",
        "print(\"Modulus:\", a % b)       # Performs modulus operation, which gives the remainder of the division of 'a' by 'b' (10 % 3).\n",
        "print(\"Power:\", a ** b)        # Calculates 'a' raised to the power of 'b' (10 ** 3) and prints the result."
      ],
      "metadata": {
        "colab": {
          "base_uri": "https://localhost:8080/"
        },
        "id": "yx5cESF5Ug1W",
        "outputId": "beb6623c-e8a3-4280-cf32-81e3f9bea42a"
      },
      "execution_count": null,
      "outputs": [
        {
          "output_type": "stream",
          "name": "stdout",
          "text": [
            "Addition: 13\n",
            "Subtraction: 7\n",
            "Multiplication: 30\n",
            "Division: 3.3333333333333335\n",
            "Floor Division: 3\n",
            "Modulus: 1\n",
            "Power: 1000\n"
          ]
        }
      ]
    },
    {
      "cell_type": "code",
      "source": [
        "x = 5       # Simple assignment: assigns the value 5 to 'x'.\n",
        "x += 3      # Augmented assignment: equivalent to x = x + 3 (x becomes 8).\n",
        "x *= 2      # Augmented assignment: equivalent to x = x * 2 (x becomes 16).\n",
        "x -= 4      # Augmented assignment: equivalent to x = x - 4 (x becomes 12).\n",
        "print(x)    # Prints the final value of 'x', which is 12.\n",
        "\n",
        "# Assign multiple variables at once\n",
        "a, b = 10, 20 # Assigns 10 to 'a' and 20 to 'b' simultaneously.\n",
        "print(a, b)   # Prints the values of 'a' and 'b'."
      ],
      "metadata": {
        "colab": {
          "base_uri": "https://localhost:8080/"
        },
        "id": "yq8wUjqQUjSY",
        "outputId": "de60c079-2738-416d-bf5f-dad884f8e9db"
      },
      "execution_count": null,
      "outputs": [
        {
          "output_type": "stream",
          "name": "stdout",
          "text": [
            "12\n",
            "10 20\n"
          ]
        }
      ]
    },
    {
      "cell_type": "code",
      "source": [
        "a = 5   # Assigns 5 to 'a'.\n",
        "b = 7   # Assigns 7 to 'b'.\n",
        "\n",
        "print(a == b) # Equality operator: checks if 'a' is equal to 'b' (False).\n",
        "print(a != b) # Inequality operator: checks if 'a' is not equal to 'b' (True).\n",
        "print(a > b)  # Greater than operator: checks if 'a' is greater than 'b' (False).\n",
        "print(a < b)  # Less than operator: checks if 'a' is less than 'b' (True).\n",
        "print(a >= 5) # Greater than or equal to operator: checks if 'a' is greater than or equal to 5 (True).\n",
        "print(a <= 3) # Less than or equal to operator: checks if 'a' is less than or equal to 3 (False)."
      ],
      "metadata": {
        "colab": {
          "base_uri": "https://localhost:8080/"
        },
        "id": "mIULiRjCUm7b",
        "outputId": "9ec9baa4-a383-4ed0-8866-b0a531707a4a"
      },
      "execution_count": null,
      "outputs": [
        {
          "output_type": "stream",
          "name": "stdout",
          "text": [
            "False\n",
            "True\n",
            "False\n",
            "True\n",
            "True\n",
            "False\n"
          ]
        }
      ]
    },
    {
      "cell_type": "code",
      "source": [
        "n = 5       # Assigns 5 to 'n'.\n",
        "print(-n)    # Unary negation operator: negates the value of 'n' (-5).\n",
        "print(+n)    # Unary plus operator: returns the value of 'n' unchanged (+5).\n",
        "\n",
        "flag = True  # Assigns the boolean value True to 'flag'.\n",
        "print(not flag)# Logical NOT operator: negates the boolean value of 'flag' (False)."
      ],
      "metadata": {
        "colab": {
          "base_uri": "https://localhost:8080/"
        },
        "id": "j550FhQKUoy-",
        "outputId": "46abd253-6e0a-471e-fad6-72d4a538f9a9"
      },
      "execution_count": null,
      "outputs": [
        {
          "output_type": "stream",
          "name": "stdout",
          "text": [
            "-5\n",
            "5\n",
            "False\n"
          ]
        }
      ]
    },
    {
      "cell_type": "code",
      "source": [
        "a = 10\n",
        "b = 20\n",
        "\n",
        "# and operator: Returns True if both conditions are True\n",
        "print(a > 5 and b > 15)  # True (10 > 5 is True and 20 > 15 is True)\n",
        "print(a > 15 and b > 15) # False (10 > 15 is False)\n",
        "\n",
        "# or operator: Returns True if at least one condition is True\n",
        "print(a > 15 or b > 15)  # True (20 > 15 is True)\n",
        "print(a < 5 or b < 15)   # False (10 < 5 is False and 20 < 15 is False)\n",
        "\n",
        "# not operator: Returns True if the condition is False, and False if the condition is True\n",
        "x = True\n",
        "y = False\n",
        "print(not x) # False (not True is False)\n",
        "print(not y) # True (not False is True)"
      ],
      "metadata": {
        "colab": {
          "base_uri": "https://localhost:8080/"
        },
        "id": "GWcamzDhUq8P",
        "outputId": "b8178ee0-23b4-45cc-bea5-9feafc4d4bce"
      },
      "execution_count": null,
      "outputs": [
        {
          "output_type": "stream",
          "name": "stdout",
          "text": [
            "True\n",
            "False\n",
            "True\n",
            "False\n",
            "False\n",
            "True\n"
          ]
        }
      ]
    },
    {
      "cell_type": "code",
      "source": [
        "# Assume we have age variables for two people\n",
        "person1_age = 25\n",
        "person2_age = 15\n",
        "\n",
        "# Compare their age with 18\n",
        "print(f\"Person 1 is of age {person1_age}. Is age >= 18? {person1_age >= 18}\")\n",
        "print(f\"Person 2 is of age {person2_age}. Is age >= 18? {person2_age >= 18}\")\n",
        "\n",
        "print(\"-\" * 30)\n",
        "\n",
        "# Check if a number is even AND greater than 10\n",
        "number = 12\n",
        "if number % 2 == 0 and number > 10:\n",
        "    print(f\"{number} is even and greater than 10.\")\n",
        "else:\n",
        "    print(f\"{number} is either odd or not greater than 10.\")\n",
        "\n",
        "number = 9\n",
        "if number % 2 == 0 and number > 10:\n",
        "    print(f\"{number} is even and greater than 10.\")\n",
        "else:\n",
        "    print(f\"{number} is either odd or not greater than 10.\")\n",
        "\n",
        "print(\"-\" * 30)\n",
        "\n",
        "# Use not to invert a condition\n",
        "is_raining = False\n",
        "if not is_raining:\n",
        "    print(\"It's not raining.\")\n",
        "else:\n",
        "    print(\"It's raining.\")\n",
        "\n",
        "print(\"-\" * 30)\n",
        "\n",
        "# Use += and *= in one variable and print results\n",
        "value = 5\n",
        "value += 3  # value is now 5 + 3 = 8\n",
        "print(f\"Value after += 3: {value}\")\n",
        "value *= 2  # value is now 8 * 2 = 16\n",
        "print(f\"Value after *= 2: {value}\")"
      ],
      "metadata": {
        "colab": {
          "base_uri": "https://localhost:8080/"
        },
        "id": "up14P3puUteM",
        "outputId": "ab413bc3-503f-4593-f401-6f866e97de4c"
      },
      "execution_count": null,
      "outputs": [
        {
          "output_type": "stream",
          "name": "stdout",
          "text": [
            "Person 1 is of age 25. Is age >= 18? True\n",
            "Person 2 is of age 15. Is age >= 18? False\n",
            "------------------------------\n",
            "12 is even and greater than 10.\n",
            "9 is either odd or not greater than 10.\n",
            "------------------------------\n",
            "It's not raining.\n",
            "------------------------------\n",
            "Value after += 3: 8\n",
            "Value after *= 2: 16\n"
          ]
        }
      ]
    },
    {
      "cell_type": "code",
      "source": [
        "# Decimal to Binary\n",
        "decimal = 51\n",
        "binary = bin(decimal)\n",
        "print(f\"Binary of {decimal} is:\", binary)\n",
        "\n",
        "# Binary to Decimal\n",
        "binary_value = \"0b110011\"\n",
        "decimal_back = int(binary_value, 2) # The second argument '2' specifies that the input is in base 2 (binary)\n",
        "print(f\"Binary '{binary_value}' to decimal:\", decimal_back)"
      ],
      "metadata": {
        "colab": {
          "base_uri": "https://localhost:8080/"
        },
        "id": "k46cYGHoUv20",
        "outputId": "352c2dea-ee58-413f-c00e-a4ea612857ba"
      },
      "execution_count": null,
      "outputs": [
        {
          "output_type": "stream",
          "name": "stdout",
          "text": [
            "Binary of 51 is: 0b110011\n",
            "Binary '0b110011' to decimal: 51\n"
          ]
        }
      ]
    },
    {
      "cell_type": "code",
      "source": [
        "# Decimal to Octal\n",
        "decimal = 51\n",
        "octal = oct(decimal)\n",
        "print(f\"Octal of {decimal} is:\", octal)\n",
        "\n",
        "# Octal to Decimal\n",
        "octal_value = \"0o63\"\n",
        "decimal_back = int(octal_value, 8) # The second argument '8' specifies that the input is in base 8 (octal)\n",
        "print(f\"Octal '{octal_value}' to decimal:\", decimal_back)"
      ],
      "metadata": {
        "colab": {
          "base_uri": "https://localhost:8080/"
        },
        "id": "0xKX0DGRUyOm",
        "outputId": "70085b25-1726-4151-9e69-527dd2782ed8"
      },
      "execution_count": null,
      "outputs": [
        {
          "output_type": "stream",
          "name": "stdout",
          "text": [
            "Octal of 51 is: 0o63\n",
            "Octal '0o63' to decimal: 51\n"
          ]
        }
      ]
    },
    {
      "cell_type": "code",
      "source": [
        "# Decimal to Hexadecimal\n",
        "decimal = 51\n",
        "hexa = hex(decimal)\n",
        "print(\"Hexadecimal of 51 is:\", hexa)\n",
        "\n",
        "# Hexadecimal to Decimal\n",
        "hex_value = \"0x33\"\n",
        "decimal_back = int(hex_value, 16) # The second argument '16' specifies that the input is in base 16 (hexadecimal)\n",
        "print(\"Hexadecimal '0x33' to decimal:\", decimal_back)"
      ],
      "metadata": {
        "colab": {
          "base_uri": "https://localhost:8080/"
        },
        "id": "7AFqtZiTU0_M",
        "outputId": "da3d3e97-7fca-4167-ff72-9c121eaff555"
      },
      "execution_count": null,
      "outputs": [
        {
          "output_type": "stream",
          "name": "stdout",
          "text": [
            "Hexadecimal of 51 is: 0x33\n",
            "Hexadecimal '0x33' to decimal: 51\n"
          ]
        }
      ]
    },
    {
      "cell_type": "code",
      "source": [
        "binary_str = '11011'\n",
        "decimal = int(binary_str, 2) # Convert binary string to decimal\n",
        "print(\"Binary 11011 to Decimal:\", decimal)\n",
        "\n",
        "octal_str = '360'\n",
        "decimal = int(octal_str, 8)  # Convert octal string to decimal\n",
        "print(\"Octal 360 to Decimal:\", decimal)\n",
        "\n",
        "hex_str = '33'\n",
        "decimal = int(hex_str, 16) # Convert hexadecimal string to decimal\n",
        "print(\"Hexadecimal 33 to Decimal:\", decimal)"
      ],
      "metadata": {
        "colab": {
          "base_uri": "https://localhost:8080/"
        },
        "id": "ZXwRhLZIU3tl",
        "outputId": "fcb209d6-445d-4689-8a95-be41cdcdf17c"
      },
      "execution_count": null,
      "outputs": [
        {
          "output_type": "stream",
          "name": "stdout",
          "text": [
            "Binary 11011 to Decimal: 27\n",
            "Octal 360 to Decimal: 240\n",
            "Hexadecimal 33 to Decimal: 51\n"
          ]
        }
      ]
    },
    {
      "cell_type": "code",
      "source": [
        "octal = \"725\"\n",
        "binary = ''.join([bin(int(digit))[2:].zfill(3) for digit in octal])\n",
        "print(\"Octal 725 to Binary:\", binary)"
      ],
      "metadata": {
        "colab": {
          "base_uri": "https://localhost:8080/"
        },
        "id": "upAGghJfU5bC",
        "outputId": "ff4212b6-0f49-421e-d6b1-3397a9d10890"
      },
      "execution_count": null,
      "outputs": [
        {
          "output_type": "stream",
          "name": "stdout",
          "text": [
            "Octal 725 to Binary: 111010101\n"
          ]
        }
      ]
    },
    {
      "cell_type": "code",
      "source": [
        "binary = '101011011'\n",
        "\n",
        "# Pad the binary string to a multiple of 3\n",
        "while len(binary) % 3 != 0:\n",
        "    binary = '0' + binary\n",
        "\n",
        "octal = ''\n",
        "for i in range(0, len(binary), 3):\n",
        "    octal += str(int(binary[i:i+3], 2))\n",
        "\n",
        "print(\"Binary 101011011 to Octal:\", octal)"
      ],
      "metadata": {
        "colab": {
          "base_uri": "https://localhost:8080/"
        },
        "id": "Tuw-EtCoU8sa",
        "outputId": "b7d0a2fc-8e9d-4d4b-a785-566e3dc7a977"
      },
      "execution_count": null,
      "outputs": [
        {
          "output_type": "stream",
          "name": "stdout",
          "text": [
            "Binary 101011011 to Octal: 533\n"
          ]
        }
      ]
    },
    {
      "cell_type": "code",
      "source": [
        "a = 10  # Binary: 1010\n",
        "b = 4   # Binary: 0100\n",
        "\n",
        "result = a & b  # Bitwise AND: 1010 & 0100 = 0000 (decimal 0)\n",
        "print(result)\n",
        "\n",
        "result = a | b  # Bitwise OR:  1010 | 0100 = 1110 (decimal 14)\n",
        "print(result)\n",
        "\n",
        "result = a ^ b  # Bitwise XOR: 1010 ^ 0100 = 1110 (decimal 14)\n",
        "print(result)"
      ],
      "metadata": {
        "colab": {
          "base_uri": "https://localhost:8080/"
        },
        "id": "Righyzm6U-9f",
        "outputId": "59359835-c544-4e98-8f45-744c176a5a05"
      },
      "execution_count": null,
      "outputs": [
        {
          "output_type": "stream",
          "name": "stdout",
          "text": [
            "0\n",
            "14\n",
            "14\n"
          ]
        }
      ]
    },
    {
      "cell_type": "code",
      "source": [
        "x = 5   # Binary: 0101\n",
        "result = ~x # Bitwise NOT: Inverts all bits. For a signed integer x, the result is -(x+1). So, ~(5) = -(5+1) = -6.\n",
        "print(result)\n",
        "\n",
        "a = 5   # Binary: 0101\n",
        "result = a << 1 # Left Shift: Shifts the bits of 'a' one position to the left. 0101 becomes 1010 (decimal 10).\n",
        "print(result)"
      ],
      "metadata": {
        "colab": {
          "base_uri": "https://localhost:8080/"
        },
        "id": "VjEYDdojVBAf",
        "outputId": "b3a17052-4e5b-425b-cbbc-5e7226b4ebb9"
      },
      "execution_count": null,
      "outputs": [
        {
          "output_type": "stream",
          "name": "stdout",
          "text": [
            "-6\n",
            "10\n"
          ]
        }
      ]
    },
    {
      "cell_type": "code",
      "source": [
        "a = 10  # Binary: 1010\n",
        "b = 4   # Binary: 0100\n",
        "print(\"a & b =\", a & b)  # Bitwise AND\n",
        "print(\"a | b =\", a | b)  # Bitwise OR\n",
        "print(\"a ^ b =\", a ^ b)  # Bitwise XOR\n",
        "print(\"~a =\", ~a)    # Bitwise NOT (-(10+1) = -11)\n",
        "print(\"a << 1 =\", a << 1) # Left Shift (10 * 2 = 20)\n",
        "print(\"a >> 1 =\", a >> 1) # Right Shift (10 // 2 = 5)\n",
        "\n",
        "x = 7   # Binary: 0111\n",
        "y = 3   # Binary: 0011\n",
        "print(\"x & y =\", x & y)\n",
        "print(\"x | y =\", x | y)\n",
        "print(\"x ^ y =\", x ^ y)\n",
        "print(\"~x =\", ~x)    # -(7+1) = -8\n",
        "print(\"x << 2 =\", x << 2) # 7 * (2**2) = 28\n",
        "print(\"x >> 2 =\", x >> 2) # 7 // (2**2) = 1"
      ],
      "metadata": {
        "colab": {
          "base_uri": "https://localhost:8080/"
        },
        "id": "mC2uwp0fVDi9",
        "outputId": "266414a4-3c97-4d52-f317-ba5f4ee56406"
      },
      "execution_count": null,
      "outputs": [
        {
          "output_type": "stream",
          "name": "stdout",
          "text": [
            "a & b = 0\n",
            "a | b = 14\n",
            "a ^ b = 14\n",
            "~a = -11\n",
            "a << 1 = 20\n",
            "a >> 1 = 5\n",
            "x & y = 3\n",
            "x | y = 7\n",
            "x ^ y = 4\n",
            "~x = -8\n",
            "x << 2 = 28\n",
            "x >> 2 = 1\n"
          ]
        }
      ]
    },
    {
      "cell_type": "code",
      "source": [],
      "metadata": {
        "id": "iAE6Gg9nVFcW"
      },
      "execution_count": null,
      "outputs": []
    }
  ]
}