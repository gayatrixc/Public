{
 "cells": [
  {
   "cell_type": "code",
   "execution_count": null,
   "metadata": {
    "colab": {
     "base_uri": "https://localhost:8080/"
    },
    "id": "CsJNhb602gWH",
    "outputId": "cb37990f-936a-427a-e104-0b4c88bf7928"
   },
   "outputs": [
    {
     "name": "stdout",
     "output_type": "stream",
     "text": [
      "Hello! Welcome to Python functions.\n"
     ]
    }
   ],
   "source": [
    "# This is how we create (define) a function in Python\n",
    "def greet():\n",
    "    print(\"Hello! Welcome to Python functions.\")\n",
    "\n",
    "# This is how we call (use) the function\n",
    "greet()\n"
   ]
  },
  {
   "cell_type": "code",
   "execution_count": null,
   "metadata": {
    "colab": {
     "base_uri": "https://localhost:8080/"
    },
    "id": "b3_jCu2D3CYU",
    "outputId": "514f7417-47c7-4ad1-b31f-172d9150827d"
   },
   "outputs": [
    {
     "name": "stdout",
     "output_type": "stream",
     "text": [
      "Sum is: 9\n"
     ]
    }
   ],
   "source": [
    "# This function adds two numbers and prints the result\n",
    "def add_numbers(a, b):\n",
    "    sum = a + b\n",
    "    print(\"Sum is:\", sum)\n",
    "\n",
    "# Calling the function with 2 numbers (actual arguments)\n",
    "add_numbers(4, 5)\n"
   ]
  },
  {
   "cell_type": "code",
   "execution_count": null,
   "metadata": {
    "colab": {
     "base_uri": "https://localhost:8080/"
    },
    "id": "UjNWMjDH3GZM",
    "outputId": "e72f72b2-3baf-4b52-b8e3-08f8c0559841"
   },
   "outputs": [
    {
     "name": "stdout",
     "output_type": "stream",
     "text": [
      "Hello Jay\n"
     ]
    }
   ],
   "source": [
    "# 'name' is a formal argument\n",
    "def say_hello(name):\n",
    "    print(\"Hello\", name)\n",
    "\n",
    "# 'Jay' is the actual argument\n",
    "say_hello(\"Jay\")\n"
   ]
  },
  {
   "cell_type": "code",
   "execution_count": null,
   "metadata": {
    "colab": {
     "base_uri": "https://localhost:8080/"
    },
    "id": "kL2l1DUE3JIi",
    "outputId": "044d64d9-60aa-4ae9-94ab-f7f00c887949"
   },
   "outputs": [
    {
     "name": "stdout",
     "output_type": "stream",
     "text": [
      "Multiplication is: 12\n"
     ]
    }
   ],
   "source": [
    "# Function with two arguments\n",
    "def multiply(x, y):\n",
    "    result = x * y\n",
    "    print(\"Multiplication is:\", result)\n",
    "\n",
    "multiply(3, 4)\n"
   ]
  },
  {
   "cell_type": "code",
   "execution_count": null,
   "metadata": {
    "colab": {
     "base_uri": "https://localhost:8080/"
    },
    "id": "hai-72Mf3MWa",
    "outputId": "4a67079e-2a6b-4b30-8f80-87ddafe65a26"
   },
   "outputs": [
    {
     "name": "stdout",
     "output_type": "stream",
     "text": [
      "Returned result is: 15\n"
     ]
    }
   ],
   "source": [
    "# Function that returns the sum of two numbers\n",
    "def add(a, b):\n",
    "    return a + b\n",
    "\n",
    "# Store the result in a variable\n",
    "result = add(10, 5)\n",
    "print(\"Returned result is:\", result)\n"
   ]
  },
  {
   "cell_type": "code",
   "execution_count": null,
   "metadata": {
    "colab": {
     "base_uri": "https://localhost:8080/"
    },
    "id": "IjU0wNA83PPW",
    "outputId": "59a17de6-4ad6-4240-d7dc-a6ef83296ca1"
   },
   "outputs": [
    {
     "name": "stdout",
     "output_type": "stream",
     "text": [
      "Sum is: 14\n",
      "Difference is: 6\n"
     ]
    }
   ],
   "source": [
    "# Function that adds and subtracts and returns both\n",
    "def add_subtract(x, y):\n",
    "    sum = x + y\n",
    "    diff = x - y\n",
    "    return sum, diff  # returning 2 values\n",
    "\n",
    "# Storing both results\n",
    "result1, result2 = add_subtract(10, 4)\n",
    "print(\"Sum is:\", result1)\n",
    "print(\"Difference is:\", result2)\n"
   ]
  },
  {
   "cell_type": "code",
   "execution_count": null,
   "metadata": {
    "colab": {
     "base_uri": "https://localhost:8080/",
     "height": 108
    },
    "id": "3ddSfjzs3SNT",
    "outputId": "6bbaa0f2-178e-47f7-caa4-b0a6de9d1927"
   },
   "outputs": [
    {
     "ename": "SyntaxError",
     "evalue": "invalid syntax (<ipython-input-7-a136dd68a70b>, line 1)",
     "output_type": "error",
     "traceback": [
      "\u001b[0;36m  File \u001b[0;32m\"<ipython-input-7-a136dd68a70b>\"\u001b[0;36m, line \u001b[0;32m1\u001b[0m\n\u001b[0;31m    A function to find the square of a number\u001b[0m\n\u001b[0m      ^\u001b[0m\n\u001b[0;31mSyntaxError\u001b[0m\u001b[0;31m:\u001b[0m invalid syntax\n"
     ]
    }
   ],
   "source": [
    "A function to find the square of a number\n",
    "\n",
    "A function to check if a number is even or odd\n",
    "\n",
    "A function to greet a user with their name\n",
    "\n",
    "A function to return the bigger of two numbers"
   ]
  },
  {
   "cell_type": "code",
   "execution_count": null,
   "metadata": {
    "colab": {
     "base_uri": "https://localhost:8080/"
    },
    "id": "attCP9W83X6k",
    "outputId": "46fa1686-ee5b-4ef7-db18-a942d8a89fec"
   },
   "outputs": [
    {
     "name": "stdout",
     "output_type": "stream",
     "text": [
      "Before function call: 5\n",
      "Before changing, inside function: 5\n",
      "After changing, inside function: 15\n",
      "After function call: 5\n"
     ]
    }
   ],
   "source": [
    "# Function trying to modify an integer\n",
    "def modify_number(n):\n",
    "    print(\"Before changing, inside function:\", n)\n",
    "    n = n + 10\n",
    "    print(\"After changing, inside function:\", n)\n",
    "\n",
    "# Main code\n",
    "x = 5\n",
    "print(\"Before function call:\", x)\n",
    "modify_number(x)\n",
    "print(\"After function call:\", x)\n"
   ]
  },
  {
   "cell_type": "code",
   "execution_count": null,
   "metadata": {
    "colab": {
     "base_uri": "https://localhost:8080/"
    },
    "id": "h_MGLMvq37qT",
    "outputId": "7cf55a25-dc85-469a-fc6a-ba3deffa3701"
   },
   "outputs": [
    {
     "name": "stdout",
     "output_type": "stream",
     "text": [
      "Original list before function call: [10, 20, 30]\n",
      "Before modification: [10, 20, 30]\n",
      "After modification: [10, 25, 30]\n",
      "Original list after function call: [10, 25, 30]\n"
     ]
    }
   ],
   "source": [
    "# Function modifying a list\n",
    "def update_list(my_list):\n",
    "    print(\"Before modification:\", my_list)\n",
    "    my_list[1] = 25\n",
    "    print(\"After modification:\", my_list)\n",
    "\n",
    "# Main code\n",
    "lst = [10, 20, 30]\n",
    "print(\"Original list before function call:\", lst)\n",
    "update_list(lst)\n",
    "print(\"Original list after function call:\", lst)\n"
   ]
  },
  {
   "cell_type": "code",
   "execution_count": null,
   "metadata": {
    "colab": {
     "base_uri": "https://localhost:8080/"
    },
    "id": "ERNuXcq03-VY",
    "outputId": "eaf96887-ac9f-416a-ecd6-e8437d707002"
   },
   "outputs": [
    {
     "name": "stdout",
     "output_type": "stream",
     "text": [
      "ID before function call: 135337391523712\n",
      "ID before modification inside function: 135337391523712\n",
      "ID after modification inside function: 135337391523712\n",
      "List inside function: [10, 25, 30]\n",
      "List after function call: [10, 25, 30]\n"
     ]
    }
   ],
   "source": [
    "def update(lst):\n",
    "    print(\"ID before modification inside function:\", id(lst))\n",
    "    lst[1] = 25\n",
    "    print(\"ID after modification inside function:\", id(lst))\n",
    "    print(\"List inside function:\", lst)\n",
    "\n",
    "lst = [10, 20, 30]\n",
    "print(\"ID before function call:\", id(lst))\n",
    "update(lst)\n",
    "print(\"List after function call:\", lst)\n"
   ]
  },
  {
   "cell_type": "code",
   "execution_count": null,
   "metadata": {
    "colab": {
     "base_uri": "https://localhost:8080/",
     "height": 108
    },
    "id": "9ZoGBhYD4A_h",
    "outputId": "122406fd-644b-45b5-e613-f675e8d21d56"
   },
   "outputs": [
    {
     "ename": "SyntaxError",
     "evalue": "invalid syntax (<ipython-input-11-37e2d8473ef0>, line 1)",
     "output_type": "error",
     "traceback": [
      "\u001b[0;36m  File \u001b[0;32m\"<ipython-input-11-37e2d8473ef0>\"\u001b[0;36m, line \u001b[0;32m1\u001b[0m\n\u001b[0;31m    Write a function to double a number and return it.\u001b[0m\n\u001b[0m          ^\u001b[0m\n\u001b[0;31mSyntaxError\u001b[0m\u001b[0;31m:\u001b[0m invalid syntax\n"
     ]
    }
   ],
   "source": [
    "Write a function to double a number and return it.\n",
    "\n",
    "Write a function to append an item to a list.\n",
    "\n",
    "Try modifying a string inside a function and see what happens.\n",
    "\n",
    "Use id() to check memory addresses for mutable and immutable types."
   ]
  },
  {
   "cell_type": "code",
   "execution_count": null,
   "metadata": {
    "colab": {
     "base_uri": "https://localhost:8080/"
    },
    "id": "2foHACH04EUW",
    "outputId": "3bba2849-5b42-4068-cfdc-5117ae75e10b"
   },
   "outputs": [
    {
     "name": "stdout",
     "output_type": "stream",
     "text": [
      "Name: John\n",
      "Age: 25\n"
     ]
    }
   ],
   "source": [
    "def person(name, age):\n",
    "    print(\"Name:\", name)\n",
    "    print(\"Age:\", age)\n",
    "\n",
    "# Positional arguments: 'John' goes to name, 25 goes to age\n",
    "person('John', 25)\n"
   ]
  },
  {
   "cell_type": "code",
   "execution_count": null,
   "metadata": {
    "colab": {
     "base_uri": "https://localhost:8080/"
    },
    "id": "heYUhlTO4f4A",
    "outputId": "f8ab2025-cb75-4531-f72b-fdd40330e905"
   },
   "outputs": [
    {
     "name": "stdout",
     "output_type": "stream",
     "text": [
      "Name: Alice\n",
      "Age: 30\n"
     ]
    }
   ],
   "source": [
    "def person(name, age):\n",
    "    print(\"Name:\", name)\n",
    "    print(\"Age:\", age)\n",
    "\n",
    "# Using keyword arguments in any order\n",
    "person(age=30, name='Alice')\n"
   ]
  },
  {
   "cell_type": "code",
   "execution_count": null,
   "metadata": {
    "colab": {
     "base_uri": "https://localhost:8080/"
    },
    "id": "igru6oLX4jIO",
    "outputId": "9cde8134-b710-4d0c-ca07-9f7f4eccce02"
   },
   "outputs": [
    {
     "name": "stdout",
     "output_type": "stream",
     "text": [
      "Name: Navin\n",
      "Age: 28\n",
      "Name: Ravi\n",
      "Age: 35\n"
     ]
    }
   ],
   "source": [
    "def person(name, age=28):\n",
    "    print(\"Name:\", name)\n",
    "    print(\"Age:\", age)\n",
    "\n",
    "# Using default value for age\n",
    "person('Navin')\n",
    "\n",
    "# Overriding default value\n",
    "person('Ravi', 35)\n"
   ]
  },
  {
   "cell_type": "code",
   "execution_count": null,
   "metadata": {
    "colab": {
     "base_uri": "https://localhost:8080/"
    },
    "id": "wIcBHl_z4mS_",
    "outputId": "edbeddd8-a255-48a2-956c-74d9d0d59441"
   },
   "outputs": [
    {
     "name": "stdout",
     "output_type": "stream",
     "text": [
      "First number (a): 5\n",
      "Remaining numbers (*b): (6, 34, 78)\n",
      "Total sum: 123\n"
     ]
    }
   ],
   "source": [
    "def sum_numbers(a, *b):\n",
    "    print(\"First number (a):\", a)\n",
    "    print(\"Remaining numbers (*b):\", b)\n",
    "\n",
    "    total = a\n",
    "    for number in b:\n",
    "        total += number\n",
    "    print(\"Total sum:\", total)\n",
    "\n",
    "# Passing multiple arguments\n",
    "sum_numbers(5, 6, 34, 78)\n"
   ]
  },
  {
   "cell_type": "code",
   "execution_count": null,
   "metadata": {
    "colab": {
     "base_uri": "https://localhost:8080/"
    },
    "id": "8dsPyzLv4pM7",
    "outputId": "83ccf0d1-0c2e-4127-87fa-b3b5af19c296"
   },
   "outputs": [
    {
     "name": "stdout",
     "output_type": "stream",
     "text": [
      "Name: Navin\n",
      "Other Info (tuple): (28, 9765432, 'Mumbai')\n"
     ]
    }
   ],
   "source": [
    "def person(name, *data):  # *data will store remaining values as a tuple\n",
    "    print(\"Name:\", name)\n",
    "    print(\"Other Info (tuple):\", data)\n",
    "\n",
    "person('Navin', 28, 9765432, 'Mumbai')\n"
   ]
  },
  {
   "cell_type": "code",
   "execution_count": null,
   "metadata": {
    "colab": {
     "base_uri": "https://localhost:8080/"
    },
    "id": "m1Hm_mAM46FR",
    "outputId": "05074fe3-d3f8-4f62-ee20-3edfff482a82"
   },
   "outputs": [
    {
     "name": "stdout",
     "output_type": "stream",
     "text": [
      "Name: Navin\n",
      "Other Info (dict): {'age': 28, 'city': 'Mumbai', 'mob': 9865432}\n"
     ]
    }
   ],
   "source": [
    "def person(name, **data):  # **data collects keyword args into a dictionary\n",
    "    print(\"Name:\", name)\n",
    "    print(\"Other Info (dict):\", data)\n",
    "\n",
    "person(name='Navin', age=28, city='Mumbai', mob=9865432)\n"
   ]
  },
  {
   "cell_type": "code",
   "execution_count": null,
   "metadata": {
    "colab": {
     "base_uri": "https://localhost:8080/"
    },
    "id": "UFZs8RVy49If",
    "outputId": "43d15a5f-c20a-49e8-82ca-8da005aea95e"
   },
   "outputs": [
    {
     "name": "stdout",
     "output_type": "stream",
     "text": [
      "Name: Navin\n",
      "age: 28\n",
      "city: Mumbai\n",
      "mob: 9865432\n"
     ]
    }
   ],
   "source": [
    "def person(name, **data):\n",
    "    print(\"Name:\", name)\n",
    "    for key, value in data.items():  # Loop through the dictionary\n",
    "        print(f\"{key}: {value}\")\n",
    "\n",
    "person(name='Navin', age=28, city='Mumbai', mob=9865432)\n"
   ]
  },
  {
   "cell_type": "code",
   "execution_count": null,
   "metadata": {
    "id": "HvKidsDG4_CD"
   },
   "outputs": [],
   "source": []
  }
 ],
 "metadata": {
  "colab": {
   "provenance": []
  },
  "kernelspec": {
   "display_name": "Python 3 (ipykernel)",
   "language": "python",
   "name": "python3"
  },
  "language_info": {
   "codemirror_mode": {
    "name": "ipython",
    "version": 3
   },
   "file_extension": ".py",
   "mimetype": "text/x-python",
   "name": "python",
   "nbconvert_exporter": "python",
   "pygments_lexer": "ipython3",
   "version": "3.11.7"
  }
 },
 "nbformat": 4,
 "nbformat_minor": 4
}
