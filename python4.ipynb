{
 "cells": [
  {
   "cell_type": "code",
   "execution_count": null,
   "metadata": {
    "colab": {
     "base_uri": "https://localhost:8080/"
    },
    "id": "9XXhwKRASayZ",
    "outputId": "511b0c01-1072-4de1-cce3-a52cfa38b813"
   },
   "outputs": [
    {
     "data": {
      "text/plain": [
       "5"
      ]
     },
     "execution_count": 1,
     "metadata": {},
     "output_type": "execute_result"
    }
   ],
   "source": [
    "2+3"
   ]
  },
  {
   "cell_type": "code",
   "execution_count": null,
   "metadata": {
    "colab": {
     "base_uri": "https://localhost:8080/"
    },
    "id": "__qDUxEwUMIq",
    "outputId": "b625d6b4-24a2-49c4-f4ad-956382980060"
   },
   "outputs": [
    {
     "data": {
      "text/plain": [
       "3"
      ]
     },
     "execution_count": 2,
     "metadata": {},
     "output_type": "execute_result"
    }
   ],
   "source": [
    "9-6"
   ]
  },
  {
   "cell_type": "code",
   "execution_count": null,
   "metadata": {
    "colab": {
     "base_uri": "https://localhost:8080/"
    },
    "id": "jgjJE9BpUPxg",
    "outputId": "4290d4ba-4a07-4b61-cbff-bc801ac3b962"
   },
   "outputs": [
    {
     "data": {
      "text/plain": [
       "2.0"
      ]
     },
     "execution_count": 3,
     "metadata": {},
     "output_type": "execute_result"
    }
   ],
   "source": [
    "8/4"
   ]
  },
  {
   "cell_type": "code",
   "execution_count": null,
   "metadata": {
    "colab": {
     "base_uri": "https://localhost:8080/"
    },
    "id": "pnaCAO_zUSnt",
    "outputId": "53f01848-8872-47a3-a30d-077a4455c661"
   },
   "outputs": [
    {
     "data": {
      "text/plain": [
       "2.5"
      ]
     },
     "execution_count": 4,
     "metadata": {},
     "output_type": "execute_result"
    }
   ],
   "source": [
    "5/2"
   ]
  },
  {
   "cell_type": "code",
   "execution_count": null,
   "metadata": {
    "colab": {
     "base_uri": "https://localhost:8080/"
    },
    "id": "2TeBYDiQUWqg",
    "outputId": "4cc6b2de-fa6e-48f0-f4d3-82f41e92aeda"
   },
   "outputs": [
    {
     "data": {
      "text/plain": [
       "2"
      ]
     },
     "execution_count": 5,
     "metadata": {},
     "output_type": "execute_result"
    }
   ],
   "source": [
    "5//2"
   ]
  },
  {
   "cell_type": "code",
   "execution_count": null,
   "metadata": {
    "colab": {
     "base_uri": "https://localhost:8080/"
    },
    "id": "4TZ3aomUUdZi",
    "outputId": "2bb91699-6d7b-4558-f941-107a011b8788"
   },
   "outputs": [
    {
     "data": {
      "text/plain": [
       "7"
      ]
     },
     "execution_count": 6,
     "metadata": {},
     "output_type": "execute_result"
    }
   ],
   "source": [
    "8+9-10"
   ]
  },
  {
   "cell_type": "code",
   "execution_count": null,
   "metadata": {
    "colab": {
     "base_uri": "https://localhost:8080/"
    },
    "id": "jCG9bWxkUjBA",
    "outputId": "71bb73da-5e93-481c-ab23-52ee7b66f01b"
   },
   "outputs": [
    {
     "data": {
      "text/plain": [
       "30"
      ]
     },
     "execution_count": 7,
     "metadata": {},
     "output_type": "execute_result"
    }
   ],
   "source": [
    "(8+2)*3"
   ]
  },
  {
   "cell_type": "code",
   "execution_count": null,
   "metadata": {
    "colab": {
     "base_uri": "https://localhost:8080/"
    },
    "id": "3XEUSbv_Utcv",
    "outputId": "34ee98f1-7b2f-401c-d693-e9b9411d9240"
   },
   "outputs": [
    {
     "data": {
      "text/plain": [
       "8"
      ]
     },
     "execution_count": 8,
     "metadata": {},
     "output_type": "execute_result"
    }
   ],
   "source": [
    "2*2*2"
   ]
  },
  {
   "cell_type": "code",
   "execution_count": null,
   "metadata": {
    "colab": {
     "base_uri": "https://localhost:8080/"
    },
    "id": "0pLNxKpBU0kC",
    "outputId": "78f9663e-9b02-4e3c-d340-9f994d3fb2a3"
   },
   "outputs": [
    {
     "data": {
      "text/plain": [
       "8"
      ]
     },
     "execution_count": 9,
     "metadata": {},
     "output_type": "execute_result"
    }
   ],
   "source": [
    "2**3"
   ]
  },
  {
   "cell_type": "code",
   "execution_count": null,
   "metadata": {
    "colab": {
     "base_uri": "https://localhost:8080/"
    },
    "id": "4lgqcrt5VALk",
    "outputId": "2b3267d9-e530-4e55-8879-cb8eea6a1389"
   },
   "outputs": [
    {
     "data": {
      "text/plain": [
       "3"
      ]
     },
     "execution_count": 10,
     "metadata": {},
     "output_type": "execute_result"
    }
   ],
   "source": [
    "10 // 3"
   ]
  },
  {
   "cell_type": "code",
   "execution_count": null,
   "metadata": {
    "colab": {
     "base_uri": "https://localhost:8080/"
    },
    "id": "o-vHMtTpVGM2",
    "outputId": "ae69de8f-44cb-4c66-d110-5ecbcc953684"
   },
   "outputs": [
    {
     "data": {
      "text/plain": [
       "1"
      ]
     },
     "execution_count": 11,
     "metadata": {},
     "output_type": "execute_result"
    }
   ],
   "source": [
    "10 % 3"
   ]
  },
  {
   "cell_type": "code",
   "execution_count": null,
   "metadata": {
    "colab": {
     "base_uri": "https://localhost:8080/",
     "height": 36
    },
    "id": "66-T0X-QVNj_",
    "outputId": "380f5685-4121-44c3-8552-dc0fa718d335"
   },
   "outputs": [
    {
     "data": {
      "application/vnd.google.colaboratory.intrinsic+json": {
       "type": "string"
      },
      "text/plain": [
       "'jaya'"
      ]
     },
     "execution_count": 12,
     "metadata": {},
     "output_type": "execute_result"
    }
   ],
   "source": [
    "'jaya'"
   ]
  },
  {
   "cell_type": "code",
   "execution_count": null,
   "metadata": {
    "colab": {
     "base_uri": "https://localhost:8080/"
    },
    "id": "3VThtYvxVVtt",
    "outputId": "e9ccec67-fc15-4589-e7f9-1e4cf8ebbe94"
   },
   "outputs": [
    {
     "name": "stdout",
     "output_type": "stream",
     "text": [
      "jaya\n"
     ]
    }
   ],
   "source": [
    "print('jaya')"
   ]
  },
  {
   "cell_type": "code",
   "execution_count": null,
   "metadata": {
    "colab": {
     "base_uri": "https://localhost:8080/",
     "height": 106
    },
    "id": "ENGpMOjTVboB",
    "outputId": "6dbf7266-c295-44ae-e625-21d43edf7886"
   },
   "outputs": [
    {
     "ename": "SyntaxError",
     "evalue": "unterminated string literal (detected at line 1) (<ipython-input-14-95c6d484faf8>, line 1)",
     "output_type": "error",
     "traceback": [
      "\u001b[0;36m  File \u001b[0;32m\"<ipython-input-14-95c6d484faf8>\"\u001b[0;36m, line \u001b[0;32m1\u001b[0m\n\u001b[0;31m    print('jaya's system')\u001b[0m\n\u001b[0m                        ^\u001b[0m\n\u001b[0;31mSyntaxError\u001b[0m\u001b[0;31m:\u001b[0m unterminated string literal (detected at line 1)\n"
     ]
    }
   ],
   "source": [
    "print('jaya's system')"
   ]
  },
  {
   "cell_type": "code",
   "execution_count": null,
   "metadata": {
    "colab": {
     "base_uri": "https://localhost:8080/"
    },
    "id": "YFEfInIaVtZ6",
    "outputId": "aaa2947b-e804-414c-dcbf-4bb3758a3c63"
   },
   "outputs": [
    {
     "name": "stdout",
     "output_type": "stream",
     "text": [
      "jaya's system\n"
     ]
    }
   ],
   "source": [
    "print(\"jaya's system\")"
   ]
  },
  {
   "cell_type": "code",
   "execution_count": null,
   "metadata": {
    "colab": {
     "base_uri": "https://localhost:8080/"
    },
    "id": "-7alaLDDV4Bn",
    "outputId": "e19d55d2-f405-4e6e-aab0-31f6f5f2a264"
   },
   "outputs": [
    {
     "name": "stdout",
     "output_type": "stream",
     "text": [
      "jaya 'system'\n"
     ]
    }
   ],
   "source": [
    "print(\"jaya 'system'\")"
   ]
  },
  {
   "cell_type": "code",
   "execution_count": null,
   "metadata": {
    "colab": {
     "base_uri": "https://localhost:8080/",
     "height": 36
    },
    "id": "tlSv-6C4WFdh",
    "outputId": "e00b6cb4-b7f3-44ec-8784-8b74708227fe"
   },
   "outputs": [
    {
     "data": {
      "application/vnd.google.colaboratory.intrinsic+json": {
       "type": "string"
      },
      "text/plain": [
       "'jayajaya'"
      ]
     },
     "execution_count": 17,
     "metadata": {},
     "output_type": "execute_result"
    }
   ],
   "source": [
    "'jaya' + 'jaya'"
   ]
  },
  {
   "cell_type": "code",
   "execution_count": null,
   "metadata": {
    "colab": {
     "base_uri": "https://localhost:8080/",
     "height": 36
    },
    "id": "ztxUupx_WRx5",
    "outputId": "dd7e6ab6-06c8-4bc8-8183-737f9c9cab8a"
   },
   "outputs": [
    {
     "data": {
      "application/vnd.google.colaboratory.intrinsic+json": {
       "type": "string"
      },
      "text/plain": [
       "'jayajayajayajayajayajaya'"
      ]
     },
     "execution_count": 19,
     "metadata": {},
     "output_type": "execute_result"
    }
   ],
   "source": [
    "6*'jaya'"
   ]
  },
  {
   "cell_type": "code",
   "execution_count": null,
   "metadata": {
    "colab": {
     "base_uri": "https://localhost:8080/"
    },
    "id": "ZpmGtj4VWXKS",
    "outputId": "5ea20127-115a-42a1-a74a-49b3701311fd"
   },
   "outputs": [
    {
     "name": "stdout",
     "output_type": "stream",
     "text": [
      "jaya\n",
      "system\n"
     ]
    }
   ],
   "source": [
    "print('jaya\\nsystem')"
   ]
  },
  {
   "cell_type": "code",
   "execution_count": null,
   "metadata": {
    "colab": {
     "base_uri": "https://localhost:8080/"
    },
    "id": "n6CUjEHZWnSv",
    "outputId": "8a4f4ec6-cbf9-413f-d17a-d4c7f9c853fe"
   },
   "outputs": [
    {
     "name": "stdout",
     "output_type": "stream",
     "text": [
      "Addition: 15\n"
     ]
    }
   ],
   "source": [
    "a = 10\n",
    "b = 5\n",
    "result = a + b\n",
    "print(\"Addition:\", result)"
   ]
  },
  {
   "cell_type": "code",
   "execution_count": null,
   "metadata": {
    "colab": {
     "base_uri": "https://localhost:8080/"
    },
    "id": "ZQKO06qWXIp1",
    "outputId": "9ac5057b-6801-4222-c92d-d6e81dc894f3"
   },
   "outputs": [
    {
     "name": "stdout",
     "output_type": "stream",
     "text": [
      "Subtraction: 8\n"
     ]
    }
   ],
   "source": [
    "a = 15\n",
    "b = 7\n",
    "result = a - b\n",
    "print(\"Subtraction:\", result)"
   ]
  },
  {
   "cell_type": "code",
   "execution_count": null,
   "metadata": {
    "colab": {
     "base_uri": "https://localhost:8080/"
    },
    "id": "p9FaOcvbXgWF",
    "outputId": "119c0680-2b6c-4b54-c722-3e60a80f9a01"
   },
   "outputs": [
    {
     "name": "stdout",
     "output_type": "stream",
     "text": [
      "Multiplication: 24\n"
     ]
    }
   ],
   "source": [
    "a = 4\n",
    "b = 6\n",
    "result = a * b\n",
    "print(\"Multiplication:\", result)"
   ]
  },
  {
   "cell_type": "code",
   "execution_count": null,
   "metadata": {
    "colab": {
     "base_uri": "https://localhost:8080/"
    },
    "id": "BTDNMfzkXl6Z",
    "outputId": "cae0f94a-541f-4783-b4e1-cd003cddf261"
   },
   "outputs": [
    {
     "name": "stdout",
     "output_type": "stream",
     "text": [
      "Division: 5.0\n"
     ]
    }
   ],
   "source": [
    "a = 20\n",
    "b = 4\n",
    "result = a / b  # gives decimal value\n",
    "print(\"Division:\", result)"
   ]
  },
  {
   "cell_type": "code",
   "execution_count": null,
   "metadata": {
    "colab": {
     "base_uri": "https://localhost:8080/"
    },
    "id": "Zkqh4iMDXo1j",
    "outputId": "95fc9d7a-e083-4fc0-cf27-34b2c62c2b72"
   },
   "outputs": [
    {
     "name": "stdout",
     "output_type": "stream",
     "text": [
      "Integer Division: 6\n"
     ]
    }
   ],
   "source": [
    "a = 20\n",
    "b = 3\n",
    "result = a // b  # gives only the whole number part\n",
    "print(\"Integer Division:\", result)"
   ]
  },
  {
   "cell_type": "code",
   "execution_count": null,
   "metadata": {
    "colab": {
     "base_uri": "https://localhost:8080/"
    },
    "id": "xDWjSjnbXs1L",
    "outputId": "1401f781-5c70-4622-e16f-f119d0e11f06"
   },
   "outputs": [
    {
     "name": "stdout",
     "output_type": "stream",
     "text": [
      "Remainder: 2\n"
     ]
    }
   ],
   "source": [
    "a = 20\n",
    "b = 3\n",
    "result = a % b  # gives the remainder\n",
    "print(\"Remainder:\", result)"
   ]
  },
  {
   "cell_type": "code",
   "execution_count": null,
   "metadata": {
    "colab": {
     "base_uri": "https://localhost:8080/"
    },
    "id": "GrBU67ubXv5t",
    "outputId": "239ff81c-3ce6-4eb7-adea-c6502c7b4e05"
   },
   "outputs": [
    {
     "name": "stdout",
     "output_type": "stream",
     "text": [
      "Power: 8\n"
     ]
    }
   ],
   "source": [
    "a = 2\n",
    "b = 3\n",
    "result = a ** b  # 2 to the power 3 = 8\n",
    "print(\"Power:\", result)"
   ]
  },
  {
   "cell_type": "code",
   "execution_count": null,
   "metadata": {
    "colab": {
     "base_uri": "https://localhost:8080/"
    },
    "id": "54eCSquGXzVO",
    "outputId": "e9f6563a-b39b-44fd-d62a-158a5c3f9b81"
   },
   "outputs": [
    {
     "name": "stdout",
     "output_type": "stream",
     "text": [
      "My name is Jay and I am 10 years old.\n"
     ]
    }
   ],
   "source": [
    "name = \"Jay\"\n",
    "age = 10\n",
    "print(\"My name is\", name, \"and I am\", age, \"years old.\")"
   ]
  },
  {
   "cell_type": "code",
   "execution_count": null,
   "metadata": {
    "colab": {
     "base_uri": "https://localhost:8080/"
    },
    "id": "ZYXLB91gX24n",
    "outputId": "299f13c7-3282-4f85-9d26-ea52891b67d8"
   },
   "outputs": [
    {
     "name": "stdout",
     "output_type": "stream",
     "text": [
      "A\n",
      "l\n",
      "i\n"
     ]
    }
   ],
   "source": [
    "name = \"Alice\"\n",
    "\n",
    "# Accessing individual characters using indexing\n",
    "print(name[0])  # First character\n",
    "print(name[1])  # Second character\n",
    "print(name[-3]) # Last character\n"
   ]
  },
  {
   "cell_type": "code",
   "execution_count": null,
   "metadata": {
    "colab": {
     "base_uri": "https://localhost:8080/"
    },
    "id": "42UzL894aDMw",
    "outputId": "21cba589-4564-43e4-d5f0-7b4dc7ff7d56"
   },
   "outputs": [
    {
     "name": "stdout",
     "output_type": "stream",
     "text": [
      "Ali\n",
      "Alic\n",
      "ice\n"
     ]
    }
   ],
   "source": [
    "name = \"Alice\"\n",
    "\n",
    "# Slicing means cutting a part of the string\n",
    "print(name[0:3])  # From index 0 to 2 (not including 3)\n",
    "print(name[:4])   # From start to index 3\n",
    "print(name[2:])   # From index 2 to end"
   ]
  },
  {
   "cell_type": "code",
   "execution_count": null,
   "metadata": {
    "colab": {
     "base_uri": "https://localhost:8080/"
    },
    "id": "3OA3HMRfaeS0",
    "outputId": "cb9c42cb-0170-48a7-c5d1-34d341b9a0ff"
   },
   "outputs": [
    {
     "name": "stdout",
     "output_type": "stream",
     "text": [
      "Alice Smith\n"
     ]
    }
   ],
   "source": [
    "first_name = \"Alice\"\n",
    "last_name = \"Smith\"\n",
    "\n",
    "# Combine with + operator\n",
    "full_name = first_name + \" \" + last_name\n",
    "print(full_name)"
   ]
  },
  {
   "cell_type": "code",
   "execution_count": null,
   "metadata": {
    "colab": {
     "base_uri": "https://localhost:8080/"
    },
    "id": "2ENGmdNFa6o2",
    "outputId": "a0be0503-4030-4d14-a73a-df5770cb42d7"
   },
   "outputs": [
    {
     "name": "stdout",
     "output_type": "stream",
     "text": [
      "13\n"
     ]
    }
   ],
   "source": [
    "message = \"Hello, world!\"\n",
    "print(len(message))"
   ]
  },
  {
   "cell_type": "code",
   "execution_count": null,
   "metadata": {
    "colab": {
     "base_uri": "https://localhost:8080/"
    },
    "id": "0LAnX400bLbK",
    "outputId": "0bb4b5e0-384a-4637-c0f7-fd432070dbe0"
   },
   "outputs": [
    {
     "name": "stdout",
     "output_type": "stream",
     "text": [
      "PYTHON\n",
      "python\n"
     ]
    }
   ],
   "source": [
    "text = \"Python\"\n",
    "\n",
    "print(text.upper())  # ALL CAPS\n",
    "print(text.lower())  # all lowercase"
   ]
  },
  {
   "cell_type": "code",
   "execution_count": null,
   "metadata": {
    "colab": {
     "base_uri": "https://localhost:8080/"
    },
    "id": "vEkchJjMbbYE",
    "outputId": "0c13bacb-47b8-445c-c152-43d77afc83d5"
   },
   "outputs": [
    {
     "name": "stdout",
     "output_type": "stream",
     "text": [
      "I like mangoes\n"
     ]
    }
   ],
   "source": [
    "message = \"I like apples\"\n",
    "new_message = message.replace(\"apples\", \"mangoes\")\n",
    "print(new_message)"
   ]
  },
  {
   "cell_type": "code",
   "execution_count": null,
   "metadata": {
    "colab": {
     "base_uri": "https://localhost:8080/"
    },
    "id": "RALUfN5Abl2l",
    "outputId": "bf5112df-14c0-4e41-c824-f61d8b7e9f77"
   },
   "outputs": [
    {
     "name": "stdout",
     "output_type": "stream",
     "text": [
      "Before:    Hello world!   \n",
      "After: Hello world!\n"
     ]
    }
   ],
   "source": [
    "text = \"   Hello world!   \"\n",
    "cleaned = text.strip()\n",
    "print(\"Before:\", text)\n",
    "print(\"After:\", cleaned)"
   ]
  },
  {
   "cell_type": "code",
   "execution_count": null,
   "metadata": {
    "colab": {
     "base_uri": "https://localhost:8080/"
    },
    "id": "MU1_QiV8b9HF",
    "outputId": "bb5b17a4-bc13-47c2-9dd6-e9275ba0a38b"
   },
   "outputs": [
    {
     "name": "stdout",
     "output_type": "stream",
     "text": [
      "Alice is 10 years old.\n"
     ]
    }
   ],
   "source": [
    "name = \"Alice\"\n",
    "age = 10\n",
    "\n",
    "# Convert number to string before combining\n",
    "message = name + \" is \" + str(age) + \" years old.\"\n",
    "print(message)"
   ]
  },
  {
   "cell_type": "code",
   "execution_count": null,
   "metadata": {
    "id": "oKS14cIFcQAg"
   },
   "outputs": [],
   "source": [
    "# List of numbers\n",
    "numbers = [10, 20, 30, 40]\n",
    "\n",
    "# List of strings\n",
    "fruits = [\"apple\", \"banana\", \"mango\"]\n",
    "\n",
    "# Mixed data types\n",
    "mixed = [\"Alice\", 25, True]"
   ]
  },
  {
   "cell_type": "code",
   "execution_count": null,
   "metadata": {
    "colab": {
     "base_uri": "https://localhost:8080/"
    },
    "id": "BzQkJ6p8gU03",
    "outputId": "9a00b37e-9e87-4acf-b51d-ff3bf6679aa7"
   },
   "outputs": [
    {
     "name": "stdout",
     "output_type": "stream",
     "text": [
      "apple\n",
      "banana\n",
      "mango\n"
     ]
    }
   ],
   "source": [
    "fruits = [\"apple\", \"banana\", \"mango\"]\n",
    "\n",
    "print(fruits[0])  # First item\n",
    "print(fruits[1])  # Second item\n",
    "print(fruits[2]) # Last item"
   ]
  },
  {
   "cell_type": "code",
   "execution_count": null,
   "metadata": {
    "colab": {
     "base_uri": "https://localhost:8080/"
    },
    "id": "u9FbQ4MtgipJ",
    "outputId": "bc81e754-74bf-4743-e1f5-a626f3e762e1"
   },
   "outputs": [
    {
     "name": "stdout",
     "output_type": "stream",
     "text": [
      "['banana', 'mango', 'orange']\n",
      "['apple', 'banana', 'mango']\n",
      "['mango', 'orange', 'grape']\n"
     ]
    }
   ],
   "source": [
    "fruits = [\"apple\", \"banana\", \"mango\", \"orange\", \"grape\"]\n",
    "\n",
    "print(fruits[1:4])  # banana to orange\n",
    "print(fruits[:3])   # apple to mango\n",
    "print(fruits[2:])   # mango to end"
   ]
  },
  {
   "cell_type": "code",
   "execution_count": null,
   "metadata": {
    "colab": {
     "base_uri": "https://localhost:8080/"
    },
    "id": "PFOec_TmgwI2",
    "outputId": "d5a36d22-91f2-4cca-8dfe-2973410c2f05"
   },
   "outputs": [
    {
     "name": "stdout",
     "output_type": "stream",
     "text": [
      "['apple', 'banana', 'mango']\n"
     ]
    }
   ],
   "source": [
    "fruits = [\"apple\", \"banana\"]\n",
    "fruits.append(\"mango\")\n",
    "print(fruits)"
   ]
  },
  {
   "cell_type": "code",
   "execution_count": null,
   "metadata": {
    "colab": {
     "base_uri": "https://localhost:8080/"
    },
    "id": "70OSw5apg-vZ",
    "outputId": "df723f93-245c-4069-e81a-98e331632c08"
   },
   "outputs": [
    {
     "name": "stdout",
     "output_type": "stream",
     "text": [
      "['apple', 'grape', 'banana']\n"
     ]
    }
   ],
   "source": [
    "fruits = [\"apple\", \"banana\"]\n",
    "fruits.insert(1, \"grape\")  # Add at index 1\n",
    "print(fruits)"
   ]
  },
  {
   "cell_type": "code",
   "execution_count": null,
   "metadata": {
    "colab": {
     "base_uri": "https://localhost:8080/"
    },
    "id": "Cj5TtmFahH0q",
    "outputId": "fb45a9ef-68b6-4768-e8cd-125ba57f0f25"
   },
   "outputs": [
    {
     "name": "stdout",
     "output_type": "stream",
     "text": [
      "['banana', 'apple']\n"
     ]
    }
   ],
   "source": [
    "fruits = [\"apple\", \"banana\", \"apple\"]\n",
    "fruits.remove(\"apple\")  # Removes first 'apple'\n",
    "print(fruits)"
   ]
  },
  {
   "cell_type": "code",
   "execution_count": null,
   "metadata": {
    "colab": {
     "base_uri": "https://localhost:8080/"
    },
    "id": "jQmGoJaChWDh",
    "outputId": "7df62da6-2f6b-409c-c54c-0b18efa303f4"
   },
   "outputs": [
    {
     "name": "stdout",
     "output_type": "stream",
     "text": [
      "['apple', 'banana']\n"
     ]
    }
   ],
   "source": [
    "fruits = [\"apple\", \"banana\", \"mango\"]\n",
    "fruits.pop()\n",
    "print(fruits)"
   ]
  },
  {
   "cell_type": "code",
   "execution_count": null,
   "metadata": {
    "colab": {
     "base_uri": "https://localhost:8080/"
    },
    "id": "Jxm-bdRShgVJ",
    "outputId": "a80e025b-602d-4825-f525-96559b2e9244"
   },
   "outputs": [
    {
     "name": "stdout",
     "output_type": "stream",
     "text": [
      "[]\n"
     ]
    }
   ],
   "source": [
    "fruits = [\"apple\", \"banana\"]\n",
    "fruits.clear()\n",
    "print(fruits)  # Output: []"
   ]
  },
  {
   "cell_type": "code",
   "execution_count": null,
   "metadata": {
    "colab": {
     "base_uri": "https://localhost:8080/"
    },
    "id": "e4Ru_c0-ho-B",
    "outputId": "e6f0887d-f3fb-4b49-b631-5bf8cb3439e3"
   },
   "outputs": [
    {
     "name": "stdout",
     "output_type": "stream",
     "text": [
      "[1, 2, 5, 8]\n"
     ]
    }
   ],
   "source": [
    "numbers = [5, 2, 8, 1]\n",
    "numbers.sort()\n",
    "print(numbers)"
   ]
  },
  {
   "cell_type": "code",
   "execution_count": null,
   "metadata": {
    "colab": {
     "base_uri": "https://localhost:8080/"
    },
    "id": "GyAgMBu4huUG",
    "outputId": "dccdd105-c86a-4967-a88e-0c34da30b018"
   },
   "outputs": [
    {
     "name": "stdout",
     "output_type": "stream",
     "text": [
      "['mango', 'banana', 'apple']\n"
     ]
    }
   ],
   "source": [
    "fruits = [\"apple\", \"banana\", \"mango\"]\n",
    "fruits.reverse()\n",
    "print(fruits)"
   ]
  },
  {
   "cell_type": "code",
   "execution_count": null,
   "metadata": {
    "colab": {
     "base_uri": "https://localhost:8080/"
    },
    "id": "qt_NStJJh030",
    "outputId": "5f5a9df3-579b-445a-ff75-c921595b2a50"
   },
   "outputs": [
    {
     "name": "stdout",
     "output_type": "stream",
     "text": [
      "3\n"
     ]
    }
   ],
   "source": [
    "fruits = [\"apple\", \"banana\", \"mango\"]\n",
    "print(len(fruits))"
   ]
  },
  {
   "cell_type": "code",
   "execution_count": null,
   "metadata": {
    "colab": {
     "base_uri": "https://localhost:8080/"
    },
    "id": "WSrkF9GAh8EW",
    "outputId": "e94d88a9-af1c-4c97-bcc5-5f5fe53d87b9"
   },
   "outputs": [
    {
     "name": "stdout",
     "output_type": "stream",
     "text": [
      "12\n",
      "3\n",
      "28\n"
     ]
    }
   ],
   "source": [
    "numbers = [5, 12, 3, 8]\n",
    "print(max(numbers))  # 12\n",
    "print(min(numbers))  # 3\n",
    "print(sum(numbers))  # 28\n"
   ]
  },
  {
   "cell_type": "code",
   "execution_count": null,
   "metadata": {
    "colab": {
     "base_uri": "https://localhost:8080/"
    },
    "id": "_LTm4KS4h_DK",
    "outputId": "0efb12b1-eb58-49d5-a598-dfbc29caa968"
   },
   "outputs": [
    {
     "name": "stdout",
     "output_type": "stream",
     "text": [
      "True\n",
      "False\n"
     ]
    }
   ],
   "source": [
    "fruits = [\"apple\", \"banana\"]\n",
    "print(\"apple\" in fruits)   # True\n",
    "print(\"grape\" in fruits)   # False"
   ]
  },
  {
   "cell_type": "code",
   "execution_count": null,
   "metadata": {
    "colab": {
     "base_uri": "https://localhost:8080/",
     "height": 106
    },
    "id": "qp07A1QiiPI2",
    "outputId": "0a9c7139-3cd6-4a83-cf8d-f7bbe78a3777"
   },
   "outputs": [
    {
     "ename": "SyntaxError",
     "evalue": "invalid character '’' (U+2019) (<ipython-input-1-c2aa84441693>, line 1)",
     "output_type": "error",
     "traceback": [
      "\u001b[0;36m  File \u001b[0;32m\"<ipython-input-1-c2aa84441693>\"\u001b[0;36m, line \u001b[0;32m1\u001b[0m\n\u001b[0;31m    Create a list of 5 friends’ names and print them one by one.\u001b[0m\n\u001b[0m                              ^\u001b[0m\n\u001b[0;31mSyntaxError\u001b[0m\u001b[0;31m:\u001b[0m invalid character '’' (U+2019)\n"
     ]
    }
   ],
   "source": [
    "Create a list of 5 friends’ names and print them one by one.\n",
    "\n",
    "Add a new name to the list using .append().\n",
    "\n",
    "Remove a name using .remove().\n",
    "\n",
    "Sort the list and print it.\n",
    "\n",
    "Count how many names are in the list using len().\n",
    "\n"
   ]
  },
  {
   "cell_type": "code",
   "execution_count": null,
   "metadata": {
    "colab": {
     "base_uri": "https://localhost:8080/"
    },
    "id": "z6oU14J8MUHk",
    "outputId": "44887e22-0714-4839-dc41-bdbe2b2d3bb5"
   },
   "outputs": [
    {
     "name": "stdout",
     "output_type": "stream",
     "text": [
      "('apple', 'banana', 'cherry')\n"
     ]
    }
   ],
   "source": [
    "my_tuple = (\"apple\", \"banana\", \"cherry\")\n",
    "print(my_tuple)"
   ]
  },
  {
   "cell_type": "code",
   "execution_count": null,
   "metadata": {
    "colab": {
     "base_uri": "https://localhost:8080/"
    },
    "id": "3z_MC-w7NbSo",
    "outputId": "33fc0e70-23fd-4edf-bb08-6cfc313a80ce"
   },
   "outputs": [
    {
     "name": "stdout",
     "output_type": "stream",
     "text": [
      "apple\n",
      "cherry\n",
      "('apple', 'banana')\n"
     ]
    }
   ],
   "source": [
    "my_tuple = (\"apple\", \"banana\", \"cherry\")\n",
    "\n",
    "# Indexing\n",
    "print(my_tuple[0])  # apple\n",
    "print(my_tuple[-1]) # cherry\n",
    "\n",
    "# Slicing\n",
    "print(my_tuple[0:2])  # ('apple', 'banana')"
   ]
  },
  {
   "cell_type": "code",
   "execution_count": null,
   "metadata": {
    "colab": {
     "base_uri": "https://localhost:8080/"
    },
    "id": "mvapTs3iNp7L",
    "outputId": "88631f0c-97bc-490d-a96e-70835c155cc8"
   },
   "outputs": [
    {
     "name": "stdout",
     "output_type": "stream",
     "text": [
      "2\n",
      "3\n"
     ]
    }
   ],
   "source": [
    "my_tuple = (\"apple\", \"banana\", \"apple\", \"cherry\")\n",
    "\n",
    "# count() – how many times a value appears\n",
    "print(my_tuple.count(\"apple\"))  # 2\n",
    "\n",
    "# index() – find the position of a value\n",
    "print(my_tuple.index(\"cherry\"))  # 3"
   ]
  },
  {
   "cell_type": "code",
   "execution_count": null,
   "metadata": {
    "colab": {
     "base_uri": "https://localhost:8080/"
    },
    "id": "OdCgLb4kN9p2",
    "outputId": "ae5e1f52-3a11-4f32-e414-2f748512df3b"
   },
   "outputs": [
    {
     "name": "stdout",
     "output_type": "stream",
     "text": [
      "{'cherry', 'apple', 'banana'}\n"
     ]
    }
   ],
   "source": [
    "my_set = {\"apple\", \"banana\", \"cherry\"}\n",
    "print(my_set)"
   ]
  },
  {
   "cell_type": "code",
   "execution_count": null,
   "metadata": {
    "colab": {
     "base_uri": "https://localhost:8080/"
    },
    "id": "7tdqs8eaOdkU",
    "outputId": "3977dc79-6e00-4b26-cf73-c85f9e63c17d"
   },
   "outputs": [
    {
     "name": "stdout",
     "output_type": "stream",
     "text": [
      "{'apple', 'banana'}\n"
     ]
    }
   ],
   "source": [
    "dup_set = {\"apple\", \"banana\", \"apple\"}\n",
    "print(dup_set)  # Output: {'apple', 'banana'}"
   ]
  },
  {
   "cell_type": "code",
   "execution_count": null,
   "metadata": {
    "colab": {
     "base_uri": "https://localhost:8080/"
    },
    "id": "PS6i7PYWOhzO",
    "outputId": "03f5be0b-3615-4122-8cee-14944387ff55"
   },
   "outputs": [
    {
     "name": "stdout",
     "output_type": "stream",
     "text": [
      "set()\n"
     ]
    }
   ],
   "source": [
    "fruits = {\"apple\", \"banana\", \"grapes\"}\n",
    "\n",
    "fruits.clear()\n",
    "print(fruits)  # Output: set()"
   ]
  },
  {
   "cell_type": "code",
   "execution_count": null,
   "metadata": {
    "colab": {
     "base_uri": "https://localhost:8080/"
    },
    "id": "fHPZzBeOOr78",
    "outputId": "c7708311-0a4f-4f9a-8b79-7ecc678f256d"
   },
   "outputs": [
    {
     "name": "stdout",
     "output_type": "stream",
     "text": [
      "{'apple', 'mango', 'banana'}\n"
     ]
    }
   ],
   "source": [
    "set1 = {\"apple\", \"banana\"}\n",
    "set2 = {\"mango\", \"banana\"}\n",
    "\n",
    "combined = set2.union(set1)\n",
    "print(combined)  # {'apple', 'banana', 'mango'}"
   ]
  },
  {
   "cell_type": "code",
   "execution_count": null,
   "metadata": {
    "colab": {
     "base_uri": "https://localhost:8080/"
    },
    "id": "D9Tcypj2PQec",
    "outputId": "90173b16-492b-4820-e306-cdde94138a19"
   },
   "outputs": [
    {
     "name": "stdout",
     "output_type": "stream",
     "text": [
      "{'banana'}\n"
     ]
    }
   ],
   "source": [
    "set1 = {\"apple\", \"banana\"}\n",
    "set2 = {\"mango\", \"banana\"}\n",
    "common = set1.intersection(set2)\n",
    "print(common)  # {'banana'}"
   ]
  },
  {
   "cell_type": "code",
   "execution_count": null,
   "metadata": {
    "colab": {
     "base_uri": "https://localhost:8080/"
    },
    "id": "bNLgA2zXPyar",
    "outputId": "fdefb005-31e3-446a-f114-db7c8be14b37"
   },
   "outputs": [
    {
     "name": "stdout",
     "output_type": "stream",
     "text": [
      "{'name': 'Alice', 'age': 21, 'grade': 'A'}\n"
     ]
    }
   ],
   "source": [
    "student = {\n",
    "    \"name\": \"Alice\",\n",
    "    \"age\": 21,\n",
    "    \"grade\": \"A\"\n",
    "}\n",
    "print(student)"
   ]
  },
  {
   "cell_type": "code",
   "execution_count": null,
   "metadata": {
    "colab": {
     "base_uri": "https://localhost:8080/"
    },
    "id": "bVWDDYYDS2VY",
    "outputId": "7bba7b01-c40b-45f9-e771-3f463557c235"
   },
   "outputs": [
    {
     "name": "stdout",
     "output_type": "stream",
     "text": [
      "Alice\n",
      "21\n"
     ]
    }
   ],
   "source": [
    "print(student[\"name\"])   # Alice\n",
    "print(student[\"age\"])    # 21"
   ]
  },
  {
   "cell_type": "code",
   "execution_count": null,
   "metadata": {
    "colab": {
     "base_uri": "https://localhost:8080/"
    },
    "id": "em9zMxQITC3j",
    "outputId": "815d0562-f13a-49f4-e75e-34d4cf645b81"
   },
   "outputs": [
    {
     "name": "stdout",
     "output_type": "stream",
     "text": [
      "A\n",
      "None\n",
      "10\n"
     ]
    }
   ],
   "source": [
    "print(student.get(\"grade\"))     # A\n",
    "print(student.get(\"marks\"))     # None (no error)\n",
    "print(student.get(\"marks\", 10))  # 0 (default value)"
   ]
  },
  {
   "cell_type": "code",
   "execution_count": null,
   "metadata": {
    "colab": {
     "base_uri": "https://localhost:8080/"
    },
    "id": "PK0kAH_wTOvO",
    "outputId": "13701c14-6e14-4446-a35a-9232ef06c467"
   },
   "outputs": [
    {
     "name": "stdout",
     "output_type": "stream",
     "text": [
      "{'name': 'Alice', 'age': 21, 'grade': 'A+', 'marks': 85}\n"
     ]
    }
   ],
   "source": [
    "student[\"marks\"] = 85           # Add new key\n",
    "student[\"grade\"] = \"A+\"         # Update value\n",
    "print(student)"
   ]
  },
  {
   "cell_type": "code",
   "execution_count": null,
   "metadata": {
    "colab": {
     "base_uri": "https://localhost:8080/"
    },
    "id": "QrPwBmfTThCb",
    "outputId": "518d30dc-cfb0-437d-b7d0-e2f44ad04f04"
   },
   "outputs": [
    {
     "name": "stdout",
     "output_type": "stream",
     "text": [
      "{'name': 'Alice', 'grade': 'A+', 'marks': 85}\n"
     ]
    }
   ],
   "source": [
    "student.pop(\"age\")              # Removes the key 'age'\n",
    "print(student)"
   ]
  },
  {
   "cell_type": "code",
   "execution_count": null,
   "metadata": {
    "colab": {
     "base_uri": "https://localhost:8080/"
    },
    "id": "oOmVTFLMTu90",
    "outputId": "b213a32f-b566-4b3c-da49-89f0409e692e"
   },
   "outputs": [
    {
     "name": "stdout",
     "output_type": "stream",
     "text": [
      "name : Alice\n",
      "grade : A+\n",
      "marks : 85\n"
     ]
    }
   ],
   "source": [
    "for key in student:\n",
    "    print(key, \":\", student[key])"
   ]
  },
  {
   "cell_type": "code",
   "execution_count": null,
   "metadata": {
    "colab": {
     "base_uri": "https://localhost:8080/"
    },
    "id": "qySxcAV2T2Ey",
    "outputId": "52f9b302-06fe-4408-a2d5-0b279aecd526"
   },
   "outputs": [
    {
     "name": "stdout",
     "output_type": "stream",
     "text": [
      "name => Alice\n",
      "grade => A+\n",
      "marks => 85\n"
     ]
    }
   ],
   "source": [
    "for key, value in student.items():\n",
    "    print(key, \"=>\", value)"
   ]
  },
  {
   "cell_type": "code",
   "execution_count": null,
   "metadata": {
    "colab": {
     "base_uri": "https://localhost:8080/"
    },
    "id": "KUDVDMUSUFUW",
    "outputId": "fc652c42-512b-4490-b9d4-543e18a7f08a"
   },
   "outputs": [
    {
     "name": "stdout",
     "output_type": "stream",
     "text": [
      "{'name': 'Bob', 'age': 22, 'grade': 'B'}\n"
     ]
    }
   ],
   "source": [
    "keys = [\"name\", \"age\", \"grade\"]\n",
    "values = [\"Bob\", 22, \"B\"]\n",
    "\n",
    "student2 = dict(zip(keys, values))\n",
    "print(student2)"
   ]
  },
  {
   "cell_type": "code",
   "execution_count": null,
   "metadata": {
    "colab": {
     "base_uri": "https://localhost:8080/"
    },
    "id": "1SgEHeQxUOHr",
    "outputId": "b731087c-72f2-420f-b93e-f85d5130d8b0"
   },
   "outputs": [
    {
     "name": "stdout",
     "output_type": "stream",
     "text": [
      "{'name': 'Alice', 'marks': 90}\n",
      "90\n"
     ]
    }
   ],
   "source": [
    "classroom = {\n",
    "    \"student1\": {\"name\": \"Alice\", \"marks\": 90},\n",
    "    \"student2\": {\"name\": \"Bob\", \"marks\": 85}\n",
    "}\n",
    "\n",
    "print(classroom[\"student1\"])                # {'name': 'Alice', 'marks': 90}\n",
    "print(classroom[\"student1\"][\"marks\"])       # 90\n"
   ]
  },
  {
   "cell_type": "code",
   "execution_count": null,
   "metadata": {
    "colab": {
     "base_uri": "https://localhost:8080/"
    },
    "id": "TpfM6QbMUh0K",
    "outputId": "8af17f5e-b7ba-4f27-a401-1204c9b7aed8"
   },
   "outputs": [
    {
     "name": "stdout",
     "output_type": "stream",
     "text": [
      "<class 'int'>\n"
     ]
    }
   ],
   "source": [
    "x = 5\n",
    "print(type(x))  # Output: <class 'int'>"
   ]
  },
  {
   "cell_type": "code",
   "execution_count": null,
   "metadata": {
    "colab": {
     "base_uri": "https://localhost:8080/"
    },
    "id": "qSc8_OS6Y8Oq",
    "outputId": "3cc44a8a-a151-4d99-e67e-9269a67e133c"
   },
   "outputs": [
    {
     "name": "stdout",
     "output_type": "stream",
     "text": [
      "<class 'float'>\n"
     ]
    }
   ],
   "source": [
    "b = 3.14\n",
    "print(type(b))  # <class 'float'>"
   ]
  },
  {
   "cell_type": "code",
   "execution_count": null,
   "metadata": {
    "colab": {
     "base_uri": "https://localhost:8080/"
    },
    "id": "ZSedqS2AZEpr",
    "outputId": "684348b9-dfca-430d-e918-7e0d19064bcc"
   },
   "outputs": [
    {
     "name": "stdout",
     "output_type": "stream",
     "text": [
      "<class 'complex'>\n"
     ]
    }
   ],
   "source": [
    "c = 3 + 2j\n",
    "print(type(c))"
   ]
  },
  {
   "cell_type": "code",
   "execution_count": null,
   "metadata": {
    "colab": {
     "base_uri": "https://localhost:8080/"
    },
    "id": "fyhp79P9ZJhR",
    "outputId": "4db5969a-4a3a-4c1a-93f5-01bb5883248d"
   },
   "outputs": [
    {
     "name": "stdout",
     "output_type": "stream",
     "text": [
      "<class 'str'>\n"
     ]
    }
   ],
   "source": [
    "text = \"Hello World\"\n",
    "print(type(text))   # <class 'str'>"
   ]
  },
  {
   "cell_type": "code",
   "execution_count": null,
   "metadata": {
    "colab": {
     "base_uri": "https://localhost:8080/"
    },
    "id": "AaubY2ykZNp7",
    "outputId": "80883e07-03d4-4603-a6f2-ed3b1d43811a"
   },
   "outputs": [
    {
     "name": "stdout",
     "output_type": "stream",
     "text": [
      "<class 'bool'>\n"
     ]
    }
   ],
   "source": [
    "is_active = True\n",
    "print(type(is_active))  # <class 'bool'>"
   ]
  },
  {
   "cell_type": "code",
   "execution_count": null,
   "metadata": {
    "colab": {
     "base_uri": "https://localhost:8080/"
    },
    "id": "QqxXSXr5ZQbI",
    "outputId": "da3622df-0f6c-4910-a9fb-cb7a0c40c9b1"
   },
   "outputs": [
    {
     "name": "stdout",
     "output_type": "stream",
     "text": [
      "<class 'list'>\n"
     ]
    }
   ],
   "source": [
    "fruits = [\"apple\", \"banana\", \"mango\"]\n",
    "print(type(fruits))  # <class 'list'>"
   ]
  },
  {
   "cell_type": "code",
   "execution_count": null,
   "metadata": {
    "colab": {
     "base_uri": "https://localhost:8080/"
    },
    "id": "pzxTU18ZZUb-",
    "outputId": "45e7ca01-a68e-418d-d397-6bbd1f3be66e"
   },
   "outputs": [
    {
     "name": "stdout",
     "output_type": "stream",
     "text": [
      "<class 'tuple'>\n"
     ]
    }
   ],
   "source": [
    "coordinates = (10, 20)\n",
    "print(type(coordinates))  # <class 'tuple'>"
   ]
  },
  {
   "cell_type": "code",
   "execution_count": null,
   "metadata": {
    "colab": {
     "base_uri": "https://localhost:8080/"
    },
    "id": "dtvnlfi4ZXrT",
    "outputId": "f4be8aa7-2370-4425-9908-140512e25cea"
   },
   "outputs": [
    {
     "name": "stdout",
     "output_type": "stream",
     "text": [
      "[0, 1, 2, 3, 4]\n"
     ]
    }
   ],
   "source": [
    "numbers = range(5)\n",
    "print(list(numbers))  # [0, 1, 2, 3, 4]"
   ]
  },
  {
   "cell_type": "code",
   "execution_count": null,
   "metadata": {
    "colab": {
     "base_uri": "https://localhost:8080/"
    },
    "id": "J5U0Wm8WZbO9",
    "outputId": "d66a8fba-9e70-49fa-96b1-92b6cc5d45f6"
   },
   "outputs": [
    {
     "name": "stdout",
     "output_type": "stream",
     "text": [
      "{'green', 'red', 'blue'}\n"
     ]
    }
   ],
   "source": [
    "colors = {\"red\", \"blue\", \"green\", \"red\"}\n",
    "print(colors)  # {'red', 'blue', 'green'}"
   ]
  },
  {
   "cell_type": "code",
   "execution_count": null,
   "metadata": {
    "colab": {
     "base_uri": "https://localhost:8080/"
    },
    "id": "mX7Ws2ZXZipk",
    "outputId": "ea453571-c071-4f8e-948d-e72de9142a1b"
   },
   "outputs": [
    {
     "name": "stdout",
     "output_type": "stream",
     "text": [
      "Alice\n",
      "<class 'dict'>\n"
     ]
    }
   ],
   "source": [
    "person = {\"name\": \"Alice\", \"age\": 22}\n",
    "print(person[\"name\"])  # Alice\n",
    "print(type(person))"
   ]
  },
  {
   "cell_type": "code",
   "execution_count": null,
   "metadata": {
    "id": "jn-E5uAXZpKL"
   },
   "outputs": [],
   "source": [
    "x = 5\n",
    "y = float(x)         # 5.0\n",
    "z = str(x)           # \"5\"\n",
    "a = int(\"10\")        # 10\n",
    "b = list(\"abc\")      # ['a', 'b', 'c']"
   ]
  },
  {
   "cell_type": "code",
   "execution_count": null,
   "metadata": {
    "colab": {
     "base_uri": "https://localhost:8080/"
    },
    "id": "Jm6QuZ6DZuzH",
    "outputId": "6399b2a3-ce0b-4f49-e108-7d49e12e2ecf"
   },
   "outputs": [
    {
     "name": "stdout",
     "output_type": "stream",
     "text": [
      "10 <class 'str'>\n",
      "123 <class 'int'>\n"
     ]
    }
   ],
   "source": [
    "a = 10\n",
    "b = str(a)\n",
    "print(b, type(b))    # \"10\", <class 'str'>\n",
    "\n",
    "c = \"123\"\n",
    "d = int(c)\n",
    "print(d, type(d))"
   ]
  },
  {
   "cell_type": "code",
   "execution_count": null,
   "metadata": {
    "colab": {
     "base_uri": "https://localhost:8080/"
    },
    "id": "Bc_kCwbXZ1kM",
    "outputId": "ec1a5fb4-f823-4676-c0b8-53a7e79c759a"
   },
   "outputs": [
    {
     "name": "stdout",
     "output_type": "stream",
     "text": [
      "Addition: 13\n",
      "Subtraction: 7\n",
      "Multiplication: 30\n",
      "Division: 3.3333333333333335\n",
      "Floor Division: 3\n",
      "Modulus: 1\n",
      "Power: 1000\n"
     ]
    }
   ],
   "source": [
    "a = 10\n",
    "b = 3\n",
    "\n",
    "print(\"Addition:\", a + b)        # 13\n",
    "print(\"Subtraction:\", a - b)     # 7\n",
    "print(\"Multiplication:\", a * b)  # 30\n",
    "print(\"Division:\", a / b)        # 3.333...\n",
    "print(\"Floor Division:\", a // b) # 3\n",
    "print(\"Modulus:\", a % b)         # 1\n",
    "print(\"Power:\", a ** b)"
   ]
  },
  {
   "cell_type": "code",
   "execution_count": null,
   "metadata": {
    "colab": {
     "base_uri": "https://localhost:8080/"
    },
    "id": "4yrnTSJdef_g",
    "outputId": "be5ff518-a61b-4c5e-fce1-d4e570694bbf"
   },
   "outputs": [
    {
     "name": "stdout",
     "output_type": "stream",
     "text": [
      "12\n",
      "10 20\n"
     ]
    }
   ],
   "source": [
    "x = 5           # Simple assignment\n",
    "x += 3          # x = x + 3 => 8\n",
    "x *= 2          # x = x * 2 => 16\n",
    "x -= 4          # x = x - 4 => 12\n",
    "print(x)        # Output: 12\n",
    "\n",
    "# Assign multiple variables at once\n",
    "a, b = 10, 20\n",
    "print(a, b)     # 10 20"
   ]
  },
  {
   "cell_type": "code",
   "execution_count": null,
   "metadata": {
    "colab": {
     "base_uri": "https://localhost:8080/"
    },
    "id": "DSK6TgwIenzm",
    "outputId": "a3af9c37-b49e-45d9-9f5f-a7d212d6198d"
   },
   "outputs": [
    {
     "name": "stdout",
     "output_type": "stream",
     "text": [
      "False\n",
      "True\n",
      "False\n",
      "True\n",
      "True\n",
      "False\n"
     ]
    }
   ],
   "source": [
    "a = 5\n",
    "b = 7\n",
    "\n",
    "print(a == b)  # False\n",
    "print(a != b)  # True\n",
    "print(a > b)   # False\n",
    "print(a < b)   # True\n",
    "print(a >= 5)  # True\n",
    "print(a <= 3)  # False"
   ]
  },
  {
   "cell_type": "code",
   "execution_count": null,
   "metadata": {
    "colab": {
     "base_uri": "https://localhost:8080/"
    },
    "id": "MeI56dxdfZd3",
    "outputId": "4efb81f2-2b3b-4da2-b749-7d46e6f2ce9c"
   },
   "outputs": [
    {
     "name": "stdout",
     "output_type": "stream",
     "text": [
      "-5\n",
      "5\n",
      "False\n"
     ]
    }
   ],
   "source": [
    "n = 5\n",
    "print(-n)     # -5\n",
    "print(+n)     # 5\n",
    "\n",
    "flag = True\n",
    "print(not flag)   # False (negates the value)"
   ]
  },
  {
   "cell_type": "code",
   "execution_count": null,
   "metadata": {
    "colab": {
     "base_uri": "https://localhost:8080/"
    },
    "id": "myMPOZRFfwtA",
    "outputId": "b831520a-2258-46a1-8154-2fe8ef3d7389"
   },
   "outputs": [
    {
     "name": "stdout",
     "output_type": "stream",
     "text": [
      "True\n",
      "False\n",
      "True\n",
      "True\n",
      "False\n",
      "True\n"
     ]
    }
   ],
   "source": [
    "a = 10\n",
    "b = 20\n",
    "\n",
    "# and operator\n",
    "print(a > 5 and b > 15)   # True (both True)\n",
    "print(a > 15 and b > 15)  # False\n",
    "\n",
    "# or operator\n",
    "print(a > 15 or b > 15)   # True (one is True)\n",
    "print(a > 5 or b < 15)    # False (both False)\n",
    "\n",
    "# not operator\n",
    "x = True\n",
    "y = False\n",
    "print(not x)  # False\n",
    "print(not y)  # True"
   ]
  },
  {
   "cell_type": "code",
   "execution_count": null,
   "metadata": {
    "colab": {
     "base_uri": "https://localhost:8080/"
    },
    "id": "OZ77rxhugNRH",
    "outputId": "405ccac4-d9a3-43b5-8b18-939f2678c803"
   },
   "outputs": [
    {
     "name": "stdout",
     "output_type": "stream",
     "text": [
      "Decimal number: 345\n"
     ]
    }
   ],
   "source": [
    "number = 345\n",
    "print(\"Decimal number:\", number)"
   ]
  },
  {
   "cell_type": "code",
   "execution_count": null,
   "metadata": {
    "colab": {
     "base_uri": "https://localhost:8080/"
    },
    "id": "U9lg4U0xkkDL",
    "outputId": "a7deb2f0-2c90-4c33-851f-24db6efa0831"
   },
   "outputs": [
    {
     "name": "stdout",
     "output_type": "stream",
     "text": [
      "Binary of 51 is: 0b110011\n",
      "Binary '0b110011' to decimal: 51\n"
     ]
    }
   ],
   "source": [
    "# Decimal to Binary\n",
    "decimal = 51\n",
    "binary = bin(decimal)\n",
    "print(\"Binary of 51 is:\", binary)  # Output: 0b110011\n",
    "\n",
    "# Binary to Decimal\n",
    "binary_value = \"0b110011\"\n",
    "decimal_back = int(binary_value, 2)\n",
    "print(\"Binary '0b110011' to decimal:\", decimal_back)"
   ]
  },
  {
   "cell_type": "code",
   "execution_count": null,
   "metadata": {
    "colab": {
     "base_uri": "https://localhost:8080/"
    },
    "id": "GM9bET-rkwyg",
    "outputId": "75a1fa77-a593-439a-afc6-938a1e1cea80"
   },
   "outputs": [
    {
     "name": "stdout",
     "output_type": "stream",
     "text": [
      "Octal of 51 is: 0o63\n",
      "Octal '0o63' to decimal: 51\n"
     ]
    }
   ],
   "source": [
    "# Decimal to Octal\n",
    "decimal = 51\n",
    "octal = oct(decimal)\n",
    "print(\"Octal of 51 is:\", octal)  # Output: 0o63\n",
    "\n",
    "# Octal to Decimal\n",
    "octal_value = \"0o63\"\n",
    "decimal_back = int(octal_value, 8)\n",
    "print(\"Octal '0o63' to decimal:\", decimal_back)\n"
   ]
  },
  {
   "cell_type": "code",
   "execution_count": null,
   "metadata": {
    "colab": {
     "base_uri": "https://localhost:8080/"
    },
    "id": "uN1-d163lHNB",
    "outputId": "c6094a7e-f662-4e70-e4ee-0f2d11d7e3e1"
   },
   "outputs": [
    {
     "name": "stdout",
     "output_type": "stream",
     "text": [
      "Hexadecimal of 51 is: 0x33\n",
      "Hexadecimal '0x33' to decimal: 51\n"
     ]
    }
   ],
   "source": [
    "# Decimal to Hexadecimal\n",
    "decimal = 51\n",
    "hexa = hex(decimal)\n",
    "print(\"Hexadecimal of 51 is:\", hexa)  # Output: 0x33\n",
    "\n",
    "# Hexadecimal to Decimal\n",
    "hex_value = \"0x33\"\n",
    "decimal_back = int(hex_value, 16)\n",
    "print(\"Hexadecimal '0x33' to decimal:\", decimal_back)"
   ]
  },
  {
   "cell_type": "code",
   "execution_count": null,
   "metadata": {
    "colab": {
     "base_uri": "https://localhost:8080/"
    },
    "id": "0f0Run-mlX-Q",
    "outputId": "e6998843-5d0f-41b2-e191-bb372c91dac0"
   },
   "outputs": [
    {
     "name": "stdout",
     "output_type": "stream",
     "text": [
      "Binary 11011 to Decimal: 27\n"
     ]
    }
   ],
   "source": [
    "binary_str = '11011'\n",
    "decimal = int(binary_str, 2)\n",
    "print(\"Binary 11011 to Decimal:\", decimal)  # Output: 27"
   ]
  },
  {
   "cell_type": "code",
   "execution_count": null,
   "metadata": {
    "colab": {
     "base_uri": "https://localhost:8080/"
    },
    "id": "fy0WeLp6llIX",
    "outputId": "1c79ea84-6e27-4bae-c1b2-a5cf7280a026"
   },
   "outputs": [
    {
     "name": "stdout",
     "output_type": "stream",
     "text": [
      "Octal 360 to Decimal: 240\n"
     ]
    }
   ],
   "source": [
    "octal_str = '360'\n",
    "decimal = int(octal_str, 8)\n",
    "print(\"Octal 360 to Decimal:\", decimal)  # Output: 240"
   ]
  },
  {
   "cell_type": "code",
   "execution_count": null,
   "metadata": {
    "colab": {
     "base_uri": "https://localhost:8080/"
    },
    "id": "L3bXIbd9lvJW",
    "outputId": "003baf3d-d39d-4263-ad03-0b48e9a40c01"
   },
   "outputs": [
    {
     "name": "stdout",
     "output_type": "stream",
     "text": [
      "Hexadecimal 33 to Decimal: 51\n"
     ]
    }
   ],
   "source": [
    "hex_str = '33'\n",
    "decimal = int(hex_str, 16)\n",
    "print(\"Hexadecimal 33 to Decimal:\", decimal)  # Output: 51"
   ]
  },
  {
   "cell_type": "code",
   "execution_count": null,
   "metadata": {
    "colab": {
     "base_uri": "https://localhost:8080/"
    },
    "id": "qBzSV1Zdlp2m",
    "outputId": "7db44d88-c30e-4d09-a5c8-08915a15c714"
   },
   "outputs": [
    {
     "name": "stdout",
     "output_type": "stream",
     "text": [
      "Octal 725 to Binary: 111010101\n"
     ]
    }
   ],
   "source": [
    "octal = \"725\"\n",
    "binary = ''.join([bin(int(digit))[2:].zfill(3) for digit in octal])\n",
    "print(\"Octal 725 to Binary:\", binary)  # Output: 111010101"
   ]
  },
  {
   "cell_type": "code",
   "execution_count": null,
   "metadata": {
    "colab": {
     "base_uri": "https://localhost:8080/"
    },
    "id": "M5WXpNZwl16K",
    "outputId": "85ecad1c-e281-4c35-e055-24e42b2b3a22"
   },
   "outputs": [
    {
     "name": "stdout",
     "output_type": "stream",
     "text": [
      "Binary 101011011 to Octal: 533\n"
     ]
    }
   ],
   "source": [
    "binary = '101011011'\n",
    "# Pad the binary string to a multiple of 3\n",
    "while len(binary) % 3 != 0:\n",
    "    binary = '0' + binary\n",
    "octal = ''\n",
    "for i in range(0, len(binary), 3):\n",
    "    octal += str(int(binary[i:i+3], 2))\n",
    "print(\"Binary 101011011 to Octal:\", octal)  # Output: 533"
   ]
  },
  {
   "cell_type": "code",
   "execution_count": null,
   "metadata": {
    "id": "JRDAWaSXl6Qf"
   },
   "outputs": [],
   "source": [
    "a = 10  # binary: 1010\n",
    "b = 4   # binary: 0100"
   ]
  },
  {
   "cell_type": "code",
   "execution_count": null,
   "metadata": {
    "colab": {
     "base_uri": "https://localhost:8080/"
    },
    "id": "EHMPnvgWsaMK",
    "outputId": "190961ef-be77-44f0-c0b0-a9ff0f5e4257"
   },
   "outputs": [
    {
     "name": "stdout",
     "output_type": "stream",
     "text": [
      "0\n"
     ]
    }
   ],
   "source": [
    "result = a & b\n",
    "print(result)  # Output: 0"
   ]
  },
  {
   "cell_type": "code",
   "execution_count": null,
   "metadata": {
    "colab": {
     "base_uri": "https://localhost:8080/"
    },
    "id": "AEsWSGTEsdpk",
    "outputId": "5409c7e8-fe57-4cc7-d1f8-f00e56ae027e"
   },
   "outputs": [
    {
     "name": "stdout",
     "output_type": "stream",
     "text": [
      "14\n"
     ]
    }
   ],
   "source": [
    "result = a | b\n",
    "print(result)  # Output: 14"
   ]
  },
  {
   "cell_type": "code",
   "execution_count": null,
   "metadata": {
    "colab": {
     "base_uri": "https://localhost:8080/"
    },
    "id": "qMM3e_FWsvvM",
    "outputId": "c7b556d2-5133-4e2f-bb5a-6c3dd07cffcb"
   },
   "outputs": [
    {
     "name": "stdout",
     "output_type": "stream",
     "text": [
      "14\n"
     ]
    }
   ],
   "source": [
    "result = a ^ b\n",
    "print(result)  # Output: 14"
   ]
  },
  {
   "cell_type": "code",
   "execution_count": null,
   "metadata": {
    "colab": {
     "base_uri": "https://localhost:8080/"
    },
    "id": "c4beQn6us8yd",
    "outputId": "40e1bf8c-7cb6-4046-af59-deaae04ceb39"
   },
   "outputs": [
    {
     "name": "stdout",
     "output_type": "stream",
     "text": [
      "-6\n"
     ]
    }
   ],
   "source": [
    "x = 5\n",
    "result = ~x\n",
    "print(result)  # Output: -6"
   ]
  },
  {
   "cell_type": "code",
   "execution_count": null,
   "metadata": {
    "colab": {
     "base_uri": "https://localhost:8080/"
    },
    "id": "7Y4K54J2tCZd",
    "outputId": "4cbedc10-fe91-4c80-d56f-882eba5a404f"
   },
   "outputs": [
    {
     "name": "stdout",
     "output_type": "stream",
     "text": [
      "10\n"
     ]
    }
   ],
   "source": [
    "a = 5\n",
    "result = a << 1\n",
    "print(result)  # Output: 10"
   ]
  },
  {
   "cell_type": "code",
   "execution_count": null,
   "metadata": {
    "colab": {
     "base_uri": "https://localhost:8080/"
    },
    "id": "dIj6fvintN5J",
    "outputId": "dde54197-9471-44e3-c37a-02f328c59052"
   },
   "outputs": [
    {
     "name": "stdout",
     "output_type": "stream",
     "text": [
      "5\n"
     ]
    }
   ],
   "source": [
    "a = 20\n",
    "result = a >> 2\n",
    "print(result)  # Output: 5"
   ]
  },
  {
   "cell_type": "code",
   "execution_count": null,
   "metadata": {
    "colab": {
     "base_uri": "https://localhost:8080/"
    },
    "id": "ha49AvNntcwZ",
    "outputId": "8a4adb3a-f954-4f41-ccc3-9031589c9e0d"
   },
   "outputs": [
    {
     "name": "stdout",
     "output_type": "stream",
     "text": [
      "a & b = 0\n",
      "a | b = 14\n",
      "a ^ b = 14\n",
      "~a = -11\n",
      "a << 1 = 20\n",
      "a >> 1 = 5\n"
     ]
    }
   ],
   "source": [
    "a = 10\n",
    "b = 4\n",
    "print(\"a & b =\", a & b)   # AND\n",
    "print(\"a | b =\", a | b)   # OR\n",
    "print(\"a ^ b =\", a ^ b)   # XOR\n",
    "print(\"~a =\", ~a)         # NOT\n",
    "print(\"a << 1 =\", a << 1) # Left Shift\n",
    "print(\"a >> 1 =\", a >> 1) # Right Shift"
   ]
  },
  {
   "cell_type": "code",
   "execution_count": null,
   "metadata": {
    "colab": {
     "base_uri": "https://localhost:8080/"
    },
    "id": "r_-ndPkhtuA9",
    "outputId": "6027171c-ffe8-43f2-c0a9-fe37288626e7"
   },
   "outputs": [
    {
     "name": "stdout",
     "output_type": "stream",
     "text": [
      "x & y = 3\n",
      "x | y = 7\n",
      "x ^ y = 4\n",
      "~x = -8\n",
      "x << 2 = 28\n",
      "x >> 2 = 1\n"
     ]
    }
   ],
   "source": [
    "x = 7\n",
    "y = 3\n",
    "print(\"x & y =\", x & y)\n",
    "print(\"x | y =\", x | y)\n",
    "print(\"x ^ y =\", x ^ y)\n",
    "print(\"~x =\", ~x)\n",
    "print(\"x << 2 =\", x << 2)\n",
    "print(\"x >> 2 =\", x >> 2)"
   ]
  },
  {
   "cell_type": "code",
   "execution_count": null,
   "metadata": {
    "id": "elLiLk2Jt07m"
   },
   "outputs": [],
   "source": [
    "# Basic way to import\n",
    "import math\n",
    "\n",
    "# Using an alias\n",
    "import math as m\n",
    "\n",
    "# Importing specific functions\n",
    "from math import sqrt, pow\n"
   ]
  },
  {
   "cell_type": "code",
   "execution_count": null,
   "metadata": {
    "colab": {
     "base_uri": "https://localhost:8080/"
    },
    "id": "JpWDS4cgKtX4",
    "outputId": "1bd57748-aa07-4a0d-a6cd-33441c449c28"
   },
   "outputs": [
    {
     "name": "stdout",
     "output_type": "stream",
     "text": [
      "Square root of 25 is: 5.0\n"
     ]
    }
   ],
   "source": [
    "import math\n",
    "print(\"Square root of 25 is:\", math.sqrt(25))  # Output: 5.0\n"
   ]
  },
  {
   "cell_type": "code",
   "execution_count": null,
   "metadata": {
    "colab": {
     "base_uri": "https://localhost:8080/"
    },
    "id": "fglvv1haK4Jl",
    "outputId": "55edf704-fbbb-4b76-c49f-0b9b60a5db24"
   },
   "outputs": [
    {
     "name": "stdout",
     "output_type": "stream",
     "text": [
      "2 raised to power 3 is: 8.0\n"
     ]
    }
   ],
   "source": [
    "print(\"2 raised to power 3 is:\", math.pow(2, 3))  # Output: 8.0\n"
   ]
  },
  {
   "cell_type": "code",
   "execution_count": null,
   "metadata": {
    "colab": {
     "base_uri": "https://localhost:8080/"
    },
    "id": "TQW7e4eRK7cN",
    "outputId": "e2227552-a853-426d-dd33-f0be8641c33f"
   },
   "outputs": [
    {
     "name": "stdout",
     "output_type": "stream",
     "text": [
      "Floor of 3.7 is: 3\n",
      "Ceil of 3.7 is: 4\n"
     ]
    }
   ],
   "source": [
    "print(\"Floor of 3.7 is:\", math.floor(3.7))  # Output: 3\n",
    "print(\"Ceil of 3.7 is:\", math.ceil(3.7))    # Output: 4\n"
   ]
  },
  {
   "cell_type": "code",
   "execution_count": null,
   "metadata": {
    "colab": {
     "base_uri": "https://localhost:8080/"
    },
    "id": "ejJpU9NoK-DG",
    "outputId": "a8345b53-70c5-416a-c12c-9cd1ac043445"
   },
   "outputs": [
    {
     "name": "stdout",
     "output_type": "stream",
     "text": [
      "Exponential of 2 is: 7.38905609893065\n"
     ]
    }
   ],
   "source": [
    "print(\"Exponential of 2 is:\", math.exp(2))  # Output: e^2 ≈ 7.389\n"
   ]
  },
  {
   "cell_type": "code",
   "execution_count": null,
   "metadata": {
    "colab": {
     "base_uri": "https://localhost:8080/"
    },
    "id": "zb3iLJDmLAcu",
    "outputId": "6f1d0a6f-b36c-40ed-f547-618c2ee9aa4a"
   },
   "outputs": [
    {
     "name": "stdout",
     "output_type": "stream",
     "text": [
      "Natural log of 10: 2.302585092994046\n",
      "Log base 10 of 1000: 2.9999999999999996\n"
     ]
    }
   ],
   "source": [
    "print(\"Natural log of 10:\", math.log(10))         # ln(10)\n",
    "print(\"Log base 10 of 1000:\", math.log(1000, 10)) # log10(1000)\n"
   ]
  },
  {
   "cell_type": "code",
   "execution_count": null,
   "metadata": {
    "colab": {
     "base_uri": "https://localhost:8080/"
    },
    "id": "Lk2atmJ4LDnd",
    "outputId": "734503c8-fb1f-4768-db89-2bd069510292"
   },
   "outputs": [
    {
     "name": "stdout",
     "output_type": "stream",
     "text": [
      "Sine of 90 degrees: 1.0\n",
      "Cosine of 0 degrees: 1.0\n",
      "Tangent of 45 degrees: 0.9999999999999999\n"
     ]
    }
   ],
   "source": [
    "print(\"Sine of 90 degrees:\", math.sin(math.radians(90)))  # Output: 1.0\n",
    "print(\"Cosine of 0 degrees:\", math.cos(math.radians(0)))  # Output: 1.0\n",
    "print(\"Tangent of 45 degrees:\", math.tan(math.radians(45)))  # Output: 1.0\n"
   ]
  },
  {
   "cell_type": "code",
   "execution_count": null,
   "metadata": {
    "colab": {
     "base_uri": "https://localhost:8080/"
    },
    "collapsed": true,
    "id": "9wRnMnuaLGXy",
    "jupyter": {
     "outputs_hidden": true
    },
    "outputId": "83386993-f786-4fd2-8977-b30f13f9fe66"
   },
   "outputs": [
    {
     "name": "stdout",
     "output_type": "stream",
     "text": [
      "Value of pi is: 3.141592653589793\n",
      "Value of e is: 2.718281828459045\n",
      "Positive infinity: inf\n",
      "Not a number (NaN): nan\n"
     ]
    }
   ],
   "source": [
    "print(\"Value of pi is:\", math.pi)\n",
    "print(\"Value of e is:\", math.e)\n",
    "print(\"Positive infinity:\", math.inf)\n",
    "print(\"Not a number (NaN):\", math.nan)\n"
   ]
  },
  {
   "cell_type": "code",
   "execution_count": null,
   "metadata": {
    "colab": {
     "base_uri": "https://localhost:8080/"
    },
    "id": "cN4Xv8Y9LKDZ",
    "outputId": "c2229d24-8668-40d2-8f18-08e53a38f32e"
   },
   "outputs": [
    {
     "name": "stdout",
     "output_type": "stream",
     "text": [
      "Area of circle: 78.53981633974483\n"
     ]
    }
   ],
   "source": [
    "radius = 5\n",
    "area = math.pi * radius * radius\n",
    "print(\"Area of circle:\", area)\n"
   ]
  },
  {
   "cell_type": "code",
   "execution_count": null,
   "metadata": {
    "colab": {
     "base_uri": "https://localhost:8080/"
    },
    "collapsed": true,
    "id": "9hiwtBbpLSPT",
    "jupyter": {
     "outputs_hidden": true
    },
    "outputId": "9fca9ae3-2464-41a2-d47b-72aeae83d6b6"
   },
   "outputs": [
    {
     "name": "stdout",
     "output_type": "stream",
     "text": [
      "Help on built-in module math:\n",
      "\n",
      "NAME\n",
      "    math\n",
      "\n",
      "DESCRIPTION\n",
      "    This module provides access to the mathematical functions\n",
      "    defined by the C standard.\n",
      "\n",
      "FUNCTIONS\n",
      "    acos(x, /)\n",
      "        Return the arc cosine (measured in radians) of x.\n",
      "        \n",
      "        The result is between 0 and pi.\n",
      "    \n",
      "    acosh(x, /)\n",
      "        Return the inverse hyperbolic cosine of x.\n",
      "    \n",
      "    asin(x, /)\n",
      "        Return the arc sine (measured in radians) of x.\n",
      "        \n",
      "        The result is between -pi/2 and pi/2.\n",
      "    \n",
      "    asinh(x, /)\n",
      "        Return the inverse hyperbolic sine of x.\n",
      "    \n",
      "    atan(x, /)\n",
      "        Return the arc tangent (measured in radians) of x.\n",
      "        \n",
      "        The result is between -pi/2 and pi/2.\n",
      "    \n",
      "    atan2(y, x, /)\n",
      "        Return the arc tangent (measured in radians) of y/x.\n",
      "        \n",
      "        Unlike atan(y/x), the signs of both x and y are considered.\n",
      "    \n",
      "    atanh(x, /)\n",
      "        Return the inverse hyperbolic tangent of x.\n",
      "    \n",
      "    cbrt(x, /)\n",
      "        Return the cube root of x.\n",
      "    \n",
      "    ceil(x, /)\n",
      "        Return the ceiling of x as an Integral.\n",
      "        \n",
      "        This is the smallest integer >= x.\n",
      "    \n",
      "    comb(n, k, /)\n",
      "        Number of ways to choose k items from n items without repetition and without order.\n",
      "        \n",
      "        Evaluates to n! / (k! * (n - k)!) when k <= n and evaluates\n",
      "        to zero when k > n.\n",
      "        \n",
      "        Also called the binomial coefficient because it is equivalent\n",
      "        to the coefficient of k-th term in polynomial expansion of the\n",
      "        expression (1 + x)**n.\n",
      "        \n",
      "        Raises TypeError if either of the arguments are not integers.\n",
      "        Raises ValueError if either of the arguments are negative.\n",
      "    \n",
      "    copysign(x, y, /)\n",
      "        Return a float with the magnitude (absolute value) of x but the sign of y.\n",
      "        \n",
      "        On platforms that support signed zeros, copysign(1.0, -0.0)\n",
      "        returns -1.0.\n",
      "    \n",
      "    cos(x, /)\n",
      "        Return the cosine of x (measured in radians).\n",
      "    \n",
      "    cosh(x, /)\n",
      "        Return the hyperbolic cosine of x.\n",
      "    \n",
      "    degrees(x, /)\n",
      "        Convert angle x from radians to degrees.\n",
      "    \n",
      "    dist(p, q, /)\n",
      "        Return the Euclidean distance between two points p and q.\n",
      "        \n",
      "        The points should be specified as sequences (or iterables) of\n",
      "        coordinates.  Both inputs must have the same dimension.\n",
      "        \n",
      "        Roughly equivalent to:\n",
      "            sqrt(sum((px - qx) ** 2.0 for px, qx in zip(p, q)))\n",
      "    \n",
      "    erf(x, /)\n",
      "        Error function at x.\n",
      "    \n",
      "    erfc(x, /)\n",
      "        Complementary error function at x.\n",
      "    \n",
      "    exp(x, /)\n",
      "        Return e raised to the power of x.\n",
      "    \n",
      "    exp2(x, /)\n",
      "        Return 2 raised to the power of x.\n",
      "    \n",
      "    expm1(x, /)\n",
      "        Return exp(x)-1.\n",
      "        \n",
      "        This function avoids the loss of precision involved in the direct evaluation of exp(x)-1 for small x.\n",
      "    \n",
      "    fabs(x, /)\n",
      "        Return the absolute value of the float x.\n",
      "    \n",
      "    factorial(n, /)\n",
      "        Find n!.\n",
      "        \n",
      "        Raise a ValueError if x is negative or non-integral.\n",
      "    \n",
      "    floor(x, /)\n",
      "        Return the floor of x as an Integral.\n",
      "        \n",
      "        This is the largest integer <= x.\n",
      "    \n",
      "    fmod(x, y, /)\n",
      "        Return fmod(x, y), according to platform C.\n",
      "        \n",
      "        x % y may differ.\n",
      "    \n",
      "    frexp(x, /)\n",
      "        Return the mantissa and exponent of x, as pair (m, e).\n",
      "        \n",
      "        m is a float and e is an int, such that x = m * 2.**e.\n",
      "        If x is 0, m and e are both 0.  Else 0.5 <= abs(m) < 1.0.\n",
      "    \n",
      "    fsum(seq, /)\n",
      "        Return an accurate floating point sum of values in the iterable seq.\n",
      "        \n",
      "        Assumes IEEE-754 floating point arithmetic.\n",
      "    \n",
      "    gamma(x, /)\n",
      "        Gamma function at x.\n",
      "    \n",
      "    gcd(*integers)\n",
      "        Greatest Common Divisor.\n",
      "    \n",
      "    hypot(...)\n",
      "        hypot(*coordinates) -> value\n",
      "        \n",
      "        Multidimensional Euclidean distance from the origin to a point.\n",
      "        \n",
      "        Roughly equivalent to:\n",
      "            sqrt(sum(x**2 for x in coordinates))\n",
      "        \n",
      "        For a two dimensional point (x, y), gives the hypotenuse\n",
      "        using the Pythagorean theorem:  sqrt(x*x + y*y).\n",
      "        \n",
      "        For example, the hypotenuse of a 3/4/5 right triangle is:\n",
      "        \n",
      "            >>> hypot(3.0, 4.0)\n",
      "            5.0\n",
      "    \n",
      "    isclose(a, b, *, rel_tol=1e-09, abs_tol=0.0)\n",
      "        Determine whether two floating point numbers are close in value.\n",
      "        \n",
      "          rel_tol\n",
      "            maximum difference for being considered \"close\", relative to the\n",
      "            magnitude of the input values\n",
      "          abs_tol\n",
      "            maximum difference for being considered \"close\", regardless of the\n",
      "            magnitude of the input values\n",
      "        \n",
      "        Return True if a is close in value to b, and False otherwise.\n",
      "        \n",
      "        For the values to be considered close, the difference between them\n",
      "        must be smaller than at least one of the tolerances.\n",
      "        \n",
      "        -inf, inf and NaN behave similarly to the IEEE 754 Standard.  That\n",
      "        is, NaN is not close to anything, even itself.  inf and -inf are\n",
      "        only close to themselves.\n",
      "    \n",
      "    isfinite(x, /)\n",
      "        Return True if x is neither an infinity nor a NaN, and False otherwise.\n",
      "    \n",
      "    isinf(x, /)\n",
      "        Return True if x is a positive or negative infinity, and False otherwise.\n",
      "    \n",
      "    isnan(x, /)\n",
      "        Return True if x is a NaN (not a number), and False otherwise.\n",
      "    \n",
      "    isqrt(n, /)\n",
      "        Return the integer part of the square root of the input.\n",
      "    \n",
      "    lcm(*integers)\n",
      "        Least Common Multiple.\n",
      "    \n",
      "    ldexp(x, i, /)\n",
      "        Return x * (2**i).\n",
      "        \n",
      "        This is essentially the inverse of frexp().\n",
      "    \n",
      "    lgamma(x, /)\n",
      "        Natural logarithm of absolute value of Gamma function at x.\n",
      "    \n",
      "    log(...)\n",
      "        log(x, [base=math.e])\n",
      "        Return the logarithm of x to the given base.\n",
      "        \n",
      "        If the base not specified, returns the natural logarithm (base e) of x.\n",
      "    \n",
      "    log10(x, /)\n",
      "        Return the base 10 logarithm of x.\n",
      "    \n",
      "    log1p(x, /)\n",
      "        Return the natural logarithm of 1+x (base e).\n",
      "        \n",
      "        The result is computed in a way which is accurate for x near zero.\n",
      "    \n",
      "    log2(x, /)\n",
      "        Return the base 2 logarithm of x.\n",
      "    \n",
      "    modf(x, /)\n",
      "        Return the fractional and integer parts of x.\n",
      "        \n",
      "        Both results carry the sign of x and are floats.\n",
      "    \n",
      "    nextafter(x, y, /)\n",
      "        Return the next floating-point value after x towards y.\n",
      "    \n",
      "    perm(n, k=None, /)\n",
      "        Number of ways to choose k items from n items without repetition and with order.\n",
      "        \n",
      "        Evaluates to n! / (n - k)! when k <= n and evaluates\n",
      "        to zero when k > n.\n",
      "        \n",
      "        If k is not specified or is None, then k defaults to n\n",
      "        and the function returns n!.\n",
      "        \n",
      "        Raises TypeError if either of the arguments are not integers.\n",
      "        Raises ValueError if either of the arguments are negative.\n",
      "    \n",
      "    pow(x, y, /)\n",
      "        Return x**y (x to the power of y).\n",
      "    \n",
      "    prod(iterable, /, *, start=1)\n",
      "        Calculate the product of all the elements in the input iterable.\n",
      "        \n",
      "        The default start value for the product is 1.\n",
      "        \n",
      "        When the iterable is empty, return the start value.  This function is\n",
      "        intended specifically for use with numeric values and may reject\n",
      "        non-numeric types.\n",
      "    \n",
      "    radians(x, /)\n",
      "        Convert angle x from degrees to radians.\n",
      "    \n",
      "    remainder(x, y, /)\n",
      "        Difference between x and the closest integer multiple of y.\n",
      "        \n",
      "        Return x - n*y where n*y is the closest integer multiple of y.\n",
      "        In the case where x is exactly halfway between two multiples of\n",
      "        y, the nearest even value of n is used. The result is always exact.\n",
      "    \n",
      "    sin(x, /)\n",
      "        Return the sine of x (measured in radians).\n",
      "    \n",
      "    sinh(x, /)\n",
      "        Return the hyperbolic sine of x.\n",
      "    \n",
      "    sqrt(x, /)\n",
      "        Return the square root of x.\n",
      "    \n",
      "    tan(x, /)\n",
      "        Return the tangent of x (measured in radians).\n",
      "    \n",
      "    tanh(x, /)\n",
      "        Return the hyperbolic tangent of x.\n",
      "    \n",
      "    trunc(x, /)\n",
      "        Truncates the Real x to the nearest Integral toward 0.\n",
      "        \n",
      "        Uses the __trunc__ magic method.\n",
      "    \n",
      "    ulp(x, /)\n",
      "        Return the value of the least significant bit of the float x.\n",
      "\n",
      "DATA\n",
      "    e = 2.718281828459045\n",
      "    inf = inf\n",
      "    nan = nan\n",
      "    pi = 3.141592653589793\n",
      "    tau = 6.283185307179586\n",
      "\n",
      "FILE\n",
      "    (built-in)\n",
      "\n",
      "\n"
     ]
    }
   ],
   "source": [
    "import math\n",
    "help(math)\n"
   ]
  },
  {
   "cell_type": "code",
   "execution_count": null,
   "metadata": {
    "colab": {
     "base_uri": "https://localhost:8080/"
    },
    "id": "SvGIBcz0LVXI",
    "outputId": "ab106e55-91f2-4cb3-8891-ccce41677674"
   },
   "outputs": [
    {
     "name": "stdout",
     "output_type": "stream",
     "text": [
      "Area: 153.93804002589985\n",
      "Circumference: 43.982297150257104\n"
     ]
    }
   ],
   "source": [
    "radius = 7\n",
    "area = math.pi * radius ** 2\n",
    "circumference = 2 * math.pi * radius\n",
    "print(\"Area:\", area)\n",
    "print(\"Circumference:\", circumference)\n"
   ]
  },
  {
   "cell_type": "code",
   "execution_count": null,
   "metadata": {
    "colab": {
     "base_uri": "https://localhost:8080/"
    },
    "id": "5yW7MTxLOlWf",
    "outputId": "092a906e-97c6-45da-a318-7df05b46d4ef"
   },
   "outputs": [
    {
     "name": "stdout",
     "output_type": "stream",
     "text": [
      "180 degrees in radians: 3.141592653589793\n",
      "Converted back to degrees: 180.0\n"
     ]
    }
   ],
   "source": [
    "#2. Convert degrees to radians and vice versa\n",
    "degrees = 180\n",
    "radians = math.radians(degrees)\n",
    "print(\"180 degrees in radians:\", radians)\n",
    "\n",
    "# Convert back\n",
    "deg = math.degrees(radians)\n",
    "print(\"Converted back to degrees:\", deg)\n"
   ]
  },
  {
   "cell_type": "code",
   "execution_count": null,
   "metadata": {
    "colab": {
     "base_uri": "https://localhost:8080/"
    },
    "id": "HyXCTFPdUqqC",
    "outputId": "45f8cf6c-a91e-477f-9634-88e8f21c833c"
   },
   "outputs": [
    {
     "name": "stdout",
     "output_type": "stream",
     "text": [
      "a: 6\n",
      "b: 6\n"
     ]
    }
   ],
   "source": [
    "a = 5\n",
    "b = 6\n",
    "a = b\n",
    "print(\"a:\", a)  # Output: 6\n",
    "print(\"b:\", b)  # Output: 6 => We lost the original value of `a`\n"
   ]
  },
  {
   "cell_type": "code",
   "execution_count": null,
   "metadata": {
    "colab": {
     "base_uri": "https://localhost:8080/"
    },
    "id": "WI6p1j0EViSz",
    "outputId": "9378c7ec-b4ef-47eb-f0ff-1e009d29a5f9"
   },
   "outputs": [
    {
     "name": "stdout",
     "output_type": "stream",
     "text": [
      "a: 6\n",
      "b: 5\n"
     ]
    }
   ],
   "source": [
    "a = 5\n",
    "b = 6\n",
    "temp = a     # Store the value of a\n",
    "a = b        # Assign b to a\n",
    "b = temp     # Restore the original a into b\n",
    "\n",
    "print(\"a:\", a)  # Output: 6\n",
    "print(\"b:\", b)  # Output: 5\n"
   ]
  },
  {
   "cell_type": "code",
   "execution_count": null,
   "metadata": {
    "colab": {
     "base_uri": "https://localhost:8080/"
    },
    "id": "AH_iXmCmVvFD",
    "outputId": "735f9553-49ba-4f1b-f5e5-2458f72d7ea2"
   },
   "outputs": [
    {
     "name": "stdout",
     "output_type": "stream",
     "text": [
      "a: 6\n",
      "b: 5\n"
     ]
    }
   ],
   "source": [
    "a = 5\n",
    "b = 6\n",
    "\n",
    "a = a + b  # a becomes 11\n",
    "b = a - b  # b becomes 5 (11 - 6)\n",
    "a = a - b  # a becomes 6 (11 - 5)\n",
    "\n",
    "print(\"a:\", a)  # Output: 6\n",
    "print(\"b:\", b)  # Output: 5\n"
   ]
  },
  {
   "cell_type": "code",
   "execution_count": null,
   "metadata": {
    "colab": {
     "base_uri": "https://localhost:8080/"
    },
    "id": "mEiiu9mGWB5x",
    "outputId": "6d91091c-6664-46bf-e665-4f8f384c14c4"
   },
   "outputs": [
    {
     "name": "stdout",
     "output_type": "stream",
     "text": [
      "a: 6\n",
      "b: 5\n"
     ]
    }
   ],
   "source": [
    "a = 5\n",
    "b = 6\n",
    "\n",
    "a = a ^ b\n",
    "b = a ^ b\n",
    "a = a ^ b\n",
    "\n",
    "print(\"a:\", a)  # Output: 6\n",
    "print(\"b:\", b)  # Output: 5\n"
   ]
  },
  {
   "cell_type": "code",
   "execution_count": null,
   "metadata": {
    "colab": {
     "base_uri": "https://localhost:8080/"
    },
    "id": "ieyJzkYaWMaE",
    "outputId": "00a81cf0-98e1-487d-8505-1de86c905374"
   },
   "outputs": [
    {
     "name": "stdout",
     "output_type": "stream",
     "text": [
      "a: 6\n",
      "b: 5\n"
     ]
    }
   ],
   "source": [
    "a = 5\n",
    "b = 6\n",
    "\n",
    "a, b = b, a\n",
    "\n",
    "print(\"a:\", a)  # Output: 6\n",
    "print(\"b:\", b)  # Output: 5\n"
   ]
  },
  {
   "cell_type": "code",
   "execution_count": null,
   "metadata": {
    "id": "IWgDvVeyWXfV"
   },
   "outputs": [],
   "source": [
    "# Practice 1: Swap 10 and 20 using temp\n",
    "# Practice 2: Swap 30 and 40 using arithmetic\n",
    "# Practice 3: Swap 7 and 9 using XOR\n",
    "# Practice 4: Swap 100 and 200 using Pythonic swap"
   ]
  },
  {
   "cell_type": "code",
   "execution_count": null,
   "metadata": {
    "colab": {
     "base_uri": "https://localhost:8080/"
    },
    "id": "q6MgOzukY0Bb",
    "outputId": "7ca6af7a-d778-4743-9ffb-e2e2db0e6c21"
   },
   "outputs": [
    {
     "name": "stdout",
     "output_type": "stream",
     "text": [
      "You are eligible to vote.\n"
     ]
    }
   ],
   "source": [
    "age = 18\n",
    "\n",
    "if age >= 18:\n",
    "    print(\"You are eligible to vote.\")\n"
   ]
  },
  {
   "cell_type": "code",
   "execution_count": null,
   "metadata": {
    "colab": {
     "base_uri": "https://localhost:8080/"
    },
    "id": "G_WHSu1VZXav",
    "outputId": "d80e07f8-8138-4abf-bb2e-3e8280ee302a"
   },
   "outputs": [
    {
     "name": "stdout",
     "output_type": "stream",
     "text": [
      "This will give an error.\n"
     ]
    }
   ],
   "source": [
    "if True:\n",
    "\n",
    " print(\"This will give an error.\")  # ❌ Wrong indentation\n"
   ]
  },
  {
   "cell_type": "code",
   "execution_count": null,
   "metadata": {
    "colab": {
     "base_uri": "https://localhost:8080/"
    },
    "id": "VBMDL0P1ZhXO",
    "outputId": "60ff77b0-1c78-4d34-ce86-fc14025d6b67"
   },
   "outputs": [
    {
     "name": "stdout",
     "output_type": "stream",
     "text": [
      "You failed the exam.\n"
     ]
    }
   ],
   "source": [
    "marks = 45\n",
    "\n",
    "if marks >= 50:\n",
    "    print(\"You passed the exam.\")\n",
    "else:\n",
    "    print(\"You failed the exam.\")\n"
   ]
  },
  {
   "cell_type": "code",
   "execution_count": null,
   "metadata": {
    "colab": {
     "base_uri": "https://localhost:8080/"
    },
    "id": "9KTOHWV4Z3RW",
    "outputId": "8f53bb49-0cfa-4f7e-f65b-6ccf3d1570ac"
   },
   "outputs": [
    {
     "name": "stdout",
     "output_type": "stream",
     "text": [
      "Positive number\n",
      "Divisible by 5\n"
     ]
    }
   ],
   "source": [
    "num = 15\n",
    "\n",
    "if num > 0:\n",
    "    print(\"Positive number\")\n",
    "    if num % 5 == 0:\n",
    "        print(\"Divisible by 5\")\n"
   ]
  },
  {
   "cell_type": "code",
   "execution_count": null,
   "metadata": {
    "colab": {
     "base_uri": "https://localhost:8080/"
    },
    "id": "J6OxOs0hZ-_6",
    "outputId": "7fe39044-74c9-4981-f35b-ca92439116a5"
   },
   "outputs": [
    {
     "name": "stdout",
     "output_type": "stream",
     "text": [
      "It's warm\n"
     ]
    }
   ],
   "source": [
    "temperature = 30\n",
    "\n",
    "if temperature > 35:\n",
    "    print(\"It's very hot\")\n",
    "elif temperature > 25:\n",
    "    print(\"It's warm\")\n",
    "elif temperature > 15:\n",
    "    print(\"It's pleasant\")\n",
    "else:\n",
    "    print(\"It's cold\")\n"
   ]
  },
  {
   "cell_type": "code",
   "execution_count": null,
   "metadata": {
    "colab": {
     "base_uri": "https://localhost:8080/"
    },
    "id": "n7O5BC8yaUeG",
    "outputId": "fb3ee939-a6d0-423c-a282-6fbb9b67e777"
   },
   "outputs": [
    {
     "name": "stdout",
     "output_type": "stream",
     "text": [
      "Count is: 1\n",
      "Count is: 2\n",
      "Count is: 3\n",
      "Count is: 4\n",
      "Count is: 5\n"
     ]
    }
   ],
   "source": [
    "# Print numbers from 1 to 5 using while loop\n",
    "\n",
    "count = 1  # Initialization\n",
    "while count <= 5:  # Condition\n",
    "    print(\"Count is:\", count)\n",
    "    count += 1  # Increment\n"
   ]
  },
  {
   "cell_type": "code",
   "execution_count": null,
   "metadata": {
    "colab": {
     "base_uri": "https://localhost:8080/"
    },
    "id": "Dzn4SlB6ckNa",
    "outputId": "0dc2b3c9-c20c-4399-d003-f65ace6fc7d0"
   },
   "outputs": [
    {
     "name": "stdout",
     "output_type": "stream",
     "text": [
      "1 \n",
      " 2 \n",
      " 3 \n",
      " 4 \n",
      " 5 \n",
      " "
     ]
    }
   ],
   "source": [
    "# Print numbers 1 to 5 in the same line\n",
    "count = 1\n",
    "while count <= 5:\n",
    "    print(count, end=\" \\n \")  # Space instead of newline\n",
    "    count += 1\n"
   ]
  },
  {
   "cell_type": "code",
   "execution_count": null,
   "metadata": {
    "colab": {
     "base_uri": "https://localhost:8080/"
    },
    "id": "riYeYQQjdXhg",
    "outputId": "aa0983eb-c610-4181-9a10-84f3bc51fe5b"
   },
   "outputs": [
    {
     "name": "stdout",
     "output_type": "stream",
     "text": [
      "* \n",
      "* * \n",
      "* * * \n"
     ]
    }
   ],
   "source": [
    "# Nested while loop to print a pattern\n",
    "i = 1\n",
    "while i <= 3:\n",
    "    j = 1\n",
    "    while j <= i:\n",
    "        print(\"*\", end=\" \")\n",
    "        j += 1\n",
    "    print()  # For new line after each row\n",
    "    i += 1\n"
   ]
  },
  {
   "cell_type": "code",
   "execution_count": null,
   "metadata": {
    "colab": {
     "base_uri": "https://localhost:8080/"
    },
    "id": "V9c3xCFedxFd",
    "outputId": "bd58012c-5c11-4bef-9b69-3de35f4cb273"
   },
   "outputs": [
    {
     "name": "stdout",
     "output_type": "stream",
     "text": [
      "Sum is: 55\n"
     ]
    }
   ],
   "source": [
    "# Sum of first 10 natural numbers\n",
    "n = 1\n",
    "total = 0\n",
    "\n",
    "while n <= 10:\n",
    "    total += n\n",
    "    n += 1\n",
    "\n",
    "print(\"Sum is:\", total)"
   ]
  },
  {
   "cell_type": "code",
   "execution_count": null,
   "metadata": {
    "colab": {
     "base_uri": "https://localhost:8080/"
    },
    "id": "EPac1xpaeUiC",
    "outputId": "dc1b1a5f-cf99-4757-d357-3066312a37b0"
   },
   "outputs": [
    {
     "name": "stdout",
     "output_type": "stream",
     "text": [
      "1\n",
      "2\n"
     ]
    }
   ],
   "source": [
    "for i in range(1, 6):\n",
    "    if i == 3:\n",
    "        break\n",
    "    print(i)\n"
   ]
  },
  {
   "cell_type": "code",
   "execution_count": null,
   "metadata": {
    "colab": {
     "base_uri": "https://localhost:8080/"
    },
    "id": "rCbVoBAtjTmT",
    "outputId": "9e174413-a5bc-4b7b-d994-465b62b2b2b2"
   },
   "outputs": [
    {
     "name": "stdout",
     "output_type": "stream",
     "text": [
      "1\n",
      "2\n",
      "4\n",
      "5\n"
     ]
    }
   ],
   "source": [
    "for i in range(1, 6):\n",
    "    if i == 3:\n",
    "        continue\n",
    "    print(i)\n"
   ]
  },
  {
   "cell_type": "code",
   "execution_count": null,
   "metadata": {
    "colab": {
     "base_uri": "https://localhost:8080/"
    },
    "id": "aax3rSxQjYIP",
    "outputId": "d5453c40-649a-44fb-b64c-183e9113aca7"
   },
   "outputs": [
    {
     "name": "stdout",
     "output_type": "stream",
     "text": [
      "1\n",
      "2\n",
      "4\n",
      "5\n"
     ]
    }
   ],
   "source": [
    "for i in range(1, 6):\n",
    "    if i == 3:\n",
    "        pass\n",
    "    else:\n",
    "        print(i)\n"
   ]
  },
  {
   "cell_type": "code",
   "execution_count": null,
   "metadata": {
    "colab": {
     "base_uri": "https://localhost:8080/"
    },
    "id": "42bgJtyhjfxp",
    "outputId": "40daf659-a8e0-4369-def4-e394fc6a576e"
   },
   "outputs": [
    {
     "name": "stdout",
     "output_type": "stream",
     "text": [
      "#\n",
      "#\n",
      "#\n"
     ]
    }
   ],
   "source": [
    "print(\"#\")\n",
    "print(\"#\")\n",
    "print(\"#\")\n"
   ]
  },
  {
   "cell_type": "code",
   "execution_count": null,
   "metadata": {
    "colab": {
     "base_uri": "https://localhost:8080/"
    },
    "id": "DaqY2D7FjsAx",
    "outputId": "b8e189cb-fc57-4515-ec9d-7448ee103433"
   },
   "outputs": [
    {
     "name": "stdout",
     "output_type": "stream",
     "text": [
      "# # # "
     ]
    }
   ],
   "source": [
    "print(\"#\", end=\" \")\n",
    "print(\"#\", end=\" \")\n",
    "print(\"#\", end=\" \")\n"
   ]
  },
  {
   "cell_type": "code",
   "execution_count": null,
   "metadata": {
    "colab": {
     "base_uri": "https://localhost:8080/"
    },
    "id": "YBi357ralisA",
    "outputId": "ab702591-ac31-4dec-c83e-2e2e3cfb921d"
   },
   "outputs": [
    {
     "name": "stdout",
     "output_type": "stream",
     "text": [
      "# # # # # "
     ]
    }
   ],
   "source": [
    "for i in range(5):\n",
    "    print(\"#\", end=\" \")"
   ]
  },
  {
   "cell_type": "code",
   "execution_count": null,
   "metadata": {
    "colab": {
     "base_uri": "https://localhost:8080/"
    },
    "id": "5cwPntHalnaX",
    "outputId": "ea9e0b6b-1140-4ee4-e755-d2724cd0a106"
   },
   "outputs": [
    {
     "name": "stdout",
     "output_type": "stream",
     "text": [
      "# # # # \n",
      "# # # # \n",
      "# # # # \n",
      "# # # # \n"
     ]
    }
   ],
   "source": [
    "for row in range(4):            # Outer loop = rows\n",
    "    for col in range(4):        # Inner loop = columns\n",
    "        print(\"#\", end=\" \")\n",
    "    print()                     # Moves to the next line after each row\n"
   ]
  },
  {
   "cell_type": "code",
   "execution_count": null,
   "metadata": {
    "colab": {
     "base_uri": "https://localhost:8080/"
    },
    "id": "nKRmKkvblvHl",
    "outputId": "93bbbebd-f9d3-4039-cb88-243918fa4ca2"
   },
   "outputs": [
    {
     "name": "stdout",
     "output_type": "stream",
     "text": [
      "# \n",
      "# # \n",
      "# # # \n",
      "# # # # \n",
      "# # # # # \n"
     ]
    }
   ],
   "source": [
    "for i in range(1, 6):              # i = current row\n",
    "    for j in range(i):            # print j times per row\n",
    "        print(\"#\", end=\" \")\n",
    "    print()                       # move to next line\n"
   ]
  },
  {
   "cell_type": "code",
   "execution_count": null,
   "metadata": {
    "colab": {
     "base_uri": "https://localhost:8080/"
    },
    "id": "kPhALTEclzJp",
    "outputId": "e517485f-5d60-45b0-8065-b142e9064c95"
   },
   "outputs": [
    {
     "name": "stdout",
     "output_type": "stream",
     "text": [
      "# # # # # \n",
      "# # # # \n",
      "# # # \n",
      "# # \n",
      "# \n"
     ]
    }
   ],
   "source": [
    "for i in range(5):               # i = 0 to 4\n",
    "    for j in range(5 - i):       # print (5 - i) hashes\n",
    "        print(\"#\", end=\" \")\n",
    "    print()\n"
   ]
  },
  {
   "cell_type": "code",
   "execution_count": null,
   "metadata": {
    "id": "uSYjkvUOl-Y7"
   },
   "outputs": [],
   "source": [
    "import array as arr\n"
   ]
  },
  {
   "cell_type": "code",
   "execution_count": null,
   "metadata": {
    "id": "QJpCpb9aqk3u"
   },
   "outputs": [],
   "source": [
    "numbers = arr.array('i', [10, 20, 30, 40, 50])\n"
   ]
  },
  {
   "cell_type": "code",
   "execution_count": null,
   "metadata": {
    "colab": {
     "base_uri": "https://localhost:8080/"
    },
    "id": "zJxAbnecqpeE",
    "outputId": "7fa263dd-7afc-4896-86ac-15f7ec317a61"
   },
   "outputs": [
    {
     "name": "stdout",
     "output_type": "stream",
     "text": [
      "(136964543447280, 5)\n"
     ]
    }
   ],
   "source": [
    "print(numbers.buffer_info())\n"
   ]
  },
  {
   "cell_type": "code",
   "execution_count": null,
   "metadata": {
    "colab": {
     "base_uri": "https://localhost:8080/"
    },
    "id": "BlakLDWFq2kj",
    "outputId": "9d245d5a-7279-4b64-b500-1fcd3114be55"
   },
   "outputs": [
    {
     "name": "stdout",
     "output_type": "stream",
     "text": [
      "i\n"
     ]
    }
   ],
   "source": [
    "print(numbers.typecode)\n"
   ]
  },
  {
   "cell_type": "code",
   "execution_count": null,
   "metadata": {
    "colab": {
     "base_uri": "https://localhost:8080/"
    },
    "id": "uDWF5SsmrAgb",
    "outputId": "eee02f5e-a447-4689-e5c8-de2e45737bce"
   },
   "outputs": [
    {
     "name": "stdout",
     "output_type": "stream",
     "text": [
      "array('i', [10, 20, 30, 40, 50, 60])\n"
     ]
    }
   ],
   "source": [
    "numbers.append(60)\n",
    "print(numbers)\n"
   ]
  },
  {
   "cell_type": "code",
   "execution_count": null,
   "metadata": {
    "colab": {
     "base_uri": "https://localhost:8080/"
    },
    "id": "JcSOC2GhrDdc",
    "outputId": "7f0d2358-3904-4339-85be-3571eae1431c"
   },
   "outputs": [
    {
     "name": "stdout",
     "output_type": "stream",
     "text": [
      "array('i', [10, 30, 40, 50, 60])\n"
     ]
    }
   ],
   "source": [
    "numbers.remove(20)\n",
    "print(numbers)\n"
   ]
  },
  {
   "cell_type": "code",
   "execution_count": null,
   "metadata": {
    "colab": {
     "base_uri": "https://localhost:8080/"
    },
    "id": "FHP8lfT3rIVX",
    "outputId": "2b4e770d-d11d-473d-fd0c-c4423dc2cbf6"
   },
   "outputs": [
    {
     "name": "stdout",
     "output_type": "stream",
     "text": [
      "array('i', [60, 50, 40, 30, 10])\n"
     ]
    }
   ],
   "source": [
    "numbers.reverse()\n",
    "print(numbers)\n"
   ]
  },
  {
   "cell_type": "code",
   "execution_count": null,
   "metadata": {
    "colab": {
     "base_uri": "https://localhost:8080/"
    },
    "id": "SOcz3AaurM_X",
    "outputId": "2fcdd337-3c58-4490-aa1b-f01e8437a5ac"
   },
   "outputs": [
    {
     "name": "stdout",
     "output_type": "stream",
     "text": [
      "60\n",
      "40\n"
     ]
    }
   ],
   "source": [
    "print(numbers[0])  # First element\n",
    "print(numbers[2])  # Third element\n"
   ]
  },
  {
   "cell_type": "code",
   "execution_count": null,
   "metadata": {
    "colab": {
     "base_uri": "https://localhost:8080/"
    },
    "id": "ZWv9ejZFrR-o",
    "outputId": "ea2a3bae-557e-484c-83d3-7daa945b5658"
   },
   "outputs": [
    {
     "name": "stdout",
     "output_type": "stream",
     "text": [
      "60\n",
      "50\n",
      "40\n",
      "30\n",
      "10\n"
     ]
    }
   ],
   "source": [
    "for num in numbers:\n",
    "    print(num)\n"
   ]
  },
  {
   "cell_type": "code",
   "execution_count": null,
   "metadata": {
    "colab": {
     "base_uri": "https://localhost:8080/"
    },
    "id": "7IZEdkVXrXON",
    "outputId": "f24cec48-6f85-4166-b7d0-2b61526556f6"
   },
   "outputs": [
    {
     "name": "stdout",
     "output_type": "stream",
     "text": [
      "60\n",
      "50\n",
      "40\n",
      "30\n",
      "10\n"
     ]
    }
   ],
   "source": [
    "i = 0\n",
    "while i < len(numbers):\n",
    "    print(numbers[i])\n",
    "    i += 1\n"
   ]
  },
  {
   "cell_type": "code",
   "execution_count": null,
   "metadata": {
    "colab": {
     "base_uri": "https://localhost:8080/"
    },
    "id": "oMR1-aySrcJF",
    "outputId": "27fa0c97-d3cf-4ec1-bffc-353d383cc883"
   },
   "outputs": [
    {
     "name": "stdout",
     "output_type": "stream",
     "text": [
      "New Array: array('i', [60, 50, 40, 30, 10])\n"
     ]
    }
   ],
   "source": [
    "new_array = arr.array('i', [])\n",
    "\n",
    "for value in numbers:\n",
    "    new_array.append(value)\n",
    "\n",
    "print(\"New Array:\", new_array)\n"
   ]
  },
  {
   "cell_type": "code",
   "execution_count": null,
   "metadata": {
    "colab": {
     "base_uri": "https://localhost:8080/"
    },
    "id": "445a9bYtxcNA",
    "outputId": "e91b3696-348d-4bb6-a22c-b0376eeae5ea"
   },
   "outputs": [
    {
     "name": "stdout",
     "output_type": "stream",
     "text": [
      "[[1 2 3]\n",
      " [4 5 6]\n",
      " [7 8 9]]\n",
      "First row: [1 2 3]\n",
      "Element at (2,3): 6\n",
      "All rows of 2nd column: [2 5 8]\n"
     ]
    }
   ],
   "source": [
    "from numpy import *\n",
    "mat = array([[1, 2, 3], [4, 5, 6], [7, 8, 9]])\n",
    "print(mat)\n",
    "print('First row:', mat[0])\n",
    "print('Element at (2,3):', mat[1][2])\n",
    "print('All rows of 2nd column:', mat[:, 1])"
   ]
  },
  {
   "cell_type": "code",
   "execution_count": null,
   "metadata": {
    "colab": {
     "base_uri": "https://localhost:8080/"
    },
    "id": "mtB62tAuyoOo",
    "outputId": "7c875092-9fb6-48ae-bc9b-690d05ea7cef"
   },
   "outputs": [
    {
     "name": "stdout",
     "output_type": "stream",
     "text": [
      "Array: [1 2 3 4]\n",
      "Type: int64\n",
      "\n",
      "Linspace: [ 0.   2.5  5.   7.5 10. ]\n",
      "\n",
      "Arange: [1 3 5 7 9]\n",
      "\n",
      "Logspace: [  10.           31.6227766   100.          316.22776602 1000.        ]\n",
      "\n",
      "Zeros: [0. 0. 0. 0. 0.]\n",
      "\n",
      "Ones (int): [1 1 1 1]\n"
     ]
    }
   ],
   "source": [
    "from numpy import *\n",
    "\n",
    "# 1. array() - creates array from a list\n",
    "arr1 = array([1, 2, 3, 4])\n",
    "print(\"Array:\", arr1)\n",
    "print(\"Type:\", arr1.dtype)\n",
    "\n",
    "# 2. linspace() - creates array with equal intervals\n",
    "arr2 = linspace(0, 10, 5)  # divides from 0 to 10 in 5 parts\n",
    "print(\"\\nLinspace:\", arr2)\n",
    "\n",
    "# 3. arange() - works like range()\n",
    "arr3 = arange(1, 10, 2)  # starts from 1, goes till <10, step = 2\n",
    "print(\"\\nArange:\", arr3)\n",
    "\n",
    "# 4. logspace() - spaced numbers on a log scale\n",
    "arr4 = logspace(1, 3, 5)  # 10^1 to 10^3 in 5 parts\n",
    "print(\"\\nLogspace:\", arr4)\n",
    "\n",
    "# 5. zeros() - creates array of 0s\n",
    "arr5 = zeros(5)\n",
    "print(\"\\nZeros:\", arr5)\n",
    "\n",
    "# 6. ones() - creates array of 1s\n",
    "arr6 = ones(4, int)\n",
    "print(\"\\nOnes (int):\", arr6)\n"
   ]
  },
  {
   "cell_type": "code",
   "execution_count": null,
   "metadata": {
    "colab": {
     "base_uri": "https://localhost:8080/"
    },
    "id": "D3LQn0SO05gw",
    "outputId": "6072d4af-1a3b-4eba-d608-5d5893183d6b"
   },
   "outputs": [
    {
     "name": "stdout",
     "output_type": "stream",
     "text": [
      "Matrix:\n",
      " [[1 2 3]\n",
      " [4 5 6]]\n"
     ]
    }
   ],
   "source": [
    "from numpy import *\n",
    "\n",
    "# Matrix with 2 rows and 3 columns\n",
    "matrix = array([[1, 2, 3],\n",
    "                [4, 5, 6]])\n",
    "print(\"Matrix:\\n\", matrix)\n"
   ]
  },
  {
   "cell_type": "code",
   "execution_count": null,
   "metadata": {
    "colab": {
     "base_uri": "https://localhost:8080/"
    },
    "id": "7lbYMrdH1Mdx",
    "outputId": "73b72721-3308-46b1-f7d4-61f863a37e1a"
   },
   "outputs": [
    {
     "name": "stdout",
     "output_type": "stream",
     "text": [
      "Element at (0,1): 2\n",
      "First row: [1 2 3]\n",
      "Second column: [2 5]\n"
     ]
    }
   ],
   "source": [
    "# Access 1st row, 2nd column (remember: index starts at 0)\n",
    "print(\"Element at (0,1):\", matrix[0][1])  # Output: 2\n",
    "\n",
    "# Access entire row\n",
    "print(\"First row:\", matrix[0])\n",
    "\n",
    "# Access entire column\n",
    "print(\"Second column:\", matrix[:,1])\n"
   ]
  },
  {
   "cell_type": "code",
   "execution_count": null,
   "metadata": {
    "colab": {
     "base_uri": "https://localhost:8080/"
    },
    "id": "HiUPjhKa1Qx_",
    "outputId": "123afa01-2c90-4a14-f8c3-0574c7c123fe"
   },
   "outputs": [
    {
     "name": "stdout",
     "output_type": "stream",
     "text": [
      "1 2 3 \n",
      "4 5 6 \n"
     ]
    }
   ],
   "source": [
    "# Print all elements using nested loops\n",
    "for row in matrix:\n",
    "    for item in row:\n",
    "        print(item, end=\" \")\n",
    "    print()\n"
   ]
  },
  {
   "cell_type": "code",
   "execution_count": null,
   "metadata": {
    "colab": {
     "base_uri": "https://localhost:8080/"
    },
    "id": "2orRhVt11VEO",
    "outputId": "767d7133-a8f5-4f0a-ede6-b7270ddb6e19"
   },
   "outputs": [
    {
     "name": "stdout",
     "output_type": "stream",
     "text": [
      "Shape: (2, 3)\n",
      "Reshaped to 3x2:\n",
      " [[1 2]\n",
      " [3 4]\n",
      " [5 6]]\n",
      "Flattened: [1 2 3 4 5 6]\n"
     ]
    }
   ],
   "source": [
    "from numpy import *\n",
    "\n",
    "mat = array([[1, 2, 3],\n",
    "             [4, 5, 6]])\n",
    "\n",
    "# Shape = (rows, columns)\n",
    "print(\"Shape:\", mat.shape)\n",
    "\n",
    "# Reshape 2x3 to 3x2\n",
    "reshaped = mat.reshape(3, 2)\n",
    "print(\"Reshaped to 3x2:\\n\", reshaped)\n",
    "\n",
    "# Flatten matrix (2D → 1D)\n",
    "flat = mat.flatten()\n",
    "print(\"Flattened:\", flat)"
   ]
  },
  {
   "cell_type": "code",
   "execution_count": null,
   "metadata": {
    "id": "BgV2Dclf1YqH"
   },
   "outputs": [],
   "source": []
  }
 ],
 "metadata": {
  "colab": {
   "provenance": []
  },
  "kernelspec": {
   "display_name": "Python 3 (ipykernel)",
   "language": "python",
   "name": "python3"
  },
  "language_info": {
   "codemirror_mode": {
    "name": "ipython",
    "version": 3
   },
   "file_extension": ".py",
   "mimetype": "text/x-python",
   "name": "python",
   "nbconvert_exporter": "python",
   "pygments_lexer": "ipython3",
   "version": "3.11.7"
  }
 },
 "nbformat": 4,
 "nbformat_minor": 4
}
