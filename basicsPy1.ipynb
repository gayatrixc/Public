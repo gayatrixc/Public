{
 "cells": [
  {
   "cell_type": "code",
   "execution_count": 2,
   "id": "812c1362-b49e-40fd-bf50-2e308c45feec",
   "metadata": {},
   "outputs": [
    {
     "data": {
      "text/plain": [
       "'ijayrahcA'"
      ]
     },
     "execution_count": 2,
     "metadata": {},
     "output_type": "execute_result"
    }
   ],
   "source": [
    "'Acharyaji'[::-1]"
   ]
  },
  {
   "cell_type": "code",
   "execution_count": 3,
   "id": "f3c8b85e-81d7-400e-a622-d41db8304d6d",
   "metadata": {},
   "outputs": [
    {
     "data": {
      "text/plain": [
       "'Acharyaji'"
      ]
     },
     "execution_count": 3,
     "metadata": {},
     "output_type": "execute_result"
    }
   ],
   "source": [
    "'Acharyaji'[::1]\n"
   ]
  },
  {
   "cell_type": "code",
   "execution_count": 4,
   "id": "9b4917f2-fb63-4d22-8c2f-8229e50a1a9c",
   "metadata": {},
   "outputs": [
    {
     "data": {
      "text/plain": [
       "'Ahrai'"
      ]
     },
     "execution_count": 4,
     "metadata": {},
     "output_type": "execute_result"
    }
   ],
   "source": [
    "'Acharyaji'[::2]"
   ]
  },
  {
   "cell_type": "code",
   "execution_count": 5,
   "id": "d98e502a-ae4e-4999-b552-7fa83bf71a30",
   "metadata": {},
   "outputs": [
    {
     "data": {
      "text/plain": [
       "'iarhA'"
      ]
     },
     "execution_count": 5,
     "metadata": {},
     "output_type": "execute_result"
    }
   ],
   "source": [
    "'Acharyaji'[::-2]"
   ]
  },
  {
   "cell_type": "code",
   "execution_count": 7,
   "id": "5d3741c5-25a5-4910-810c-27dab317fa8a",
   "metadata": {},
   "outputs": [
    {
     "data": {
      "text/plain": [
       "'AAAAAA'"
      ]
     },
     "execution_count": 7,
     "metadata": {},
     "output_type": "execute_result"
    }
   ],
   "source": [
    "\"ABABABABABAB\"[::2]"
   ]
  },
  {
   "cell_type": "code",
   "execution_count": 9,
   "id": "5e832594-ced8-48f2-b66f-fb7ca14b1e80",
   "metadata": {},
   "outputs": [
    {
     "data": {
      "text/plain": [
       "'BBBBBBB'"
      ]
     },
     "execution_count": 9,
     "metadata": {},
     "output_type": "execute_result"
    }
   ],
   "source": [
    "\"ABABABABABABAB\"[1::2]"
   ]
  },
  {
   "cell_type": "code",
   "execution_count": 10,
   "id": "1c5ee3e7-e0d8-4827-81ba-2d13b04ce7b4",
   "metadata": {},
   "outputs": [
    {
     "name": "stdout",
     "output_type": "stream",
     "text": [
      "A\n",
      "c\n",
      "h\n",
      "a\n",
      "r\n"
     ]
    }
   ],
   "source": [
    "z = 'Acharyaji'\n",
    "i = 0\n",
    "while i<=4:\n",
    "    print (z[i])\n",
    "    i=i+1"
   ]
  },
  {
   "cell_type": "code",
   "execution_count": 14,
   "id": "fe8d73bd-7d2f-457d-87b5-e197f7ee1987",
   "metadata": {},
   "outputs": [
    {
     "name": "stdout",
     "output_type": "stream",
     "text": [
      "A\n",
      "c\n"
     ]
    },
    {
     "data": {
      "text/plain": [
       "'h'"
      ]
     },
     "execution_count": 14,
     "metadata": {},
     "output_type": "execute_result"
    }
   ],
   "source": [
    "z = 'Acharyaji'\n",
    "print(z[0])\n",
    "print(z[1])\n",
    "z[2]"
   ]
  },
  {
   "cell_type": "code",
   "execution_count": 15,
   "id": "e7cc16f0-b0a4-4a08-8584-ab44a09841e6",
   "metadata": {},
   "outputs": [
    {
     "name": "stdout",
     "output_type": "stream",
     "text": [
      "A\n",
      "c\n"
     ]
    },
    {
     "data": {
      "text/plain": [
       "'r'"
      ]
     },
     "execution_count": 15,
     "metadata": {},
     "output_type": "execute_result"
    }
   ],
   "source": [
    "z = 'Acharyaji'\n",
    "print(z[0])\n",
    "print(z[1])\n",
    "z[-5]"
   ]
  },
  {
   "cell_type": "code",
   "execution_count": 69,
   "id": "0cc2a84c-890f-4cdf-bccc-c53339b59572",
   "metadata": {},
   "outputs": [],
   "source": [
    "import os\n",
    "\n",
    "def launch_calculator():\n",
    "    os.system('open -a Calculator')\n",
    "\n",
    "launch_calculator()\n"
   ]
  },
  {
   "cell_type": "code",
   "execution_count": 23,
   "id": "eb5f4f48-f034-4923-bd92-930ac6eeb19a",
   "metadata": {},
   "outputs": [
    {
     "name": "stdout",
     "output_type": "stream",
     "text": [
      "{'name': 'John', 'courses': ['Math', 'CompSci']}\n",
      "25\n"
     ]
    }
   ],
   "source": [
    "student = {'name': 'John', 'age': 25, 'courses': ['Math','CompSci']}\n",
    "age = student.pop('age')\n",
    "print (student)\n",
    "print (age)\n",
    "\n",
    "#print (Len(student))\n",
    "#print(student.keys())\n",
    "#print(student.values ())\n",
    "#print (student.items ())"
   ]
  },
  {
   "cell_type": "code",
   "execution_count": 30,
   "id": "9ea04aaf-eafa-4b2e-9433-e84f82e0118e",
   "metadata": {},
   "outputs": [
    {
     "name": "stdout",
     "output_type": "stream",
     "text": [
      "{'name': 'John', 'courses': ['Math', 'CompSci']}\n",
      "25\n",
      "2\n",
      "dict_keys(['name', 'courses'])\n",
      "dict_values(['John', ['Math', 'CompSci']])\n",
      "dict_items([('name', 'John'), ('courses', ['Math', 'CompSci'])])\n"
     ]
    }
   ],
   "source": [
    "student = {'name': 'John', 'age': 25, 'courses': ['Math', 'CompSci']}\n",
    "age = student.pop('age')\n",
    "print(student)\n",
    "print(age)\n",
    "\n",
    "print(len(student))\n",
    "print(student.keys())\n",
    "print(student.values())\n",
    "print(student.items())\n"
   ]
  },
  {
   "cell_type": "code",
   "execution_count": 31,
   "id": "1777090a-56be-4e93-b4a2-2cab52f43714",
   "metadata": {},
   "outputs": [
    {
     "name": "stdout",
     "output_type": "stream",
     "text": [
      "c\n",
      "h\n",
      "a\n",
      "r\n",
      "y\n"
     ]
    }
   ],
   "source": [
    "z = 'Acharyaji'\n",
    "i = 0\n",
    "while i<=4:\n",
    "    print (z[i+1])\n",
    "    i=i+1"
   ]
  },
  {
   "cell_type": "code",
   "execution_count": 32,
   "id": "dd17ed47-df35-4e48-a782-05e4f095c8f0",
   "metadata": {},
   "outputs": [
    {
     "name": "stdout",
     "output_type": "stream",
     "text": [
      "Hello World!\n"
     ]
    }
   ],
   "source": [
    "def test(output):\n",
    "    print(output)\n",
    "    return\n",
    "test(\"Hello World!\");\n",
    "\n"
   ]
  },
  {
   "cell_type": "code",
   "execution_count": 33,
   "id": "e9d266e6-771e-4d89-927a-c1243f505ef2",
   "metadata": {},
   "outputs": [
    {
     "name": "stdout",
     "output_type": "stream",
     "text": [
      "Hello world!\n"
     ]
    }
   ],
   "source": [
    "print(\"Hello world!\")"
   ]
  },
  {
   "cell_type": "code",
   "execution_count": 34,
   "id": "450d5be6-108a-4220-a329-5c48585ded4c",
   "metadata": {},
   "outputs": [
    {
     "name": "stdout",
     "output_type": "stream",
     "text": [
      "My Name is Aryan and I'm an Indian\n"
     ]
    }
   ],
   "source": [
    "def test():\n",
    "    print(\"My Name is Aryan and I'm an Indian\")\n",
    "    return\n",
    "test()\n"
   ]
  },
  {
   "cell_type": "code",
   "execution_count": 35,
   "id": "694bda8b-9a69-46f6-b505-40b1e51b7272",
   "metadata": {},
   "outputs": [
    {
     "name": "stdout",
     "output_type": "stream",
     "text": [
      "Addition 40\n",
      "Substraction -20\n",
      "Multplication 300\n",
      "Division 0.3333333333333333\n"
     ]
    }
   ],
   "source": [
    "def calculator(a,b):\n",
    "    print(\"Addition\", a+b)\n",
    "    print(\"Substraction\", a-b)\n",
    "    print(\"Multplication\", a*b)\n",
    "    print(\"Division\", a/b)\n",
    "    return\n",
    "calculator(10,30)\n",
    "\n"
   ]
  },
  {
   "cell_type": "code",
   "execution_count": 40,
   "id": "8f0b7340-cdc3-4d52-9db6-272efb54f60b",
   "metadata": {},
   "outputs": [
    {
     "name": "stdout",
     "output_type": "stream",
     "text": [
      "Any Name Is Good 30\n",
      "Substraction -10\n",
      "Multplication 200\n",
      "Division 0.5\n"
     ]
    }
   ],
   "source": [
    "def stanley(a,b):\n",
    "    print(\"Any Name Is Good\", a+b)\n",
    "    print(\"Substraction\", a-b)\n",
    "    print(\"Multplication\", a*b)\n",
    "    print(\"Division\", a/b)\n",
    "    return\n",
    "\n",
    "stanley(10,20)"
   ]
  },
  {
   "cell_type": "code",
   "execution_count": 45,
   "id": "9cf6723d-43cb-4f6c-8e43-c54ab8bca51f",
   "metadata": {},
   "outputs": [
    {
     "name": "stdout",
     "output_type": "stream",
     "text": [
      "Addition 28\n"
     ]
    }
   ],
   "source": [
    "def stanley(a,b,c,d,e,f,g):\n",
    "    print(\"Addition\", a+b+c+d+e+f+g)\n",
    "    #print(\"Substraction\", a-b)\n",
    "    #print(\"Multplication\", a*b)\n",
    "    #print(\"Division\", a/b)\n",
    "    return\n",
    "\n",
    "stanley(1,2,3,4,5,6,7)"
   ]
  },
  {
   "cell_type": "code",
   "execution_count": 46,
   "id": "0a2732ec-156a-4010-90a0-c4ff4f4a3f09",
   "metadata": {},
   "outputs": [
    {
     "name": "stdout",
     "output_type": "stream",
     "text": [
      "Addition 28\n",
      "Substraction -1\n",
      "Multplication 2\n",
      "Division 0.5\n"
     ]
    }
   ],
   "source": [
    "def stanley(a,b,c,d,e,f,g):\n",
    "    print(\"Addition\", a+b+c+d+e+f+g)\n",
    "    print(\"Substraction\", a-b)\n",
    "    print(\"Multplication\", a*b)\n",
    "    print(\"Division\", a/b)\n",
    "    return\n",
    "\n",
    "stanley(1,2,3,4,5,6,7)"
   ]
  },
  {
   "cell_type": "code",
   "execution_count": 47,
   "id": "92ad481e-0636-4e7e-bf9e-edf684f6ec73",
   "metadata": {},
   "outputs": [
    {
     "name": "stdin",
     "output_type": "stream",
     "text": [
      " 10,20,30,40,50\n"
     ]
    }
   ],
   "source": [
    "a = input('')"
   ]
  },
  {
   "cell_type": "code",
   "execution_count": 67,
   "id": "1814ac77-7402-4a82-9475-f1fcf959aacf",
   "metadata": {},
   "outputs": [
    {
     "name": "stdin",
     "output_type": "stream",
     "text": [
      "Enter the first number:  10\n",
      "Enter the second number:  20\n"
     ]
    },
    {
     "name": "stdout",
     "output_type": "stream",
     "text": [
      "Addition: 30.0\n",
      "Subtraction: -10.0\n",
      "Multiplication: 200.0\n",
      "Division: 0.5\n"
     ]
    }
   ],
   "source": [
    "def calculator():\n",
    "    a = float(input(\"Enter the first number: \"))\n",
    "    b = float(input(\"Enter the second number: \"))\n",
    "    \n",
    "    print(\"Addition:\", a + b)\n",
    "    print(\"Subtraction:\", a - b)\n",
    "    print(\"Multiplication:\", a * b)\n",
    "    if b != 0:\n",
    "        print(\"Division:\", a / b)\n",
    "    else:\n",
    "        print(\"Division: Error! Division by zero.\")\n",
    "\n",
    "calculator()\n"
   ]
  },
  {
   "cell_type": "code",
   "execution_count": 77,
   "id": "6828a182-9730-4f22-993e-09d9a37e24c8",
   "metadata": {},
   "outputs": [
    {
     "name": "stdout",
     "output_type": "stream",
     "text": [
      "Nitin Kumar Sharma\n",
      "18\n",
      "N\n",
      "c\n",
      "Index 20 is out of range\n",
      "Nitin’\n",
      "s Dicti\n",
      "nitin’s dictionary\n",
      "NITIN’S DICTIONARY\n",
      "0\n",
      "1\n",
      "4\n",
      "1\n",
      "8\n",
      "Kapil’s Dictionary\n",
      "NitinKumarSharma\n",
      "Nitin,Kumar,Sharma\n",
      "Nitin,Kumar,Sharma. Welcome!\n",
      "Nitin, Kumar, Sharma. Welcome!\n",
      "Nitin, Kumar, Sharma. Welcome!\n",
      "['__add__', '__class__', '__contains__', '__delattr__', '__dir__', '__doc__', '__eq__', '__format__', '__ge__', '__getattribute__', '__getitem__', '__getnewargs__', '__getstate__', '__gt__', '__hash__', '__init__', '__init_subclass__', '__iter__', '__le__', '__len__', '__lt__', '__mod__', '__mul__', '__ne__', '__new__', '__reduce__', '__reduce_ex__', '__repr__', '__rmod__', '__rmul__', '__setattr__', '__sizeof__', '__str__', '__subclasshook__', 'capitalize', 'casefold', 'center', 'count', 'encode', 'endswith', 'expandtabs', 'find', 'format', 'format_map', 'index', 'isalnum', 'isalpha', 'isascii', 'isdecimal', 'isdigit', 'isidentifier', 'islower', 'isnumeric', 'isprintable', 'isspace', 'istitle', 'isupper', 'join', 'ljust', 'lower', 'lstrip', 'maketrans', 'partition', 'removeprefix', 'removesuffix', 'replace', 'rfind', 'rindex', 'rjust', 'rpartition', 'rsplit', 'rstrip', 'split', 'splitlines', 'startswith', 'strip', 'swapcase', 'title', 'translate', 'upper', 'zfill']\n",
      "Help on class str in module builtins:\n",
      "\n",
      "class str(object)\n",
      " |  str(object='') -> str\n",
      " |  str(bytes_or_buffer[, encoding[, errors]]) -> str\n",
      " |  \n",
      " |  Create a new string object from the given object. If encoding or\n",
      " |  errors is specified, then the object must expose a data buffer\n",
      " |  that will be decoded using the given encoding and error handler.\n",
      " |  Otherwise, returns the result of object.__str__() (if defined)\n",
      " |  or repr(object).\n",
      " |  encoding defaults to sys.getdefaultencoding().\n",
      " |  errors defaults to 'strict'.\n",
      " |  \n",
      " |  Methods defined here:\n",
      " |  \n",
      " |  __add__(self, value, /)\n",
      " |      Return self+value.\n",
      " |  \n",
      " |  __contains__(self, key, /)\n",
      " |      Return key in self.\n",
      " |  \n",
      " |  __eq__(self, value, /)\n",
      " |      Return self==value.\n",
      " |  \n",
      " |  __format__(self, format_spec, /)\n",
      " |      Return a formatted version of the string as described by format_spec.\n",
      " |  \n",
      " |  __ge__(self, value, /)\n",
      " |      Return self>=value.\n",
      " |  \n",
      " |  __getattribute__(self, name, /)\n",
      " |      Return getattr(self, name).\n",
      " |  \n",
      " |  __getitem__(self, key, /)\n",
      " |      Return self[key].\n",
      " |  \n",
      " |  __getnewargs__(...)\n",
      " |  \n",
      " |  __gt__(self, value, /)\n",
      " |      Return self>value.\n",
      " |  \n",
      " |  __hash__(self, /)\n",
      " |      Return hash(self).\n",
      " |  \n",
      " |  __iter__(self, /)\n",
      " |      Implement iter(self).\n",
      " |  \n",
      " |  __le__(self, value, /)\n",
      " |      Return self<=value.\n",
      " |  \n",
      " |  __len__(self, /)\n",
      " |      Return len(self).\n",
      " |  \n",
      " |  __lt__(self, value, /)\n",
      " |      Return self<value.\n",
      " |  \n",
      " |  __mod__(self, value, /)\n",
      " |      Return self%value.\n",
      " |  \n",
      " |  __mul__(self, value, /)\n",
      " |      Return self*value.\n",
      " |  \n",
      " |  __ne__(self, value, /)\n",
      " |      Return self!=value.\n",
      " |  \n",
      " |  __repr__(self, /)\n",
      " |      Return repr(self).\n",
      " |  \n",
      " |  __rmod__(self, value, /)\n",
      " |      Return value%self.\n",
      " |  \n",
      " |  __rmul__(self, value, /)\n",
      " |      Return value*self.\n",
      " |  \n",
      " |  __sizeof__(self, /)\n",
      " |      Return the size of the string in memory, in bytes.\n",
      " |  \n",
      " |  __str__(self, /)\n",
      " |      Return str(self).\n",
      " |  \n",
      " |  capitalize(self, /)\n",
      " |      Return a capitalized version of the string.\n",
      " |      \n",
      " |      More specifically, make the first character have upper case and the rest lower\n",
      " |      case.\n",
      " |  \n",
      " |  casefold(self, /)\n",
      " |      Return a version of the string suitable for caseless comparisons.\n",
      " |  \n",
      " |  center(self, width, fillchar=' ', /)\n",
      " |      Return a centered string of length width.\n",
      " |      \n",
      " |      Padding is done using the specified fill character (default is a space).\n",
      " |  \n",
      " |  count(...)\n",
      " |      S.count(sub[, start[, end]]) -> int\n",
      " |      \n",
      " |      Return the number of non-overlapping occurrences of substring sub in\n",
      " |      string S[start:end].  Optional arguments start and end are\n",
      " |      interpreted as in slice notation.\n",
      " |  \n",
      " |  encode(self, /, encoding='utf-8', errors='strict')\n",
      " |      Encode the string using the codec registered for encoding.\n",
      " |      \n",
      " |      encoding\n",
      " |        The encoding in which to encode the string.\n",
      " |      errors\n",
      " |        The error handling scheme to use for encoding errors.\n",
      " |        The default is 'strict' meaning that encoding errors raise a\n",
      " |        UnicodeEncodeError.  Other possible values are 'ignore', 'replace' and\n",
      " |        'xmlcharrefreplace' as well as any other name registered with\n",
      " |        codecs.register_error that can handle UnicodeEncodeErrors.\n",
      " |  \n",
      " |  endswith(...)\n",
      " |      S.endswith(suffix[, start[, end]]) -> bool\n",
      " |      \n",
      " |      Return True if S ends with the specified suffix, False otherwise.\n",
      " |      With optional start, test S beginning at that position.\n",
      " |      With optional end, stop comparing S at that position.\n",
      " |      suffix can also be a tuple of strings to try.\n",
      " |  \n",
      " |  expandtabs(self, /, tabsize=8)\n",
      " |      Return a copy where all tab characters are expanded using spaces.\n",
      " |      \n",
      " |      If tabsize is not given, a tab size of 8 characters is assumed.\n",
      " |  \n",
      " |  find(...)\n",
      " |      S.find(sub[, start[, end]]) -> int\n",
      " |      \n",
      " |      Return the lowest index in S where substring sub is found,\n",
      " |      such that sub is contained within S[start:end].  Optional\n",
      " |      arguments start and end are interpreted as in slice notation.\n",
      " |      \n",
      " |      Return -1 on failure.\n",
      " |  \n",
      " |  format(...)\n",
      " |      S.format(*args, **kwargs) -> str\n",
      " |      \n",
      " |      Return a formatted version of S, using substitutions from args and kwargs.\n",
      " |      The substitutions are identified by braces ('{' and '}').\n",
      " |  \n",
      " |  format_map(...)\n",
      " |      S.format_map(mapping) -> str\n",
      " |      \n",
      " |      Return a formatted version of S, using substitutions from mapping.\n",
      " |      The substitutions are identified by braces ('{' and '}').\n",
      " |  \n",
      " |  index(...)\n",
      " |      S.index(sub[, start[, end]]) -> int\n",
      " |      \n",
      " |      Return the lowest index in S where substring sub is found,\n",
      " |      such that sub is contained within S[start:end].  Optional\n",
      " |      arguments start and end are interpreted as in slice notation.\n",
      " |      \n",
      " |      Raises ValueError when the substring is not found.\n",
      " |  \n",
      " |  isalnum(self, /)\n",
      " |      Return True if the string is an alpha-numeric string, False otherwise.\n",
      " |      \n",
      " |      A string is alpha-numeric if all characters in the string are alpha-numeric and\n",
      " |      there is at least one character in the string.\n",
      " |  \n",
      " |  isalpha(self, /)\n",
      " |      Return True if the string is an alphabetic string, False otherwise.\n",
      " |      \n",
      " |      A string is alphabetic if all characters in the string are alphabetic and there\n",
      " |      is at least one character in the string.\n",
      " |  \n",
      " |  isascii(self, /)\n",
      " |      Return True if all characters in the string are ASCII, False otherwise.\n",
      " |      \n",
      " |      ASCII characters have code points in the range U+0000-U+007F.\n",
      " |      Empty string is ASCII too.\n",
      " |  \n",
      " |  isdecimal(self, /)\n",
      " |      Return True if the string is a decimal string, False otherwise.\n",
      " |      \n",
      " |      A string is a decimal string if all characters in the string are decimal and\n",
      " |      there is at least one character in the string.\n",
      " |  \n",
      " |  isdigit(self, /)\n",
      " |      Return True if the string is a digit string, False otherwise.\n",
      " |      \n",
      " |      A string is a digit string if all characters in the string are digits and there\n",
      " |      is at least one character in the string.\n",
      " |  \n",
      " |  isidentifier(self, /)\n",
      " |      Return True if the string is a valid Python identifier, False otherwise.\n",
      " |      \n",
      " |      Call keyword.iskeyword(s) to test whether string s is a reserved identifier,\n",
      " |      such as \"def\" or \"class\".\n",
      " |  \n",
      " |  islower(self, /)\n",
      " |      Return True if the string is a lowercase string, False otherwise.\n",
      " |      \n",
      " |      A string is lowercase if all cased characters in the string are lowercase and\n",
      " |      there is at least one cased character in the string.\n",
      " |  \n",
      " |  isnumeric(self, /)\n",
      " |      Return True if the string is a numeric string, False otherwise.\n",
      " |      \n",
      " |      A string is numeric if all characters in the string are numeric and there is at\n",
      " |      least one character in the string.\n",
      " |  \n",
      " |  isprintable(self, /)\n",
      " |      Return True if the string is printable, False otherwise.\n",
      " |      \n",
      " |      A string is printable if all of its characters are considered printable in\n",
      " |      repr() or if it is empty.\n",
      " |  \n",
      " |  isspace(self, /)\n",
      " |      Return True if the string is a whitespace string, False otherwise.\n",
      " |      \n",
      " |      A string is whitespace if all characters in the string are whitespace and there\n",
      " |      is at least one character in the string.\n",
      " |  \n",
      " |  istitle(self, /)\n",
      " |      Return True if the string is a title-cased string, False otherwise.\n",
      " |      \n",
      " |      In a title-cased string, upper- and title-case characters may only\n",
      " |      follow uncased characters and lowercase characters only cased ones.\n",
      " |  \n",
      " |  isupper(self, /)\n",
      " |      Return True if the string is an uppercase string, False otherwise.\n",
      " |      \n",
      " |      A string is uppercase if all cased characters in the string are uppercase and\n",
      " |      there is at least one cased character in the string.\n",
      " |  \n",
      " |  join(self, iterable, /)\n",
      " |      Concatenate any number of strings.\n",
      " |      \n",
      " |      The string whose method is called is inserted in between each given string.\n",
      " |      The result is returned as a new string.\n",
      " |      \n",
      " |      Example: '.'.join(['ab', 'pq', 'rs']) -> 'ab.pq.rs'\n",
      " |  \n",
      " |  ljust(self, width, fillchar=' ', /)\n",
      " |      Return a left-justified string of length width.\n",
      " |      \n",
      " |      Padding is done using the specified fill character (default is a space).\n",
      " |  \n",
      " |  lower(self, /)\n",
      " |      Return a copy of the string converted to lowercase.\n",
      " |  \n",
      " |  lstrip(self, chars=None, /)\n",
      " |      Return a copy of the string with leading whitespace removed.\n",
      " |      \n",
      " |      If chars is given and not None, remove characters in chars instead.\n",
      " |  \n",
      " |  partition(self, sep, /)\n",
      " |      Partition the string into three parts using the given separator.\n",
      " |      \n",
      " |      This will search for the separator in the string.  If the separator is found,\n",
      " |      returns a 3-tuple containing the part before the separator, the separator\n",
      " |      itself, and the part after it.\n",
      " |      \n",
      " |      If the separator is not found, returns a 3-tuple containing the original string\n",
      " |      and two empty strings.\n",
      " |  \n",
      " |  removeprefix(self, prefix, /)\n",
      " |      Return a str with the given prefix string removed if present.\n",
      " |      \n",
      " |      If the string starts with the prefix string, return string[len(prefix):].\n",
      " |      Otherwise, return a copy of the original string.\n",
      " |  \n",
      " |  removesuffix(self, suffix, /)\n",
      " |      Return a str with the given suffix string removed if present.\n",
      " |      \n",
      " |      If the string ends with the suffix string and that suffix is not empty,\n",
      " |      return string[:-len(suffix)]. Otherwise, return a copy of the original\n",
      " |      string.\n",
      " |  \n",
      " |  replace(self, old, new, count=-1, /)\n",
      " |      Return a copy with all occurrences of substring old replaced by new.\n",
      " |      \n",
      " |        count\n",
      " |          Maximum number of occurrences to replace.\n",
      " |          -1 (the default value) means replace all occurrences.\n",
      " |      \n",
      " |      If the optional argument count is given, only the first count occurrences are\n",
      " |      replaced.\n",
      " |  \n",
      " |  rfind(...)\n",
      " |      S.rfind(sub[, start[, end]]) -> int\n",
      " |      \n",
      " |      Return the highest index in S where substring sub is found,\n",
      " |      such that sub is contained within S[start:end].  Optional\n",
      " |      arguments start and end are interpreted as in slice notation.\n",
      " |      \n",
      " |      Return -1 on failure.\n",
      " |  \n",
      " |  rindex(...)\n",
      " |      S.rindex(sub[, start[, end]]) -> int\n",
      " |      \n",
      " |      Return the highest index in S where substring sub is found,\n",
      " |      such that sub is contained within S[start:end].  Optional\n",
      " |      arguments start and end are interpreted as in slice notation.\n",
      " |      \n",
      " |      Raises ValueError when the substring is not found.\n",
      " |  \n",
      " |  rjust(self, width, fillchar=' ', /)\n",
      " |      Return a right-justified string of length width.\n",
      " |      \n",
      " |      Padding is done using the specified fill character (default is a space).\n",
      " |  \n",
      " |  rpartition(self, sep, /)\n",
      " |      Partition the string into three parts using the given separator.\n",
      " |      \n",
      " |      This will search for the separator in the string, starting at the end. If\n",
      " |      the separator is found, returns a 3-tuple containing the part before the\n",
      " |      separator, the separator itself, and the part after it.\n",
      " |      \n",
      " |      If the separator is not found, returns a 3-tuple containing two empty strings\n",
      " |      and the original string.\n",
      " |  \n",
      " |  rsplit(self, /, sep=None, maxsplit=-1)\n",
      " |      Return a list of the substrings in the string, using sep as the separator string.\n",
      " |      \n",
      " |        sep\n",
      " |          The separator used to split the string.\n",
      " |      \n",
      " |          When set to None (the default value), will split on any whitespace\n",
      " |          character (including \\n \\r \\t \\f and spaces) and will discard\n",
      " |          empty strings from the result.\n",
      " |        maxsplit\n",
      " |          Maximum number of splits (starting from the left).\n",
      " |          -1 (the default value) means no limit.\n",
      " |      \n",
      " |      Splitting starts at the end of the string and works to the front.\n",
      " |  \n",
      " |  rstrip(self, chars=None, /)\n",
      " |      Return a copy of the string with trailing whitespace removed.\n",
      " |      \n",
      " |      If chars is given and not None, remove characters in chars instead.\n",
      " |  \n",
      " |  split(self, /, sep=None, maxsplit=-1)\n",
      " |      Return a list of the substrings in the string, using sep as the separator string.\n",
      " |      \n",
      " |        sep\n",
      " |          The separator used to split the string.\n",
      " |      \n",
      " |          When set to None (the default value), will split on any whitespace\n",
      " |          character (including \\n \\r \\t \\f and spaces) and will discard\n",
      " |          empty strings from the result.\n",
      " |        maxsplit\n",
      " |          Maximum number of splits (starting from the left).\n",
      " |          -1 (the default value) means no limit.\n",
      " |      \n",
      " |      Note, str.split() is mainly useful for data that has been intentionally\n",
      " |      delimited.  With natural text that includes punctuation, consider using\n",
      " |      the regular expression module.\n",
      " |  \n",
      " |  splitlines(self, /, keepends=False)\n",
      " |      Return a list of the lines in the string, breaking at line boundaries.\n",
      " |      \n",
      " |      Line breaks are not included in the resulting list unless keepends is given and\n",
      " |      true.\n",
      " |  \n",
      " |  startswith(...)\n",
      " |      S.startswith(prefix[, start[, end]]) -> bool\n",
      " |      \n",
      " |      Return True if S starts with the specified prefix, False otherwise.\n",
      " |      With optional start, test S beginning at that position.\n",
      " |      With optional end, stop comparing S at that position.\n",
      " |      prefix can also be a tuple of strings to try.\n",
      " |  \n",
      " |  strip(self, chars=None, /)\n",
      " |      Return a copy of the string with leading and trailing whitespace removed.\n",
      " |      \n",
      " |      If chars is given and not None, remove characters in chars instead.\n",
      " |  \n",
      " |  swapcase(self, /)\n",
      " |      Convert uppercase characters to lowercase and lowercase characters to uppercase.\n",
      " |  \n",
      " |  title(self, /)\n",
      " |      Return a version of the string where each word is titlecased.\n",
      " |      \n",
      " |      More specifically, words start with uppercased characters and all remaining\n",
      " |      cased characters have lower case.\n",
      " |  \n",
      " |  translate(self, table, /)\n",
      " |      Replace each character in the string using the given translation table.\n",
      " |      \n",
      " |        table\n",
      " |          Translation table, which must be a mapping of Unicode ordinals to\n",
      " |          Unicode ordinals, strings, or None.\n",
      " |      \n",
      " |      The table must implement lookup/indexing via __getitem__, for instance a\n",
      " |      dictionary or list.  If this operation raises LookupError, the character is\n",
      " |      left untouched.  Characters mapped to None are deleted.\n",
      " |  \n",
      " |  upper(self, /)\n",
      " |      Return a copy of the string converted to uppercase.\n",
      " |  \n",
      " |  zfill(self, width, /)\n",
      " |      Pad a numeric string with zeros on the left, to fill a field of the given width.\n",
      " |      \n",
      " |      The string is never truncated.\n",
      " |  \n",
      " |  ----------------------------------------------------------------------\n",
      " |  Static methods defined here:\n",
      " |  \n",
      " |  __new__(*args, **kwargs) from builtins.type\n",
      " |      Create and return a new object.  See help(type) for accurate signature.\n",
      " |  \n",
      " |  maketrans(...)\n",
      " |      Return a translation table usable for str.translate().\n",
      " |      \n",
      " |      If there is only one argument, it must be a dictionary mapping Unicode\n",
      " |      ordinals (integers) or characters to Unicode ordinals, strings or None.\n",
      " |      Character keys will be then converted to ordinals.\n",
      " |      If there are two arguments, they must be strings of equal length, and\n",
      " |      in the resulting dictionary, each character in x will be mapped to the\n",
      " |      character at the same position in y. If there is a third argument, it\n",
      " |      must be a string, whose characters will be mapped to None in the result.\n",
      "\n",
      "None\n",
      "Help on method_descriptor:\n",
      "\n",
      "lower(self, /)\n",
      "    Return a copy of the string converted to lowercase.\n",
      "\n",
      "None\n"
     ]
    }
   ],
   "source": [
    "a = 'Nitin Kumar Sharma'\n",
    "print(a)  # Prints the initial string\n",
    "\n",
    "a = 'Nitin’s Dictionary'  # Corrected string assignment without escape character\n",
    "print(len(a))  # Prints the length of the string\n",
    "print(a[0])  # Prints the first character\n",
    "print(a[10])  # Prints the 11th character\n",
    "\n",
    "# Ensure index is within range; 'a[20]' might be out of range for this string\n",
    "if len(a) > 20:\n",
    "    print(a[20])  # Prints the 21st character\n",
    "else:\n",
    "    print(\"Index 20 is out of range\")\n",
    "\n",
    "print(a[0:6])  # Prints characters from index 0 to 5\n",
    "print(a[6:13])  # Prints characters from index 6 to 12\n",
    "\n",
    "print(a.lower())  # Converts the string to lowercase\n",
    "print(a.upper())  # Converts the string to uppercase\n",
    "\n",
    "print(a.count('Hello'))  # Counts occurrences of 'Hello' in the string\n",
    "print(a.count('Nitin'))  # Counts occurrences of 'Nitin' in the string\n",
    "print(a.count('i'))  # Counts occurrences of 'i' in the string\n",
    "\n",
    "print(a.find('i'))  # Finds the first occurrence of 'i'\n",
    "print(a.find('Dictionary'))  # Finds the first occurrence of 'Dictionary'\n",
    "\n",
    "b = a.replace('Nitin', 'Kapil')  # Replaces 'Nitin' with 'Kapil'\n",
    "print(b)  # Prints the new string\n",
    "\n",
    "# Concatenation examples\n",
    "a = 'Nitin'\n",
    "b = 'Kumar'\n",
    "c = 'Sharma'\n",
    "\n",
    "d = a + b + c\n",
    "print(d)  # NitinKumarSharma\n",
    "\n",
    "d = a + ',' + b + ',' + c\n",
    "print(d)  # Nitin,Kumar,Sharma\n",
    "\n",
    "d = a + ',' + b + ',' + c + '. Welcome!'\n",
    "print(d)  # Nitin,Kumar,Sharma. Welcome!\n",
    "\n",
    "d = '{}, {}, {}. Welcome!'.format(a, b, c)\n",
    "print(d)  # Nitin, Kumar, Sharma. Welcome!\n",
    "\n",
    "d = f'{a}, {b}, {c}. Welcome!'\n",
    "print(d)  # Nitin, Kumar, Sharma. Welcome!\n",
    "\n",
    "# Exploring string methods\n",
    "print(dir(a))  # Prints a list of valid attributes for the string object\n",
    "\n",
    "# Correct print statements for help functions\n",
    "print(help(str))\n",
    "print(help(str.lower))\n"
   ]
  },
  {
   "cell_type": "code",
   "execution_count": 79,
   "id": "8aac3bdc-fed9-4ebc-9f2c-afe0042673c8",
   "metadata": {},
   "outputs": [
    {
     "name": "stdout",
     "output_type": "stream",
     "text": [
      "The file 'new.txt' does not exist.\n"
     ]
    }
   ],
   "source": [
    "import os\n",
    "\n",
    "filename = \"new.txt\"\n",
    "\n",
    "# Check if the file exists before trying to open it\n",
    "if os.path.isfile(filename):\n",
    "    # Opening a file in read mode and printing its name and mode, then closing it\n",
    "    f = open(filename, \"r\")\n",
    "    print(f.name)  # Prints the name of the file\n",
    "    print(f.mode)  # Prints the mode in which the file is opened\n",
    "    f.close()  # Closes the file\n",
    "\n",
    "    # Using 'with' statement to open a file, ensuring it's closed automatically\n",
    "    with open(filename, 'r') as f:\n",
    "        pass  # No operation, just opening and closing the file\n",
    "\n",
    "    # Since 'f' is now closed, we check the mode and closed status outside the 'with' block\n",
    "    print(f.mode)  # Prints the mode (still accessible)\n",
    "    print(f.closed)  # Checks if the file is closed (True)\n",
    "\n",
    "    # Attempting to read from a closed file will raise an error\n",
    "    try:\n",
    "        print(f.read())  # This will raise an exception since the file is closed\n",
    "    except ValueError as e:\n",
    "        print(e)  # Prints the error message\n",
    "\n",
    "    # Properly reading the content of the file using 'with' statement\n",
    "    with open(filename, 'r') as f:\n",
    "        f_content = f.read()  # Reads the entire content of the file\n",
    "        print(f_content)  # Prints the content of the file\n",
    "\n",
    "        # Demonstrating other read methods\n",
    "        f.seek(0)  # Resetting file pointer to the beginning\n",
    "        f_content_lines = f.readlines()  # Reads the file line by line into a list\n",
    "        print(f_content_lines)  # Prints the list of lines\n",
    "\n",
    "        f.seek(0)  # Resetting file pointer to the beginning again\n",
    "        f_first_line = f.readline()  # Reads the first line of the file\n",
    "        print(f_first_line)  # Prints the first line\n",
    "\n",
    "    # The 'with' statement ensures 'f' is closed after the block\n",
    "    print(f.closed)  # Checks if the file is closed (True)\n",
    "else:\n",
    "    print(f\"The file '{filename}' does not exist.\")\n"
   ]
  },
  {
   "cell_type": "code",
   "execution_count": 80,
   "id": "0f8b891b-6146-482f-9547-0d860c50a556",
   "metadata": {},
   "outputs": [
    {
     "name": "stdout",
     "output_type": "stream",
     "text": [
      "[0, 2, 4, 6, 8]\n"
     ]
    }
   ],
   "source": [
    "y = []\n",
    "for x in range(0,9,2):\n",
    "    y.append(x)\n",
    "print(y)"
   ]
  },
  {
   "cell_type": "code",
   "execution_count": 81,
   "id": "54f0d1de-e085-482f-ab32-6941d3ec1fda",
   "metadata": {},
   "outputs": [
    {
     "name": "stdout",
     "output_type": "stream",
     "text": [
      "[0]\n",
      "[0, 2]\n",
      "[0, 2, 4]\n",
      "[0, 2, 4, 6]\n",
      "[0, 2, 4, 6, 8]\n"
     ]
    }
   ],
   "source": [
    "c\n"
   ]
  },
  {
   "cell_type": "code",
   "execution_count": null,
   "id": "431e0a33-4ee6-4d0e-9069-b3abb72c73fd",
   "metadata": {},
   "outputs": [],
   "source": []
  }
 ],
 "metadata": {
  "kernelspec": {
   "display_name": "Python 3 (ipykernel)",
   "language": "python",
   "name": "python3"
  },
  "language_info": {
   "codemirror_mode": {
    "name": "ipython",
    "version": 3
   },
   "file_extension": ".py",
   "mimetype": "text/x-python",
   "name": "python",
   "nbconvert_exporter": "python",
   "pygments_lexer": "ipython3",
   "version": "3.11.7"
  }
 },
 "nbformat": 4,
 "nbformat_minor": 5
}
